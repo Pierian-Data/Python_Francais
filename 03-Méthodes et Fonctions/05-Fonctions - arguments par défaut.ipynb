{
 "cells": [
  {
   "cell_type": "markdown",
   "metadata": {},
   "source": [
    "# Procédures et fonctions\n",
    "## Arguments par défaut\n",
    "\n",
    "Le fait de mettre une valeur par défaut permet de rendre ce paramètre optionel"
   ]
  },
  {
   "cell_type": "code",
   "execution_count": 3,
   "metadata": {
    "collapsed": false
   },
   "outputs": [
    {
     "name": "stdout",
     "output_type": "stream",
     "text": [
      "La valeur reçue est : 5\n",
      "La valeur reçue est : 2\n",
      "La valeur reçue est : 6\n",
      "La valeur reçue est : 10\n",
      "La valeur reçue est : 5\n"
     ]
    }
   ],
   "source": [
    "def ma_fonction(arg=5):\n",
    "    print(\"La valeur reçue est : {}\".format(arg))\n",
    "    \n",
    "ma_fonction()\n",
    "ma_fonction(2)\n",
    "ma_fonction(6)\n",
    "ma_fonction(10)\n",
    "ma_fonction()\n"
   ]
  },
  {
   "cell_type": "markdown",
   "metadata": {},
   "source": [
    "Il est bien entendu possible de mixer paramètres optionels et obligatoires"
   ]
  },
  {
   "cell_type": "code",
   "execution_count": 5,
   "metadata": {
    "collapsed": false
   },
   "outputs": [
    {
     "name": "stdout",
     "output_type": "stream",
     "text": [
      "Les valeurs reçues sont : 1 et 5\n",
      "Les valeurs reçues sont : 1 et 2\n",
      "Les valeurs reçues sont : 1 et 6\n"
     ]
    },
    {
     "ename": "TypeError",
     "evalue": "ma_fonction() missing 1 required positional argument: 'arg1'",
     "output_type": "error",
     "traceback": [
      "\u001b[0;31m---------------------------------------------------------------------------\u001b[0m",
      "\u001b[0;31mTypeError\u001b[0m                                 Traceback (most recent call last)",
      "\u001b[0;32m<ipython-input-5-922775bb5533>\u001b[0m in \u001b[0;36m<module>\u001b[0;34m()\u001b[0m\n\u001b[1;32m      5\u001b[0m \u001b[0mma_fonction\u001b[0m\u001b[0;34m(\u001b[0m\u001b[0;36m1\u001b[0m\u001b[0;34m,\u001b[0m\u001b[0;36m2\u001b[0m\u001b[0;34m)\u001b[0m\u001b[0;34m\u001b[0m\u001b[0m\n\u001b[1;32m      6\u001b[0m \u001b[0mma_fonction\u001b[0m\u001b[0;34m(\u001b[0m\u001b[0;36m1\u001b[0m\u001b[0;34m,\u001b[0m\u001b[0;36m6\u001b[0m\u001b[0;34m)\u001b[0m\u001b[0;34m\u001b[0m\u001b[0m\n\u001b[0;32m----> 7\u001b[0;31m \u001b[0mma_fonction\u001b[0m\u001b[0;34m(\u001b[0m\u001b[0;34m)\u001b[0m\u001b[0;34m\u001b[0m\u001b[0m\n\u001b[0m",
      "\u001b[0;31mTypeError\u001b[0m: ma_fonction() missing 1 required positional argument: 'arg1'"
     ]
    }
   ],
   "source": [
    "def ma_fonction(arg1, arg2=5):\n",
    "    print(\"Les valeurs reçues sont : {} et {}\".format(arg1, arg2))\n",
    "    \n",
    "ma_fonction(1)\n",
    "ma_fonction(1,2)\n",
    "ma_fonction(1,6)\n",
    "ma_fonction()\n"
   ]
  },
  {
   "cell_type": "markdown",
   "metadata": {},
   "source": [
    "Il faut mettre les arguments optionels en premier"
   ]
  },
  {
   "cell_type": "code",
   "execution_count": 6,
   "metadata": {
    "collapsed": false
   },
   "outputs": [
    {
     "ename": "SyntaxError",
     "evalue": "non-default argument follows default argument (<ipython-input-6-813b951fbb31>, line 1)",
     "output_type": "error",
     "traceback": [
      "\u001b[0;36m  File \u001b[0;32m\"<ipython-input-6-813b951fbb31>\"\u001b[0;36m, line \u001b[0;32m1\u001b[0m\n\u001b[0;31m    def ma_fonction(arg1 = 5, arg2):\u001b[0m\n\u001b[0m                   ^\u001b[0m\n\u001b[0;31mSyntaxError\u001b[0m\u001b[0;31m:\u001b[0m non-default argument follows default argument\n"
     ]
    }
   ],
   "source": [
    "def ma_fonction(arg1 = 5, arg2):\n",
    "    print(\"Les valeurs reçues sont : {} et {}\".format(arg1, arg2))\n",
    "\n",
    "ma_fonction(1,2)\n",
    "ma_fonction()"
   ]
  },
  {
   "cell_type": "markdown",
   "metadata": {},
   "source": [
    "On peut aussi utiliser une fonction pour alimenter la valeur par défaut mais la valeur sera calculée une seule fois au moment de la définition de la fonction.\n",
    "Ce qui produit cette effet :"
   ]
  },
  {
   "cell_type": "code",
   "execution_count": 13,
   "metadata": {
    "collapsed": false
   },
   "outputs": [
    {
     "name": "stdout",
     "output_type": "stream",
     "text": [
      "2018-06-03T22:15:34.418756: Voici un message\n",
      "2018-06-03T22:15:34.418756: Voici un autre message\n",
      "2018-06-03T22:15:34.418756: Et encore un message\n"
     ]
    }
   ],
   "source": [
    "import datetime as dt\n",
    "\n",
    "def log_time(message, time=dt.datetime.now()):\n",
    "    print(\"{}: {}\".format(time.isoformat(), message))\n",
    "log_time(\"Voici un message\")\n",
    "log_time(\"Voici un autre message\")\n",
    "log_time(\"Et encore un message\")\n",
    "log_time(\"Le timestamp affiche toujours la même valeur\")"
   ]
  },
  {
   "cell_type": "markdown",
   "metadata": {},
   "source": [
    "On va devoir utiliser une petite astuce pour éviter ce problème"
   ]
  },
  {
   "cell_type": "code",
   "execution_count": 14,
   "metadata": {
    "collapsed": false
   },
   "outputs": [
    {
     "name": "stdout",
     "output_type": "stream",
     "text": [
      "2018-06-03T22:17:05.844472: Voici un message\n",
      "2018-06-03T22:17:05.845867: Voici un autre message\n",
      "2018-06-03T22:17:05.846033: Et encore un message\n",
      "2018-06-03T22:17:05.846155: Le timestamp affiche la bonne valeur\n"
     ]
    }
   ],
   "source": [
    "import datetime as dt\n",
    "\n",
    "def log_time(message, time=None):\n",
    "    if time is None:\n",
    "        time=dt.datetime.now()\n",
    "    print(\"{0}: {1}\".format(time.isoformat(), message))\n",
    "log_time(\"Voici un message\")\n",
    "log_time(\"Voici un autre message\")\n",
    "log_time(\"Et encore un message\")\n",
    "log_time(\"Le timestamp affiche la bonne valeur\")"
   ]
  },
  {
   "cell_type": "markdown",
   "metadata": {},
   "source": [
    "## Liste ou *args\n",
    "Si on a un nombre variable d'éléments à passer en variable on pourrait penser à utiliser une liste, mais cette solution n'est pas très souple."
   ]
  },
  {
   "cell_type": "code",
   "execution_count": 19,
   "metadata": {
    "collapsed": false
   },
   "outputs": [
    {
     "name": "stdout",
     "output_type": "stream",
     "text": [
      "Le premier paramètre: spam\n",
      "Le ou les paramètres passés par la liste : python\n",
      "Le ou les paramètres passés par la liste : eggs\n",
      "Le ou les paramètres passés par la liste : test\n"
     ]
    }
   ],
   "source": [
    "def test_var_args(f_arg, liste):\n",
    "    print(\"Le premier paramètre:\", f_arg)\n",
    "    for item in liste:\n",
    "        print(\"Le ou les paramètres passés par la liste :\", item)\n",
    "        \n",
    "l = ['python','eggs','test']\n",
    "test_var_args('spam',l)"
   ]
  },
  {
   "cell_type": "markdown",
   "metadata": {},
   "source": [
    "On peut utiliser *args pour avoir une solution beaucoup plus simple à mettre en oeuvre"
   ]
  },
  {
   "cell_type": "code",
   "execution_count": 25,
   "metadata": {
    "collapsed": false
   },
   "outputs": [
    {
     "name": "stdout",
     "output_type": "stream",
     "text": [
      "\n",
      "Le premier paramètre: test1\n",
      "Le ou les paramètres passés par *args : spam\n",
      "Le ou les paramètres passés par *args : python\n",
      "Le ou les paramètres passés par *args : eggs\n",
      "\n",
      "Le premier paramètre: test2\n",
      "Le ou les paramètres passés par *args : spam\n",
      "Le ou les paramètres passés par *args : python\n",
      "Le ou les paramètres passés par *args : eggs\n",
      "Le ou les paramètres passés par *args : test\n"
     ]
    }
   ],
   "source": [
    "def test_var_args(arg, *ma_liste):\n",
    "    print(\"\\nLe premier paramètre:\", arg)\n",
    "    for item in ma_liste:\n",
    "        print(\"Le ou les paramètres passés par *args :\", item)\n",
    "\n",
    "test_var_args('test1', 'spam','python','eggs')\n",
    "\n",
    "test_var_args('test2', 'spam','python','eggs','test')\n"
   ]
  },
  {
   "cell_type": "markdown",
   "metadata": {},
   "source": [
    "## **kwargs\n",
    "Cette fois ce n'est pas une liste mais les éléments d'un dictionnaire clef:valeur qui seront transmis."
   ]
  },
  {
   "cell_type": "code",
   "execution_count": 29,
   "metadata": {
    "collapsed": false
   },
   "outputs": [
    {
     "name": "stdout",
     "output_type": "stream",
     "text": [
      "\n",
      "---- Prenom+nom ----\n",
      "mon nom est Bond, James Bond\n",
      "\n",
      "---- Seulement un prenom ----\n",
      "Mon prenom est James\n",
      "\n",
      "---- Seulement un nom ----\n",
      "Mon nom est Bond\n",
      "\n",
      "---- ni nom, ni prenom ----\n",
      "Je ne suis personne...\n"
     ]
    }
   ],
   "source": [
    "def presentation(title, **kwargs):\n",
    "    print ('\\n---- {} ----'.format(title))\n",
    "\n",
    "    name=kwargs.get('name', None)\n",
    "    firstname=kwargs.get('firstname', None)\n",
    "\n",
    "    if (name and firstname):\n",
    "        print('mon nom est {}, {} {}'.format(name, firstname, name))\n",
    "    elif (firstname and not(name)):\n",
    "        print('Mon prenom est {}'.format(firstname))\n",
    "    elif (not(firstname) and name):\n",
    "        print('Mon nom est {}'.format(name))\n",
    "    else:\n",
    "        print('Je ne suis personne...')\n",
    "\n",
    "if __name__ == \"__main__\":\n",
    "    presentation('Prenom+nom', firstname='James', name='Bond')\n",
    "    presentation('Seulement un prenom', firstname='James')\n",
    "    presentation('Seulement un nom', name='Bond')\n",
    "    presentation('ni nom, ni prenom')"
   ]
  },
  {
   "cell_type": "code",
   "execution_count": null,
   "metadata": {
    "collapsed": true
   },
   "outputs": [],
   "source": []
  }
 ],
 "metadata": {
  "kernelspec": {
   "display_name": "Python 3",
   "language": "python",
   "name": "python3"
  },
  "language_info": {
   "codemirror_mode": {
    "name": "ipython",
    "version": 3
   },
   "file_extension": ".py",
   "mimetype": "text/x-python",
   "name": "python",
   "nbconvert_exporter": "python",
   "pygments_lexer": "ipython3",
   "version": "3.6.0"
  }
 },
 "nbformat": 4,
 "nbformat_minor": 2
}
