{
 "cells": [
  {
   "cell_type": "markdown",
   "metadata": {},
   "source": [
    "# Les instructions imbriquées et le \"Scope\"\n",
    "\n",
    "Maintenant que nous avons vu comment écrire de nos propres fonctions, il est important de comprendre comment Python traite les noms de variables lorsque vous les assignez. Lorsque vous créez un nom de variable en Python, le nom est stocké dans un *espace de nom*. Les noms de variable ont également une *portée*, la portée détermine la visibilité de ce nom de variable dans autres parties du code.\n",
    "\n",
    "Commençons avec une petite expérience :"
   ]
  },
  {
   "cell_type": "code",
   "execution_count": 5,
   "metadata": {},
   "outputs": [
    {
     "name": "stdout",
     "output_type": "stream",
     "text": [
      "25\n",
      "50\n"
     ]
    }
   ],
   "source": [
    "x = 25\n",
    "\n",
    "def afficher():\n",
    "    x = 50\n",
    "    return x\n",
    "\n",
    "print (x)\n",
    "print (afficher())"
   ]
  },
  {
   "cell_type": "markdown",
   "metadata": {},
   "source": [
    "D'après vous, quelle est la sortie de afficher() ? 25 ou 50 ?\n",
    "La sortie du print, donc la variable x *en direct* ? 25 ou 50 ?"
   ]
  },
  {
   "cell_type": "code",
   "execution_count": 6,
   "metadata": {},
   "outputs": [
    {
     "name": "stdout",
     "output_type": "stream",
     "text": [
      "25\n"
     ]
    }
   ],
   "source": [
    "print (x)"
   ]
  },
  {
   "cell_type": "code",
   "execution_count": 7,
   "metadata": {},
   "outputs": [
    {
     "name": "stdout",
     "output_type": "stream",
     "text": [
      "50\n"
     ]
    }
   ],
   "source": [
    "print (afficher())"
   ]
  },
  {
   "cell_type": "markdown",
   "metadata": {},
   "source": [
    "Intéressant non ?\n",
    "Comment Python fait-il pour déterminer à quel **x** vous faites référence dans votre code ? C'est là que l'idée de la portée entre en jeu. Python a un ensemble de règles qu'il suit pour décider quelles variables (comme x dans ce cas) vous référencez dans votre code.\n",
    "Regardons ces règles les unes après les autres :"
   ]
  },
  {
   "cell_type": "markdown",
   "metadata": {
    "collapsed": true
   },
   "source": [
    "La portée dans le code est un concept qu'il est très important de comprendre afin d'affecter et d'appeler correctement les variables.\n",
    "\n",
    "En termes simples, le concept de portée peut être décrit par 3 règles générales :\n",
    "\n",
    "1. Assigner un nom va créer ou modifier les variables locales par défaut.\n",
    "2. Une référence à un nom va chercher dans au plus 4 domaines, qui sont :\n",
    "    * le domaine local de la fonction\n",
    "    * le domaine de la fonction appelante\n",
    "    * le domaine global\n",
    "    * le domaine des variables intégrées de Python\n",
    "3. Les variables déclarées dans le contexte global peuvent êtres assignées (lues) dans n'importe quel module ou fonction appelés, une fonction peut donc accéder au contenu d'une variable globale définie en dehors de cette fonction.\n",
    "\n",
    "La règle #2 est définie dans la règle *LEGB*.\n",
    "\n",
    "**La règle LEGB.**\n",
    "\n",
    "L: Local — Les noms assignés à l'intérieur d'une fonction (def or lambda), et qui ne sont pas déclarés global dans cette fonction.\n",
    "\n",
    "E: Enclosing function locals — Variables locales de la fonction appelante - Nom utilisés en local dans une des fonctions appelante (def or lambda), de l'intérieur vers l'extérieur.\n",
    "\n",
    "G: Global (module) — Noms assignés au niveau le plus au du module, ou déclarés comme global dans une des fonctions (def ou lambda) de ce module.\n",
    "\n",
    "B: Built-in (Python) — Noms préassignés dans les modules et fonctions intégrés de Python : open,range,SyntaxError,..."
   ]
  },
  {
   "cell_type": "markdown",
   "metadata": {},
   "source": [
    "## Quelques exemples simples de LEGB\n",
    "\n",
    "### Local"
   ]
  },
  {
   "cell_type": "code",
   "execution_count": 8,
   "metadata": {},
   "outputs": [],
   "source": [
    "# x est local :\n",
    "f = lambda x:x**2"
   ]
  },
  {
   "cell_type": "markdown",
   "metadata": {},
   "source": [
    "### Local de la fonction appelante\n",
    "\n",
    "Ce qui se produit quand nous avons une fonction à l'intérieur d'une fonction (fonctions imbriquées)"
   ]
  },
  {
   "cell_type": "code",
   "execution_count": 11,
   "metadata": {},
   "outputs": [
    {
     "name": "stdout",
     "output_type": "stream",
     "text": [
      "Bonjour Sammy\n"
     ]
    }
   ],
   "source": [
    "nom = 'Cette variable est globale'\n",
    "\n",
    "def bienvenue():\n",
    "    # Fonction appelante\n",
    "    nom = 'Sammy'\n",
    "    \n",
    "    def bonjour():\n",
    "        print ('Bonjour ' + nom)\n",
    "    \n",
    "    bonjour()\n",
    "\n",
    "bienvenue()"
   ]
  },
  {
   "cell_type": "markdown",
   "metadata": {},
   "source": [
    "Remarquez comment 'Sammy' a été utilisé, par la fonction bonjour() qui est elle-même à l'intérieur de la fonction bienvenue() !"
   ]
  },
  {
   "cell_type": "markdown",
   "metadata": {},
   "source": [
    "### Global\n",
    "\n",
    "Heureusement dans Jupyter une façon rapide de vérifier les variables globales est tout simplement de regarder si une autre celule reconnait la variable !"
   ]
  },
  {
   "cell_type": "code",
   "execution_count": 12,
   "metadata": {},
   "outputs": [
    {
     "name": "stdout",
     "output_type": "stream",
     "text": [
      "Cette variable est globale\n"
     ]
    }
   ],
   "source": [
    "print (nom)"
   ]
  },
  {
   "cell_type": "markdown",
   "metadata": {},
   "source": [
    "### Intégrées\n",
    "Voici les noms de fonctions intégrées à Python (n'essayez pas de les utiliser !)"
   ]
  },
  {
   "cell_type": "code",
   "execution_count": 13,
   "metadata": {},
   "outputs": [
    {
     "data": {
      "text/plain": [
       "<function len>"
      ]
     },
     "execution_count": 13,
     "metadata": {},
     "output_type": "execute_result"
    }
   ],
   "source": [
    "len"
   ]
  },
  {
   "cell_type": "markdown",
   "metadata": {},
   "source": [
    "## Variables locales\n",
    "\n",
    "Lorsque vous déclarez des variables à l'intérieur d'une définition de fonction, elles ne sont en aucun cas liées à d'autres variables avec les mêmes noms utilisés en dehors de la fonction, c'est-à-dire que les noms de variable sont locaux à la fonction. C'est ce qu'on appelle la portée de la variable. Toutes les variables ont la portée du bloc où elles sont déclarées et à partir du point où elle l'ont été.\n",
    "\n",
    "Par exemple:"
   ]
  },
  {
   "cell_type": "code",
   "execution_count": 15,
   "metadata": {},
   "outputs": [
    {
     "name": "stdout",
     "output_type": "stream",
     "text": [
      "x vaut 50\n",
      "La valeur locale de x a changé pour  2\n",
      "x est toujours  50\n"
     ]
    }
   ],
   "source": [
    "x = 50\n",
    "\n",
    "def fonction(x):\n",
    "    print ('x vaut', x)\n",
    "    x = 2\n",
    "    print ('La valeur locale de x a changé pour ', x)\n",
    "\n",
    "fonction(x)\n",
    "print( 'x est toujours ', x)"
   ]
  },
  {
   "cell_type": "markdown",
   "metadata": {},
   "source": [
    "La première fois que nous affichons la valeur de la variable x dans la première ligne de la fonction, Python utilise la valeur déclarée dans le bloc principal, juste avant la définition de la fonction.\n",
    "\n",
    "Ensuite, nous assignons la valeur 2 à x. Cette fois, le nom x est local à notre fonction. Ainsi, lorsque nous changeons la valeur de x dans la fonction, le x défini dans le bloc principal reste inchangé.\n",
    "\n",
    "Avec le dernier affichage, nous voyons la valeur de x telle qu'elle est définie dans le bloc principal, ce qui confirme qu'elle n'est en fait pas affectée par l'affectation locale dans la fonction appelée précédemment.\n",
    "\n",
    "## L'instruction global\n",
    "Si vous souhaitez affecter une valeur à une variable définie au niveau supérieur du programme (c'est-à-dire à l'extérieur de la portée d'une fonction ou d'une classe), vous devez indiquer à Python que le nom n'est pas local mais global . Il faut pour cela utiliser l'instruction global. Il est impossible d'attribuer une valeur à une variable définie en dehors d'une fonction sans cette instruction global.\n",
    "\n",
    "Vous pouvez utiliser les valeurs de ces variables définies en dehors de la fonction (en supposant qu'il n'y ait pas de variable portant le même nom dans la fonction). Cependant, ceci n'est pas recommandé et doit être évité car il devient difficile pour un lecteur du code de savoir où se trouve la définition de cette variable. L'utilisation de l'instruction globale indique clairement que la variable est définie dans un bloc externe.\n",
    "\n",
    "Par exemple:"
   ]
  },
  {
   "cell_type": "code",
   "execution_count": 17,
   "metadata": {},
   "outputs": [
    {
     "name": "stdout",
     "output_type": "stream",
     "text": [
      "Avant l'appel de fonction(), x vaut:  50\n",
      "Cette fonction utilise maintenant la variable globale x!\n",
      "La valeur de cette variable x globale est :  50\n",
      "La fonction est exécutée, la valeur de la variable globale x est maintenant  2\n",
      "Valeur de x (hors de fonction()) :  2\n"
     ]
    }
   ],
   "source": [
    "x = 50\n",
    "\n",
    "def fonction():\n",
    "    global x\n",
    "    print ('Cette fonction utilise maintenant la variable globale x!')\n",
    "    print ('La valeur de cette variable x globale est : ', x)\n",
    "    x = 2\n",
    "    print ('La fonction est exécutée, la valeur de la variable globale x est maintenant ', x)\n",
    "\n",
    "print (\"Avant l'appel de fonction(), x vaut: \", x)\n",
    "fonction()\n",
    "print ('Valeur de x (hors de fonction()) : ', x)"
   ]
  },
  {
   "cell_type": "markdown",
   "metadata": {
    "collapsed": true
   },
   "source": [
    "L'instruction global est utilisée pour déclarer que x est une variable globale. Par conséquent, lorsque nous attribuons une valeur à x à l'intérieur de la fonction, cette modification est reflétée lorsque nous utilisons la valeur de x dans le bloc principal.\n",
    "\n",
    "Vous pouvez spécifier plus d'une variable globale sur la même instruction globale, en séparant les noms par une virgule, par ex. global x, y, z."
   ]
  },
  {
   "cell_type": "markdown",
   "metadata": {
    "collapsed": true
   },
   "source": [
    "## Conclusion\n",
    "Vous devriez maintenant avoir une bonne compréhension de la portée des variables. Une dernière chose, vous pouvez utiliser les fonctions globals() et locals() pour vérifier quelles sont vos variables locales et globales dans un programme.\n",
    "\n",
    "Une autre chose à garder à l'esprit est que tout dans Python est un objet ! Je peux assigner des variables aux fonctions comme je peux le faire avec des nombres! Nous reviendrons la dessus dans la leçons sur les décorateurs !"
   ]
  }
 ],
 "metadata": {
  "anaconda-cloud": {},
  "kernelspec": {
   "display_name": "Python 3",
   "language": "python",
   "name": "python3"
  },
  "language_info": {
   "codemirror_mode": {
    "name": "ipython",
    "version": 3
   },
   "file_extension": ".py",
   "mimetype": "text/x-python",
   "name": "python",
   "nbconvert_exporter": "python",
   "pygments_lexer": "ipython3",
   "version": "3.6.8"
  }
 },
 "nbformat": 4,
 "nbformat_minor": 1
}
