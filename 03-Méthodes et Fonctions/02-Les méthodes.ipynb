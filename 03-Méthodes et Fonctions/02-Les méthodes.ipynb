{
 "cells": [
  {
   "cell_type": "markdown",
   "metadata": {},
   "source": [
    "# Les méthodes\n",
    "\n",
    "Nous avons déjà vu quelques exemples de méthodes avec la leçon sur les objets et les structures de données Python. De façon très simplifiée, les méthodes sont des fonctions construites à l'intérieur des objets. Un peu plus tard dans le cours, nous apprendrons à créer nos propres objets et méthodes en utilisation la Programmation Orientée Objet (POO) et les classes.\n",
    "\n",
    "Les méthodes exécutent des actions spécifiques sur l'objet lui-même et peuvent également prendre des paramètres, tout comme une fonction. Cette leçon est une brève introduction aux méthodes et vous permettra de commencer réfléchir à la conception ce sur quoi nous reviendrons quand nous arriverons à la partie POO du cours.\n",
    "\n",
    "Les méthodes sont de la forme :\n",
    "\n",
    "    objet.méthode(parm1,parm2,etc...)\n",
    "\n",
    "Nous verrons plus tard que certaines méthodes peuvent avoir un paramètre 'self' pour faire référence à l'objet lui-même. Nous verrons cela avec la partie POO.\n",
    "\n",
    "Faisons un rapide tour d'horizon des méthodes que l'on peut retrouver avec un objet liste :"
   ]
  },
  {
   "cell_type": "code",
   "execution_count": 2,
   "metadata": {
    "collapsed": true
   },
   "outputs": [],
   "source": [
    "# Création d'une liste simple\n",
    "l = [1,2,3,4,5]"
   ]
  },
  {
   "cell_type": "markdown",
   "metadata": {},
   "source": [
    "Heureusement, avec iPython et les Notebooks Jupyter nous pouvons retrouver rapidement toutes les méthodes applicables à un objet au moyen de la touche tabulation. Il suffit pour cela de taper le nom de l'objet dans une cellule, suivit d'un point et ensuite la touche tabulation.\n",
    "\n",
    "Les méthodes pour une liste sont les suivantes :\n",
    "\n",
    "* append\n",
    "* count\n",
    "* extend\n",
    "* insert\n",
    "* pop\n",
    "* remove\n",
    "* reverse\n",
    "* sort\n",
    "\n",
    "Essayons en quelques unes :"
   ]
  },
  {
   "cell_type": "markdown",
   "metadata": {},
   "source": [
    "append() nous permet d'jouter des éléments à la fin d'une liste :"
   ]
  },
  {
   "cell_type": "code",
   "execution_count": 3,
   "metadata": {
    "collapsed": true
   },
   "outputs": [],
   "source": [
    "l.append(6)"
   ]
  },
  {
   "cell_type": "code",
   "execution_count": 4,
   "metadata": {},
   "outputs": [
    {
     "data": {
      "text/plain": [
       "[1, 2, 3, 4, 5, 6]"
      ]
     },
     "execution_count": 4,
     "metadata": {},
     "output_type": "execute_result"
    }
   ],
   "source": [
    "l"
   ]
  },
  {
   "cell_type": "markdown",
   "metadata": {},
   "source": [
    "Bravo ! Et count() alors ? La méthode count() va dénombrer le nombre d'occurences d'un élément dans une liste."
   ]
  },
  {
   "cell_type": "code",
   "execution_count": 5,
   "metadata": {},
   "outputs": [
    {
     "data": {
      "text/plain": [
       "1"
      ]
     },
     "execution_count": 5,
     "metadata": {},
     "output_type": "execute_result"
    }
   ],
   "source": [
    "# Vérifie combien de fois 2 apparait dans la liste\n",
    "l.count(2)"
   ]
  },
  {
   "cell_type": "markdown",
   "metadata": {},
   "source": [
    "Il est également possible d'utiliser majuscule et tabulation dans un Notebook Jupyter pour obtenir de l'aide à propos d'une méthode. Avec Python plus généralement, il faudra utiliser la fonction help() :"
   ]
  },
  {
   "cell_type": "code",
   "execution_count": 7,
   "metadata": {},
   "outputs": [
    {
     "name": "stdout",
     "output_type": "stream",
     "text": [
      "Help on built-in function count:\n",
      "\n",
      "count(...) method of builtins.list instance\n",
      "    L.count(value) -> integer -- return number of occurrences of value\n",
      "\n"
     ]
    }
   ],
   "source": [
    "help(l.count)"
   ]
  },
  {
   "cell_type": "markdown",
   "metadata": {},
   "source": [
    "N'hésitez pas à test les autres méthodes d'un objet liste. Plus tard dans cette section le controle de connaissances vous demandera d'utiliser help et Google pour retrouver les méthodes de différents objets !"
   ]
  },
  {
   "cell_type": "markdown",
   "metadata": {},
   "source": [
    "Bravo !\n",
    "Avec cette leçon vous devriez maintenant être à l'aise pour appeler les méthodes d'objets Python !"
   ]
  }
 ],
 "metadata": {
  "anaconda-cloud": {},
  "kernelspec": {
   "display_name": "Python 3",
   "language": "python",
   "name": "python3"
  },
  "language_info": {
   "codemirror_mode": {
    "name": "ipython",
    "version": 3
   },
   "file_extension": ".py",
   "mimetype": "text/x-python",
   "name": "python",
   "nbconvert_exporter": "python",
   "pygments_lexer": "ipython3",
   "version": "3.6.8"
  }
 },
 "nbformat": 4,
 "nbformat_minor": 1
}
