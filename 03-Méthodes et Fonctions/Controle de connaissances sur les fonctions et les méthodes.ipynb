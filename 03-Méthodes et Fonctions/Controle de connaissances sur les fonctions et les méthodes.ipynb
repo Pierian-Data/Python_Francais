{
 "cells": [
  {
   "cell_type": "markdown",
   "metadata": {},
   "source": [
    "# Controle de connaissances sur les fonctions et les méthodes\n",
    "\n",
    "Répondez aux questions suivantes :\n",
    "____\n",
    "**Ecrire une fonction qui renvoie le volume d'une sphère en fonction de son rayon**"
   ]
  },
  {
   "cell_type": "code",
   "execution_count": 1,
   "metadata": {
    "collapsed": true
   },
   "outputs": [],
   "source": [
    "def vol(rayon):\n",
    "    pass"
   ]
  },
  {
   "cell_type": "markdown",
   "metadata": {},
   "source": [
    "**Ecrire une fonction qui vérifie qu'un nombre est situé dans un intervalle donné (bornes incluses)**"
   ]
  },
  {
   "cell_type": "code",
   "execution_count": 7,
   "metadata": {
    "collapsed": true
   },
   "outputs": [],
   "source": [
    "def verif_intervalle(num,bas,haut):\n",
    "    pass"
   ]
  },
  {
   "cell_type": "markdown",
   "metadata": {},
   "source": [
    "Réponse sous forme d'un booléen :"
   ]
  },
  {
   "cell_type": "code",
   "execution_count": 8,
   "metadata": {
    "collapsed": true
   },
   "outputs": [],
   "source": [
    "def bool_intervalle(num,bas,haut):\n",
    "    pass"
   ]
  },
  {
   "cell_type": "code",
   "execution_count": 9,
   "metadata": {
    "collapsed": false
   },
   "outputs": [
    {
     "data": {
      "text/plain": [
       "True"
      ]
     },
     "execution_count": 9,
     "metadata": {},
     "output_type": "execute_result"
    }
   ],
   "source": [
    "bool_intervalle(3,1,10)"
   ]
  },
  {
   "cell_type": "markdown",
   "metadata": {},
   "source": [
    "____\n",
    "** Écrivez une fonction Python qui calcule le nombre de lettres majuscules et minuscules dans une chaine. **\n",
    "\n",
    "    Exemple de chaine : \"Bonjour Mr Martin, comment allez vous en cette belle journée de mardi ?\"\n",
    "    Réponse souhaitée :\n",
    "    Nombre de majuscules : 3\n",
    "    Nombre de minuscules : 54\n",
    "    \n",
    "Si vous vous sentez en forme, vous pouvez allez voir ce qu'il y a dans le module Collections pour résoudre ce problème !"
   ]
  },
  {
   "cell_type": "code",
   "execution_count": 11,
   "metadata": {
    "collapsed": true
   },
   "outputs": [],
   "source": [
    "def maj_min(s):\n",
    "    pass"
   ]
  },
  {
   "cell_type": "markdown",
   "metadata": {},
   "source": [
    "____\n",
    "**Ecrire une fonction Python qui prend une liste en entrée et retourne une nouvelle liste avec les éléments uniques de la première liste.**\n",
    "\n",
    "    Exemple de liste : [1,1,1,1,2,2,3,3,3,3,4,5]\n",
    "    Liste unique : [1, 2, 3, 4, 5]"
   ]
  },
  {
   "cell_type": "code",
   "execution_count": 2,
   "metadata": {
    "collapsed": true
   },
   "outputs": [],
   "source": [
    "def liste_unique(l):\n",
    "    pass"
   ]
  },
  {
   "cell_type": "code",
   "execution_count": 4,
   "metadata": {
    "collapsed": false
   },
   "outputs": [],
   "source": [
    "liste_unique([1,1,1,1,2,2,3,3,3,3,4,5])"
   ]
  },
  {
   "cell_type": "markdown",
   "metadata": {},
   "source": [
    "____\n",
    "**Ecrire une fonction Python qui multiplie tous les nombres de la liste.**\n",
    "\n",
    "    Exemple de liste : [1, 2, 3, -4]\n",
    "    Sortie attendue : -24"
   ]
  },
  {
   "cell_type": "code",
   "execution_count": 17,
   "metadata": {
    "collapsed": true
   },
   "outputs": [],
   "source": [
    "def multiplie(nombre):  \n",
    "    pass"
   ]
  },
  {
   "cell_type": "code",
   "execution_count": 18,
   "metadata": {
    "collapsed": false
   },
   "outputs": [
    {
     "data": {
      "text/plain": [
       "-24"
      ]
     },
     "execution_count": 18,
     "metadata": {},
     "output_type": "execute_result"
    }
   ],
   "source": [
    "multiplie([1,2,3,-4])"
   ]
  },
  {
   "cell_type": "markdown",
   "metadata": {},
   "source": [
    "____\n",
    "**Ecrire une fonction Python qui vérifie si une chaîne passée est un palindrome.**\n",
    "\n",
    "Note: Un palindrome est un mot, une phrase ou une séquence qui se lit vers l'arrière et vers l'avant, par exemple, kayak ou rêver."
   ]
  },
  {
   "cell_type": "code",
   "execution_count": 5,
   "metadata": {
    "collapsed": true
   },
   "outputs": [],
   "source": [
    "def palindrome(s):\n",
    "    pass"
   ]
  },
  {
   "cell_type": "code",
   "execution_count": 6,
   "metadata": {
    "collapsed": false
   },
   "outputs": [],
   "source": [
    "palindrome('kayak')"
   ]
  },
  {
   "cell_type": "markdown",
   "metadata": {},
   "source": [
    "____\n",
    "**Difficile**:\n",
    "\n",
    "Ecrire une fonction Python pour vérifier si une chaîne est un pangramme.\n",
    "\n",
    "    Note : Un pangramme est une phrase contenant chaque lettre de l'alphabet au moins une fois.\n",
    "    Par exemple : \"Buvez de ce whisky que le patron juge fameux\"\n",
    "\n",
    "Indice : Regardez le module String"
   ]
  },
  {
   "cell_type": "code",
   "execution_count": 7,
   "metadata": {
    "collapsed": true
   },
   "outputs": [],
   "source": [
    "import string\n",
    "\n",
    "def est_un_pangramme(str1, alphabet=string.ascii_lowercase):  \n",
    "    pass"
   ]
  },
  {
   "cell_type": "code",
   "execution_count": 8,
   "metadata": {
    "collapsed": false
   },
   "outputs": [],
   "source": [
    "est_un_pangramme(\"Buvez de ce whisky que le patron juge fameux\")"
   ]
  },
  {
   "cell_type": "code",
   "execution_count": 9,
   "metadata": {
    "collapsed": false
   },
   "outputs": [
    {
     "data": {
      "text/plain": [
       "'abcdefghijklmnopqrstuvwxyz'"
      ]
     },
     "execution_count": 9,
     "metadata": {},
     "output_type": "execute_result"
    }
   ],
   "source": [
    "string.ascii_lowercase"
   ]
  },
  {
   "cell_type": "markdown",
   "metadata": {
    "collapsed": true
   },
   "source": [
    "#### **Bravo !**"
   ]
  },
  {
   "cell_type": "code",
   "execution_count": null,
   "metadata": {
    "collapsed": true
   },
   "outputs": [],
   "source": []
  }
 ],
 "metadata": {
  "anaconda-cloud": {},
  "kernelspec": {
   "display_name": "Python [default]",
   "language": "python",
   "name": "python3"
  },
  "language_info": {
   "codemirror_mode": {
    "name": "ipython",
    "version": 3
   },
   "file_extension": ".py",
   "mimetype": "text/x-python",
   "name": "python",
   "nbconvert_exporter": "python",
   "pygments_lexer": "ipython3",
   "version": "3.5.2"
  }
 },
 "nbformat": 4,
 "nbformat_minor": 0
}
