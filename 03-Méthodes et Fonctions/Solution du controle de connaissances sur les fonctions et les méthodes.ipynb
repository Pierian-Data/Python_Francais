{
 "cells": [
  {
   "cell_type": "markdown",
   "metadata": {},
   "source": [
    "# Controle de connaissances sur les fonctions et les méthodes\n",
    "## les réponses\n",
    "____\n",
    "**Ecrire une fonction qui renvoie le volume d'une sphère en fonction de son rayon**"
   ]
  },
  {
   "cell_type": "code",
   "execution_count": 1,
   "metadata": {
    "collapsed": true
   },
   "outputs": [],
   "source": [
    "def vol(rayon):\n",
    "    return (4.0/3)*(3.14)*(rayon**3)"
   ]
  },
  {
   "cell_type": "markdown",
   "metadata": {},
   "source": [
    "**Ecrire une fonction qui vérifie qu'un nombre est situé dans un intervalle donné (bornes incluses)**"
   ]
  },
  {
   "cell_type": "code",
   "execution_count": 4,
   "metadata": {
    "collapsed": true
   },
   "outputs": [],
   "source": [
    "def verif_intervalle(num,bas,haut):\n",
    "    # Vérifie si le nombre est entre haut et bas, inclus\n",
    "    if num in range(bas,haut+1):  \n",
    "        print (\" %s est dans l'intervale \" %str(num))  \n",
    "    else :  \n",
    "        print (\"Le nombre est hors intervalle.\")"
   ]
  },
  {
   "cell_type": "markdown",
   "metadata": {},
   "source": [
    "Réponse sous forme d'un booléen :"
   ]
  },
  {
   "cell_type": "code",
   "execution_count": 3,
   "metadata": {
    "collapsed": true
   },
   "outputs": [],
   "source": [
    "def bool_intervalle(num,bas,haut):\n",
    "    return num in range(bas,haut+1)"
   ]
  },
  {
   "cell_type": "code",
   "execution_count": 3,
   "metadata": {},
   "outputs": [
    {
     "data": {
      "text/plain": [
       "True"
      ]
     },
     "execution_count": 3,
     "metadata": {},
     "output_type": "execute_result"
    }
   ],
   "source": [
    "bool_intervalle(3,1,10)"
   ]
  },
  {
   "cell_type": "markdown",
   "metadata": {},
   "source": [
    "____\n",
    "** Écrivez une fonction Python qui calcule le nombre de lettres majuscules et minuscules dans une chaine. **\n",
    "\n",
    "    Exemple de chaine : \"Bonjour Mr Martin, comment allez vous en cette belle journée de mardi ?\"\n",
    "    Réponse souhaitée :\n",
    "    Nombre de majuscules : 3\n",
    "    Nombre de minuscules : 17\n",
    "    \n",
    "Si vous vous sentez en forme, vous pouvez allez voir ce qu'il y a dans le module Collections pour résoudre ce problème !"
   ]
  },
  {
   "cell_type": "code",
   "execution_count": 6,
   "metadata": {
    "collapsed": true
   },
   "outputs": [],
   "source": [
    "def maj_min(s):\n",
    "    d={\"maj\":0, \"min\":0}\n",
    "    for c in s:\n",
    "        if c.isupper():\n",
    "            d[\"maj\"]+=1\n",
    "        elif c.islower():\n",
    "            d[\"min\"]+=1\n",
    "        else:\n",
    "            pass\n",
    "    print (\"Chaine de départ String : \", s)\n",
    "    print (\"Nombre de majuscules : \", d[\"maj\"])\n",
    "    print (\"Nombre de minuscules : \", d[\"min\"])"
   ]
  },
  {
   "cell_type": "code",
   "execution_count": 7,
   "metadata": {},
   "outputs": [
    {
     "name": "stdout",
     "output_type": "stream",
     "text": [
      "Chaine de départ String :  Bonjour Mr Martin, comment allez vous en cette belle journée de mardi ?\n",
      "Nombre de majuscules :  3\n",
      "Nombre de minuscules :  54\n"
     ]
    }
   ],
   "source": [
    "s = 'Bonjour Mr Martin, comment allez vous en cette belle journée de mardi ?'\n",
    "maj_min(s)"
   ]
  },
  {
   "cell_type": "markdown",
   "metadata": {},
   "source": [
    "____\n",
    "**Ecrire une fonction Python qui prend une liste en entrée et retourne une nouvelle liste avec les éléments uniques de la première liste.**\n",
    "\n",
    "    Exemple de liste : [1,1,1,1,2,2,3,3,3,3,4,5]\n",
    "    Liste unique : [1, 2, 3, 4, 5]"
   ]
  },
  {
   "cell_type": "code",
   "execution_count": 8,
   "metadata": {
    "collapsed": true
   },
   "outputs": [],
   "source": [
    "def liste_unique(l):\n",
    "    # On peut aussi utiliser list(set())\n",
    "    x = []\n",
    "    for a in l:\n",
    "        if a not in x:\n",
    "            x.append(a)\n",
    "    return x"
   ]
  },
  {
   "cell_type": "code",
   "execution_count": 9,
   "metadata": {},
   "outputs": [
    {
     "data": {
      "text/plain": [
       "[1, 2, 3, 4, 5]"
      ]
     },
     "execution_count": 9,
     "metadata": {},
     "output_type": "execute_result"
    }
   ],
   "source": [
    "liste_unique([1,1,1,1,2,2,3,3,3,3,4,5])"
   ]
  },
  {
   "cell_type": "markdown",
   "metadata": {},
   "source": [
    "____\n",
    "**Ecrire une fonction Python qui multiplie tous les nombres de la liste.**\n",
    "\n",
    "    Exemple de liste : [1, 2, 3, -4]\n",
    "    Sortie attendue : -24"
   ]
  },
  {
   "cell_type": "code",
   "execution_count": 10,
   "metadata": {
    "collapsed": true
   },
   "outputs": [],
   "source": [
    "def multiplie(nombre):  \n",
    "    total = 1\n",
    "    for x in nombre:\n",
    "        total *= x  \n",
    "    return total  "
   ]
  },
  {
   "cell_type": "code",
   "execution_count": 12,
   "metadata": {},
   "outputs": [
    {
     "data": {
      "text/plain": [
       "-24"
      ]
     },
     "execution_count": 12,
     "metadata": {},
     "output_type": "execute_result"
    }
   ],
   "source": [
    "multiplie([1,2,3,-4])"
   ]
  },
  {
   "cell_type": "markdown",
   "metadata": {},
   "source": [
    "____\n",
    "**Ecrire une fonction Python qui vérifie si une chaîne passée est un palindrome.**\n",
    "\n",
    "Note: Un palindrome est un mot, une phrase ou une séquence qui se lit vers l'arrière et vers l'avant, par exemple, kayak ou rêver."
   ]
  },
  {
   "cell_type": "code",
   "execution_count": 2,
   "metadata": {
    "collapsed": true
   },
   "outputs": [],
   "source": [
    "def palindrome(s):\n",
    "    \n",
    "    s = s.replace(' ','') # Ceci remplace les espaces \" \" avec pas d'espace ''. (Pour éviter les problèmes de chaines contenant des chaines)\n",
    "    return s == s[::-1] # Vérifie par découpage"
   ]
  },
  {
   "cell_type": "code",
   "execution_count": 3,
   "metadata": {},
   "outputs": [
    {
     "data": {
      "text/plain": [
       "True"
      ]
     },
     "execution_count": 3,
     "metadata": {},
     "output_type": "execute_result"
    }
   ],
   "source": [
    "palindrome('kayak')"
   ]
  },
  {
   "cell_type": "code",
   "execution_count": 7,
   "metadata": {},
   "outputs": [
    {
     "data": {
      "text/plain": [
       "True"
      ]
     },
     "execution_count": 7,
     "metadata": {},
     "output_type": "execute_result"
    }
   ],
   "source": [
    "palindrome('abcba')"
   ]
  },
  {
   "cell_type": "markdown",
   "metadata": {},
   "source": [
    "____\n",
    "**Difficile**:\n",
    "\n",
    "Ecrire une fonction Python pour vérifier si une chaîne est un pangramme.\n",
    "\n",
    "    Note : Un pangramme est une phrase contenant chaque lettre de l'alphabet au moins une fois.\n",
    "    Par exemple : \"Buvez de ce whisky que le patron juge fameux\"\n",
    "\n",
    "Indice : Regardez le module String"
   ]
  },
  {
   "cell_type": "code",
   "execution_count": 19,
   "metadata": {
    "collapsed": true
   },
   "outputs": [],
   "source": [
    "import string\n",
    "\n",
    "def est_un_pangramme(str1, alphabet=string.ascii_lowercase):  \n",
    "    print(str1)\n",
    "    print(alphabet)\n",
    "    alphaset = set(alphabet)  \n",
    "    print(alphaset)\n",
    "    print(set(str1.lower())  )\n",
    "    return alphaset <= set(str1.lower())  "
   ]
  },
  {
   "cell_type": "code",
   "execution_count": 20,
   "metadata": {},
   "outputs": [
    {
     "name": "stdout",
     "output_type": "stream",
     "text": [
      "Buvez de ce whisky que le patron juge fameux\n",
      "abcdefghijklmnopqrstuvwxyz\n",
      "{'b', 'o', 'k', 'a', 'd', 'r', 's', 'c', 't', 'x', 'u', 'i', 'h', 'e', 'p', 'l', 'n', 'z', 'q', 'f', 'v', 'w', 'g', 'm', 'j', 'y'}\n",
      "{'b', 'o', 's', 'k', 'd', 'a', 'r', 'c', 't', 'x', 'u', 'i', 'h', 'e', 'p', 'l', 'n', 'z', 'q', 'f', 'v', 'w', ' ', 'g', 'm', 'j', 'y'}\n"
     ]
    },
    {
     "data": {
      "text/plain": [
       "True"
      ]
     },
     "execution_count": 20,
     "metadata": {},
     "output_type": "execute_result"
    }
   ],
   "source": [
    "est_un_pangramme(\"Buvez de ce whisky que le patron juge fameux\")"
   ]
  },
  {
   "cell_type": "code",
   "execution_count": 10,
   "metadata": {},
   "outputs": [
    {
     "data": {
      "text/plain": [
       "'abcdefghijklmnopqrstuvwxyz'"
      ]
     },
     "execution_count": 10,
     "metadata": {},
     "output_type": "execute_result"
    }
   ],
   "source": [
    "string.ascii_lowercase"
   ]
  }
 ],
 "metadata": {
  "anaconda-cloud": {},
  "kernelspec": {
   "display_name": "Python 3",
   "language": "python",
   "name": "python3"
  },
  "language_info": {
   "codemirror_mode": {
    "name": "ipython",
    "version": 3
   },
   "file_extension": ".py",
   "mimetype": "text/x-python",
   "name": "python",
   "nbconvert_exporter": "python",
   "pygments_lexer": "ipython3",
   "version": "3.6.8"
  }
 },
 "nbformat": 4,
 "nbformat_minor": 1
}
