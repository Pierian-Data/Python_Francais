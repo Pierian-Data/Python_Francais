{
 "cells": [
  {
   "cell_type": "markdown",
   "metadata": {},
   "source": [
    "# Programmation  Orientée Objet\n",
    "## Solution du contrôle de connaissances\n",
    "\n",
    "#### 1er problème\n",
    "\n",
    "Complétez les méthodes de la classe Ligne pour accepter en paramètre les coordonnées comme une paire de tuples et renvoyer la pente et la distance à la ligne."
   ]
  },
  {
   "cell_type": "code",
   "execution_count": 1,
   "metadata": {
    "collapsed": true
   },
   "outputs": [],
   "source": [
    "class Ligne(object):\n",
    "    \n",
    "    def __init__(self,coor1,coor2):\n",
    "        self.coor1 = coor1\n",
    "        self.coor2 = coor2\n",
    "    \n",
    "    def distance(self):\n",
    "        x1,y1 = self.coor1\n",
    "        x2,y2 = self.coor2\n",
    "        return ( (x2-x1)**2 + (y2-y1)**2 )**0.5\n",
    "    \n",
    "    def pente(self):\n",
    "        x1,y1 = self.coor1\n",
    "        x2,y2 = self.coor2\n",
    "        return float((y2-y1))/(x2-x1)"
   ]
  },
  {
   "cell_type": "code",
   "execution_count": 9,
   "metadata": {
    "collapsed": true
   },
   "outputs": [],
   "source": [
    "coordonnées1 = (3,2)\n",
    "coordonnées2 = (8,10)\n",
    "\n",
    "li = Ligne(coordonnées1,coordonnées2)"
   ]
  },
  {
   "cell_type": "code",
   "execution_count": 10,
   "metadata": {
    "collapsed": false
   },
   "outputs": [
    {
     "data": {
      "text/plain": [
       "9.433981132056603"
      ]
     },
     "execution_count": 10,
     "metadata": {},
     "output_type": "execute_result"
    }
   ],
   "source": [
    "li.distance()"
   ]
  },
  {
   "cell_type": "code",
   "execution_count": 11,
   "metadata": {
    "collapsed": false
   },
   "outputs": [
    {
     "data": {
      "text/plain": [
       "1.6"
      ]
     },
     "execution_count": 11,
     "metadata": {},
     "output_type": "execute_result"
    }
   ],
   "source": [
    "li.pente()"
   ]
  },
  {
   "cell_type": "markdown",
   "metadata": {},
   "source": [
    "________\n",
    "#### 2ème problème"
   ]
  },
  {
   "cell_type": "markdown",
   "metadata": {},
   "source": [
    "Complétez la classe"
   ]
  },
  {
   "cell_type": "code",
   "execution_count": 12,
   "metadata": {
    "collapsed": false
   },
   "outputs": [],
   "source": [
    "class Cylindre(object):\n",
    "    \n",
    "    def __init__(self,hauteur=1,rayon=1):\n",
    "        self.hauteur = hauteur\n",
    "        self.rayon = rayon\n",
    "        \n",
    "    def volume(self):\n",
    "        return self.hauteur * (3.14)* (self.rayon)**2\n",
    "    \n",
    "    def surface(self):\n",
    "        dessus = (3.14)* (self.rayon)**2\n",
    "        return 2*dessus + 2*3.14*self.rayon*self.hauteur"
   ]
  },
  {
   "cell_type": "code",
   "execution_count": 13,
   "metadata": {
    "collapsed": true
   },
   "outputs": [],
   "source": [
    "c = Cylindre(2,3)"
   ]
  },
  {
   "cell_type": "code",
   "execution_count": 14,
   "metadata": {
    "collapsed": false
   },
   "outputs": [
    {
     "data": {
      "text/plain": [
       "56.52"
      ]
     },
     "execution_count": 14,
     "metadata": {},
     "output_type": "execute_result"
    }
   ],
   "source": [
    "c.volume()"
   ]
  },
  {
   "cell_type": "code",
   "execution_count": 15,
   "metadata": {
    "collapsed": false
   },
   "outputs": [
    {
     "data": {
      "text/plain": [
       "94.2"
      ]
     },
     "execution_count": 15,
     "metadata": {},
     "output_type": "execute_result"
    }
   ],
   "source": [
    "c.surface()"
   ]
  },
  {
   "cell_type": "code",
   "execution_count": null,
   "metadata": {
    "collapsed": true
   },
   "outputs": [],
   "source": []
  }
 ],
 "metadata": {
  "anaconda-cloud": {},
  "kernelspec": {
<<<<<<< HEAD:Partie_05_Programmation_Orientée_Objet/Programmation Orientée Objet - Contrôle de connaissances - Solution.ipynb
   "display_name": "Python [default]",
=======
   "display_name": "Python 3",
>>>>>>> marc:Partie_05_Programmation_Orientée_Objet/Programmation Orientée Objet - Contrôle de connaissances - Solution.ipynb
   "language": "python",
   "name": "python3"
  },
  "language_info": {
   "codemirror_mode": {
    "name": "ipython",
    "version": 3
   },
   "file_extension": ".py",
   "mimetype": "text/x-python",
   "name": "python",
   "nbconvert_exporter": "python",
   "pygments_lexer": "ipython3",
<<<<<<< HEAD:Partie_05_Programmation_Orientée_Objet/Programmation Orientée Objet - Contrôle de connaissances - Solution.ipynb
   "version": "3.5.2"
=======
   "version": "3.6.0"
>>>>>>> marc:Partie_05_Programmation_Orientée_Objet/Programmation Orientée Objet - Contrôle de connaissances - Solution.ipynb
  }
 },
 "nbformat": 4,
 "nbformat_minor": 0
}
