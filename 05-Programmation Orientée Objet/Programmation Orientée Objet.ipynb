{
 "cells": [
  {
   "cell_type": "markdown",
   "metadata": {
    "collapsed": true
   },
   "source": [
    "# Programmation  Orientée Objet\n",
    "\n",
    "La Programmation Orientée Objet (POO) est un des principaux obstacles des débutants quand ils commencent à apprendre Python.\n",
    "\n",
    "Il y a de nombreux tutoriaux et leçons qui couvrent le sujet, n'hésitez pas à chercher d'autres leçons avec Google, vous trouverez également quelques liens vers des tutoriaux en ligne à la fin de ce cours.\n",
    "\n",
    "Pour cette leçon, nous allons développer nos connaissances en Programmation Objet avec Python grâce à la séquence suivante :\n",
    "\n",
    "* Les Objets\n",
    "* Utilisation du mot-clef *class*\n",
    "* Créer des attributs de classe\n",
    "* Créer des méthodes dans une classe\n",
    "* Connaitre l'héritage\n",
    "* Connaitre certaines méthodes de classes particulières\n",
    "\n",
    "Commençons la leçon par nous remémorer quelques objet Python classiques. Par exemple :"
   ]
  },
  {
   "cell_type": "code",
   "execution_count": 1,
   "metadata": {
    "collapsed": true
   },
   "outputs": [],
   "source": [
    "l = [1,2,3]"
   ]
  },
  {
   "cell_type": "markdown",
   "metadata": {},
   "source": [
    "Vous vous souvenez comment appeler une méthode de liste ?"
   ]
  },
  {
   "cell_type": "code",
   "execution_count": 3,
   "metadata": {},
   "outputs": [
    {
     "data": {
      "text/plain": [
       "1"
      ]
     },
     "execution_count": 3,
     "metadata": {},
     "output_type": "execute_result"
    }
   ],
   "source": [
    "l.count(2)"
   ]
  },
  {
   "cell_type": "markdown",
   "metadata": {},
   "source": [
    "Nous allons découvrir dans cette leçon comment nous pouvons créer un type d'objet comme une liste. Nous avons déjà appris comment créer des fonctions. Voyons les objets en général:\n",
    "\n",
    "## Objets\n",
    "En Python, *tout est un objet*. Rappelez-vous des leçons précédentes, nous pouvons utiliser type() pour vérifier quel est le type des objets que nous avons vus :"
   ]
  },
  {
   "cell_type": "code",
   "execution_count": 1,
   "metadata": {},
   "outputs": [
    {
     "name": "stdout",
     "output_type": "stream",
     "text": [
      "<class 'int'>\n",
      "<class 'list'>\n",
      "<class 'tuple'>\n",
      "<class 'dict'>\n"
     ]
    }
   ],
   "source": [
    "print (type(1))\n",
    "print (type([]))\n",
    "print (type(()))\n",
    "print (type({}))"
   ]
  },
  {
   "cell_type": "markdown",
   "metadata": {},
   "source": [
    "Nous savons donc que toutes ces choses sont des objets, mais comment pouvons-nous créer nos propres types d'objets ? C'est là que le mot-clé *class* entre en jeu.\n",
    "\n",
    "## class\n",
    "Les objets définis par l'utilisateur sont créés à l'aide du mot clé class. La classe est un modèle qui définit la nature d'un nouvel objet. A partir des classes, nous pouvons construire des instances. Une instance est un objet spécifique créé à partir d'une classe particulière. Par exemple, nous avons créé l'objet 'l' qui était une instance d'un objet liste.\n",
    "\n",
    "Voyons comment nous pouvons utiliser **class**:"
   ]
  },
  {
   "cell_type": "code",
   "execution_count": 2,
   "metadata": {},
   "outputs": [
    {
     "name": "stdout",
     "output_type": "stream",
     "text": [
      "<class '__main__.Exemple'>\n"
     ]
    }
   ],
   "source": [
    "# Création d'un objet de base appelé Exemple\n",
    "class Exemple(object):\n",
    "    pass\n",
    "\n",
    "# Instance de Exemple\n",
    "x = Exemple()\n",
    "\n",
    "print (type(x))"
   ]
  },
  {
   "cell_type": "markdown",
   "metadata": {},
   "source": [
    "Par convention, nous donnons aux classes un nom qui commence par une majuscule. Notez que cette variable x est maintenant la référence à notre nouvelle instance d'une classe Exemple. En d'autres termes, nous **instancions** la classe Exemple.\n",
    "\n",
    "À l'intérieur de la classe, nous avons uniquement une instruction pass pour l'instant. Mais nous pouvons définir des attributs de classe et des méthodes.\n",
    "\n",
    "Un **attribut** est une caractéristique d'un objet.\n",
    "Une **méthode** est une opération que nous pouvons effectuer avec l'objet.\n",
    "\n",
    "Par exemple, nous pouvons créer une classe appelée Chien. Un attribut d'un chien peut être sa race ou son nom, tandis qu'une méthode d'un chien peut être définie par une méthode .Aboie() qui renvoie un son.\n",
    "\n",
    "Vous allez mieux comprendre le rôle des attributs avec un exemple.\n",
    "\n",
    "## Attributs\n",
    "La syntaxe de création d'un attribut est :\n",
    "    \n",
    "    self.attribut = quelque_chose\n",
    "\n",
    "Il y a une méthode spéciale qui s'appelle : \n",
    "\n",
    "    __init__()\n",
    "\n",
    "Cette méthode va être utilisée pour initialiser les attributs d'un objet. Par exemple :"
   ]
  },
  {
   "cell_type": "code",
   "execution_count": 4,
   "metadata": {},
   "outputs": [],
   "source": [
    "class Chien(object):\n",
    "    def __init__(self,race):\n",
    "        self.race = race\n",
    "        \n",
    "sam = Chien(race='Labrador')\n",
    "frank = Chien(race='Huskie')"
   ]
  },
  {
   "cell_type": "markdown",
   "metadata": {},
   "source": [
    "Décortiquons ce que nous avons. La méthode spéciale\n",
    "    __init__() \n",
    "    \n",
    "est appelée automatiquement après que l'objet a été créé (instancié) :\n",
    "\n",
    "    def __init__(self, race):\n",
    "\n",
    "Chaque attribut dans une définition de classe commence par une référence à l'instance d'objet. Par convention celle-ci est nommée self. La race est un argument. La valeur est transmise pendant l'instanciation de la classe.\n",
    "\n",
    "     self.race = race"
   ]
  },
  {
   "cell_type": "markdown",
   "metadata": {},
   "source": [
    "Maintenant, nous avons créé deux instances de la classe Chien. Avec deux types de race, nous pouvons alors accéder à ces attributs de cette façon :"
   ]
  },
  {
   "cell_type": "code",
   "execution_count": 5,
   "metadata": {},
   "outputs": [
    {
     "data": {
      "text/plain": [
       "'Lab'"
      ]
     },
     "execution_count": 5,
     "metadata": {},
     "output_type": "execute_result"
    }
   ],
   "source": [
    "sam.race"
   ]
  },
  {
   "cell_type": "code",
   "execution_count": 6,
   "metadata": {},
   "outputs": [
    {
     "data": {
      "text/plain": [
       "'Huskie'"
      ]
     },
     "execution_count": 6,
     "metadata": {},
     "output_type": "execute_result"
    }
   ],
   "source": [
    "frank.race"
   ]
  },
  {
   "cell_type": "markdown",
   "metadata": {},
   "source": [
    "Notez que nous ne mettons pas de parenthèse après race, parce que c'est un attribut et que donc il ne prend aucun argument.\n",
    "\n",
    "En Python, il y a aussi des *attributs de classe d'objet*. Ces attributs de classe sont les mêmes pour toute instance de la classe. Par exemple, nous pourrions créer l'attribut *espèce* pour la classe Chien. Les chiens (quelle que soit leur race, leur nom ou d'autres attributs seront toujours des mammifères).\n",
    "Nous appliquons cette logique de la manière suivante:"
   ]
  },
  {
   "cell_type": "code",
   "execution_count": 7,
   "metadata": {},
   "outputs": [],
   "source": [
    "class Chien(object):\n",
    "    \n",
    "    # Attributs de Classe\n",
    "    espèce = 'mammifère'\n",
    "    \n",
    "    def __init__(self,race,nom):\n",
    "        self.race = race\n",
    "        self.nom = nom"
   ]
  },
  {
   "cell_type": "code",
   "execution_count": 8,
   "metadata": {
    "collapsed": true
   },
   "outputs": [],
   "source": [
    "sam = Chien('Lab','Sam')"
   ]
  },
  {
   "cell_type": "code",
   "execution_count": 10,
   "metadata": {},
   "outputs": [
    {
     "data": {
      "text/plain": [
       "'Sam'"
      ]
     },
     "execution_count": 10,
     "metadata": {},
     "output_type": "execute_result"
    }
   ],
   "source": [
    "sam.nom"
   ]
  },
  {
   "cell_type": "markdown",
   "metadata": {},
   "source": [
    "Notez que l'attribut de classe est défini en dehors de toute méthode de la classe. Également par convention, nous les placerons avant la méthode init."
   ]
  },
  {
   "cell_type": "code",
   "execution_count": 12,
   "metadata": {},
   "outputs": [
    {
     "data": {
      "text/plain": [
       "'mammifère'"
      ]
     },
     "execution_count": 12,
     "metadata": {},
     "output_type": "execute_result"
    }
   ],
   "source": [
    "sam.espèce"
   ]
  },
  {
   "cell_type": "markdown",
   "metadata": {},
   "source": [
    "## Méthodes\n",
    "\n",
    "Les méthodes sont des fonctions définies dans le corps d'une classe. Elles sont utilisées pour effectuer des opérations avec les attributs de nos objets. Les méthodes sont essentielles dans le concept d'encapsulation du paradigme POO. Ceci est essentiel pour diviser les responsabilités dans le code, en particulier dans les grosses applications.\n",
    "\n",
    "Vous pouvez simplement imaginer les méthodes comme des fonctions agissant sur un objet qui prennent l'objet lui-même en compte par le paramètre *self*.\n",
    "\n",
    "Voyons un exemple de création d'une classe Cercle:"
   ]
  },
  {
   "cell_type": "code",
   "execution_count": 2,
   "metadata": {},
   "outputs": [
    {
     "name": "stdout",
     "output_type": "stream",
     "text": [
      "Le rayon est :  2\n",
      "La surface est :  12.56\n"
     ]
    }
   ],
   "source": [
    "class Cercle(object):\n",
    "    pi = 3.14\n",
    "\n",
    "    # Le Cercle est instancié par son rayon (1 par défaut)\n",
    "    def __init__(self, rayon=1):\n",
    "        self.rayon = rayon \n",
    "\n",
    "    # La méthode surface calcule la surface. Noter comment est utilisé self.\n",
    "    def surface(self):\n",
    "        return self.rayon * self.rayon * Cercle.pi\n",
    "\n",
    "    # Méthode pour redéfinir le rayon\n",
    "    def definirRayon(self, rayon):\n",
    "        self.rayon = rayon\n",
    "\n",
    "    # Méthode for obtenir le rayon (comme en appelant simplement .rayon)\n",
    "    def obtenirRayon(self):\n",
    "        return self.rayon\n",
    "\n",
    "\n",
    "c = Cercle()\n",
    "\n",
    "c.definirRayon(2)\n",
    "print ('Le rayon est : ',c.obtenirRayon())\n",
    "print ('La surface est : ',c.surface())"
   ]
  },
  {
   "cell_type": "markdown",
   "metadata": {},
   "source": [
    "Bravo ! Remarquez comment nous avons utilisé la notation self pour référencer les attributs de la classe à l'intérieur des appels par les méthodes. Etudiez soigneusement comment le code ci-dessus fonctionne et essayez de créer votre propre méthode.\n",
    "\n",
    "## Héritage\n",
    "\n",
    "L'héritage est un moyen de créer de nouvelles classes à l'aide de classes existantes. Les classes nouvellement formées sont appelées classes dérivées, les classes dont nous dérivons sont appelées classes de base. Les avantages  de l'héritage sont la réutilisation du code et la réduction de la complexité d'un programme. Les classes dérivées (descendants) remplacent ou étendent la fonctionnalité des classes de base (ancêtres).\n",
    "\n",
    "Voyons un exemple en utilisant nos travaux précédents sur la classe Chien :"
   ]
  },
  {
   "cell_type": "code",
   "execution_count": 27,
   "metadata": {},
   "outputs": [],
   "source": [
    "class Animal(object):\n",
    "    def __init__(self):\n",
    "        print (\"Animal créé\")\n",
    "\n",
    "    def quiSuisJe(self):\n",
    "        print (\"Je suis un animal\")\n",
    "\n",
    "    def mange(self):\n",
    "        print (\"En train de manger\")\n",
    "\n",
    "\n",
    "class Chien(Animal):\n",
    "    def __init__(self):\n",
    "        Animal.__init__(self)\n",
    "        print (\"Chien créé\")\n",
    "\n",
    "    def quiSuisJe(self):\n",
    "        print (\"Je suis un chien\")\n",
    "\n",
    "    def aboie(self):\n",
    "        print (\"Ouah !\")"
   ]
  },
  {
   "cell_type": "code",
   "execution_count": 28,
   "metadata": {},
   "outputs": [
    {
     "name": "stdout",
     "output_type": "stream",
     "text": [
      "Animal créé\n",
      "Chien créé\n"
     ]
    }
   ],
   "source": [
    "d = Chien()"
   ]
  },
  {
   "cell_type": "code",
   "execution_count": 29,
   "metadata": {},
   "outputs": [
    {
     "name": "stdout",
     "output_type": "stream",
     "text": [
      "Je suis un chien\n"
     ]
    }
   ],
   "source": [
    "d.quiSuisJe()"
   ]
  },
  {
   "cell_type": "code",
   "execution_count": 30,
   "metadata": {},
   "outputs": [
    {
     "name": "stdout",
     "output_type": "stream",
     "text": [
      "En train de manger\n"
     ]
    }
   ],
   "source": [
    "d.mange()"
   ]
  },
  {
   "cell_type": "code",
   "execution_count": 31,
   "metadata": {},
   "outputs": [
    {
     "name": "stdout",
     "output_type": "stream",
     "text": [
      "Ouah !\n"
     ]
    }
   ],
   "source": [
    "d.aboie()"
   ]
  },
  {
   "cell_type": "markdown",
   "metadata": {},
   "source": [
    "Dans cet exemple, nous avons deux classes: Animal et Chien. L'animal est la classe de base, le chien est la classe dérivée.\n",
    "\n",
    "La classe dérivée hérite des fonctionnalités de la classe de base.\n",
    "\n",
    "* Comme la méthode mange().\n",
    "\n",
    "La classe dérivée modifie le comportement existant de la classe de base.\n",
    "\n",
    "* Comme la méthode quiSuisJe().\n",
    "\n",
    "Enfin, la classe dérivée étend la fonctionnalité de la classe de base, en définissant une nouvelle méthode aboie()."
   ]
  },
  {
   "cell_type": "markdown",
   "metadata": {},
   "source": [
    "## Méthodes spéciales\n",
    "Pour terminer nous allons passer en revue quelques méthodes spéciales. Les classes en Python peuvent implémenter des opérations spécifiques grâce à certaines méthodes aux noms prédéfinis. Ces méthodes ne sont pas réellement appelées directement mais par une syntaxe spécifique Python.\n",
    "\n",
    "Par exemple, créons une classe Livre comme suit :"
   ]
  },
  {
   "cell_type": "code",
   "execution_count": 38,
   "metadata": {},
   "outputs": [],
   "source": [
    "class Livre(object):\n",
    "    def __init__(self, titre, auteur, pages):\n",
    "        print (\"Un livre est créé\")\n",
    "        self.titre = titre\n",
    "        self.auteur = auteur\n",
    "        self.pages = pages\n",
    "\n",
    "    def __str__(self):\n",
    "        return \"Titre : %s , auteur : %s, pages : %s \" %(self.titre, self.auteur, self.pages)\n",
    "\n",
    "    def __len__(self):\n",
    "        return self.pages\n",
    "\n",
    "    def __del__(self):\n",
    "        print (\"Un livre a été détruit\")"
   ]
  },
  {
   "cell_type": "code",
   "execution_count": 39,
   "metadata": {},
   "outputs": [
    {
     "name": "stdout",
     "output_type": "stream",
     "text": [
      "Un livre est créé\n",
      "Titre : Python Rocks! , auteur : Jose Portilla, pages : 159 \n",
      "159\n",
      "Un livre a été détruit\n"
     ]
    }
   ],
   "source": [
    "livre = Livre(\"Python Rocks!\", \"Jose Portilla\", 159)\n",
    "\n",
    "# Méthodes spéciales\n",
    "print (livre)\n",
    "print (len(livre))\n",
    "del livre"
   ]
  },
  {
   "cell_type": "markdown",
   "metadata": {},
   "source": [
    "    Les méthodes __init__(), __str__(), __len__() and the __del__() .\n",
    "    \n",
    "Ces méthodes spéciales sont facilement identifiées par l'utilisation de caractères de soulignement dans leurs noms. Elles nous permettent d'appliquer des fonctions spécifiques de Python sur des objets créés avec nos classes.\n",
    "\n",
    "**Bravo ! Après cette leçon, vous devriez avoir une connaissance de base de la façon de créer vos propres objets avec les classes en Python. Vous allez beaucoup l'utiliser dans votre prochain projet d'étape !**\n",
    "\n",
    "\n",
    "Pour plus d'informations sur ce sujet, voici quelques ressources (en anglais) :\n",
    "\n",
    "[Jeff Knupp's Post](https://www.jeffknupp.com/blog/2014/06/18/improve-your-python-python-classes-and-object-oriented-programming/)\n",
    "\n",
    "[Mozilla's Post](https://developer.mozilla.org/en-US/Learn/Python/Quickly_Learn_Object_Oriented_Programming)\n",
    "\n",
    "[Tutorial's Point](http://www.tutorialspoint.com/python/python_classes_objects.htm)\n",
    "\n",
    "[Official Documentation](https://docs.python.org/2/tutorial/classes.html)"
   ]
  },
  {
   "cell_type": "code",
   "execution_count": null,
   "metadata": {
    "collapsed": true
   },
   "outputs": [],
   "source": []
  }
 ],
 "metadata": {
  "anaconda-cloud": {},
  "kernelspec": {
   "display_name": "Python 3",
   "language": "python",
   "name": "python3"
  },
  "language_info": {
   "codemirror_mode": {
    "name": "ipython",
    "version": 3
   },
   "file_extension": ".py",
   "mimetype": "text/x-python",
   "name": "python",
   "nbconvert_exporter": "python",
   "pygments_lexer": "ipython3",
   "version": "3.6.3"
  }
 },
 "nbformat": 4,
 "nbformat_minor": 1
}
