{
 "cells": [
  {
   "cell_type": "markdown",
   "metadata": {},
   "source": [
    "# Boucles for\n",
    "\n",
    "Une boucle **for** permet de répéter un certain nombre de fois une série d'instructions, elle se déroule à travers une série d'élements en *séquence* ou tout autre élement itératif. Parmis les objets que nous avons vus et qui peuvent être utilisés en itérations nous trouvons les chaines (strings), listes, tuples et les éléments des dictionnaires comme les clefs et leurs valeurs.\n",
    "\n",
    "Nous avons déjà rencontré des directives **for*** dans des leçons précédentes, nous allons maintenant formaliser cette connaissance.\n",
    "\n",
    "Voici le format générique d'une boucle **for** avec Python :\n",
    "\n",
    "    for élément in objet:\n",
    "        instruction pour réaliser quelque chose"
   ]
  },
  {
   "cell_type": "markdown",
   "metadata": {},
   "source": [
    "Le nom de la variable utilisée pour l'élément est entièrement décidé par le programmeur, il faut donc que vous utilisiez un nom qui veut dire quelque chose et que vous pourrez comprendre quand vous lirez votre code. Cet élément pourra être utilisé dans la boucle, par exemple avec des instructions if si vous voulez réaliser des tests.\n",
    "\n",
    "Continuons avec plusieurs exemples de boucles **for** utilisant différents de types d'objets. Nous commençons simple et ajoutons plus de complexité au fur et à mesure.\n",
    "\n",
    "## Exemple 1\n",
    "Itérations à travers une liste."
   ]
  },
  {
   "cell_type": "code",
   "execution_count": 1,
   "metadata": {
    "collapsed": true
   },
   "outputs": [],
   "source": [
    "# Nous verrons comment automatiser ce type de liste dans la prochaine leçon\n",
    "l = [1,2,3,4,5,6,7,8,9,10]"
   ]
  },
  {
   "cell_type": "code",
   "execution_count": 2,
   "metadata": {
    "collapsed": false
   },
   "outputs": [
    {
     "name": "stdout",
     "output_type": "stream",
     "text": [
      "Voici un nombre : 1\n",
      "Voici un nombre : 2\n",
      "Voici un nombre : 3\n",
      "Voici un nombre : 4\n",
      "Voici un nombre : 5\n",
      "Voici un nombre : 6\n",
      "Voici un nombre : 7\n",
      "Voici un nombre : 8\n",
      "Voici un nombre : 9\n",
      "Voici un nombre : 10\n"
     ]
    }
   ],
   "source": [
    "for numéro in l:\n",
    "    print (\"Voici un nombre : %i\" % numéro)"
   ]
  },
  {
   "cell_type": "markdown",
   "metadata": {},
   "source": [
    "Bravo ! Cela devrait être simple à comprendre. Maintenant, ajoutons une instruction if pour tester les nombres pairs. Nous allons d'abord voir une nouvelle instruction--le modulo.\n",
    "\n",
    "### Modulo\n",
    "Le modulo nous permet d'obtenir le reste d'une division, le sympbole utilisé pour cela est %.\n",
    "\n",
    "Par exemple:"
   ]
  },
  {
   "cell_type": "code",
   "execution_count": 5,
   "metadata": {
    "collapsed": false
   },
   "outputs": [
    {
     "data": {
      "text/plain": [
       "2"
      ]
     },
     "execution_count": 5,
     "metadata": {},
     "output_type": "execute_result"
    }
   ],
   "source": [
    "17 % 5"
   ]
  },
  {
   "cell_type": "markdown",
   "metadata": {},
   "source": [
    "C'est bien ça puisque 17 divisé par 5 donne 3 avec un reste de 2.\n",
    "Voyons d'autres exemples faciles :"
   ]
  },
  {
   "cell_type": "code",
   "execution_count": 6,
   "metadata": {
    "collapsed": false
   },
   "outputs": [
    {
     "data": {
      "text/plain": [
       "1"
      ]
     },
     "execution_count": 6,
     "metadata": {},
     "output_type": "execute_result"
    }
   ],
   "source": [
    "# 3 reste 1\n",
    "10 % 3"
   ]
  },
  {
   "cell_type": "code",
   "execution_count": 10,
   "metadata": {
    "collapsed": false
   },
   "outputs": [
    {
     "data": {
      "text/plain": [
       "4"
      ]
     },
     "execution_count": 10,
     "metadata": {},
     "output_type": "execute_result"
    }
   ],
   "source": [
    "# 2 reste 4\n",
    "18 % 7"
   ]
  },
  {
   "cell_type": "code",
   "execution_count": 8,
   "metadata": {
    "collapsed": false
   },
   "outputs": [
    {
     "data": {
      "text/plain": [
       "0"
      ]
     },
     "execution_count": 8,
     "metadata": {},
     "output_type": "execute_result"
    }
   ],
   "source": [
    "# 2 pas de reste\n",
    "4 % 2"
   ]
  },
  {
   "cell_type": "markdown",
   "metadata": {},
   "source": [
    "Remarquez que si un nombre est divisible par un autre, le reste est 0 comme le résultat de l'instruction modulo. Nous pouvons utiliser cette propriété pour tester si un nombre est pair. Puisque si un nombre modulo 2 donne 0, cela voudra dire qu'il est pair !\n",
    "\n",
    "\n",
    "Revenons aux boucles **for** !\n",
    "\n",
    "## Exemple 2\n",
    "Cette fois nous n'affichons que les nombres pair de la liste !"
   ]
  },
  {
   "cell_type": "code",
   "execution_count": 3,
   "metadata": {
    "collapsed": false
   },
   "outputs": [
    {
     "name": "stdout",
     "output_type": "stream",
     "text": [
      "Ce nombre 2 est pair.\n",
      "Ce nombre 4 est pair.\n",
      "Ce nombre 6 est pair.\n",
      "Ce nombre 8 est pair.\n",
      "Ce nombre 10 est pair.\n"
     ]
    }
   ],
   "source": [
    "for numéro in l:\n",
    "    if numéro % 2 == 0:\n",
    "        print (\"Ce nombre %i est pair.\" % numéro)"
   ]
  },
  {
   "cell_type": "markdown",
   "metadata": {},
   "source": [
    "Nous aurions pu également utiliser une directive else :"
   ]
  },
  {
   "cell_type": "code",
   "execution_count": 4,
   "metadata": {
    "collapsed": false
   },
   "outputs": [
    {
     "name": "stdout",
     "output_type": "stream",
     "text": [
      "\tNombre impair\n",
      "Ce nombre 2 est pair.\n",
      "\tNombre impair\n",
      "Ce nombre 4 est pair.\n",
      "\tNombre impair\n",
      "Ce nombre 6 est pair.\n",
      "\tNombre impair\n",
      "Ce nombre 8 est pair.\n",
      "\tNombre impair\n",
      "Ce nombre 10 est pair.\n"
     ]
    }
   ],
   "source": [
    "for numéro in l:\n",
    "    if numéro % 2 == 0:\n",
    "        print (\"Ce nombre %i est pair.\" % numéro)\n",
    "    else:\n",
    "        print ('\\tNombre impair')"
   ]
  },
  {
   "cell_type": "markdown",
   "metadata": {},
   "source": [
    "## Exemple 3\n",
    "Une autre idée commune d'utilisation de boucle ** for ** est de conserver un compteur pendant la boucle.\n",
    "Par exemple, créons une boucle for qui va additionner les éléments de la liste :"
   ]
  },
  {
   "cell_type": "code",
   "execution_count": 13,
   "metadata": {
    "collapsed": false
   },
   "outputs": [
    {
     "name": "stdout",
     "output_type": "stream",
     "text": [
      "55\n"
     ]
    }
   ],
   "source": [
    "# La somme commence à zéro\n",
    "somme_liste = 0 \n",
    "\n",
    "for numéro in l:\n",
    "    somme_liste = somme_liste + numéro\n",
    "\n",
    "print (somme_liste)"
   ]
  },
  {
   "cell_type": "markdown",
   "metadata": {},
   "source": [
    "Bravo !\n",
    "\n",
    "Lisez attentivement la cellule précédente et assurez-vous de bien comprendre ce qui se passe.\n",
    "\n",
    "Nous aurions aussi pu utiliser une notation abrégée += pour faire l'addition.\n",
    "\n",
    "Par exemple:"
   ]
  },
  {
   "cell_type": "code",
   "execution_count": 14,
   "metadata": {
    "collapsed": false
   },
   "outputs": [
    {
     "name": "stdout",
     "output_type": "stream",
     "text": [
      "55\n"
     ]
    }
   ],
   "source": [
    "# La somme commence à zéro\n",
    "somme_liste = 0 \n",
    "\n",
    "for numéro in l:\n",
    "    somme_liste += numéro\n",
    "\n",
    "print (somme_liste)"
   ]
  },
  {
   "cell_type": "markdown",
   "metadata": {},
   "source": [
    "## Exemple 4\n",
    "\n",
    "Nous avons utilisé des boucles for avec des listes, essayons avec des chaine? N'oubliez pas que les chaine sont une séquence. Quand nous itérons à travers une chaine, nous accéderons à chaque élément de la chaine."
   ]
  },
  {
   "cell_type": "code",
   "execution_count": 15,
   "metadata": {
    "collapsed": false
   },
   "outputs": [
    {
     "name": "stdout",
     "output_type": "stream",
     "text": [
      "C\n",
      "e\n",
      "c\n",
      "i\n",
      " \n",
      "e\n",
      "s\n",
      "t\n",
      " \n",
      "u\n",
      "n\n",
      "e\n",
      " \n",
      "c\n",
      "h\n",
      "a\n",
      "i\n",
      "n\n",
      "e\n",
      ".\n"
     ]
    }
   ],
   "source": [
    "for lettre in 'Ceci est une chaine.':\n",
    "    print (lettre)"
   ]
  },
  {
   "cell_type": "markdown",
   "metadata": {},
   "source": [
    "## Exemple 5\n",
    "Voyons maintenant comment une boucle for s'utilise avec un Tuple :"
   ]
  },
  {
   "cell_type": "code",
   "execution_count": 16,
   "metadata": {
    "collapsed": false
   },
   "outputs": [
    {
     "name": "stdout",
     "output_type": "stream",
     "text": [
      "1\n",
      "2\n",
      "3\n",
      "4\n",
      "5\n"
     ]
    }
   ],
   "source": [
    "tup = (1,2,3,4,5)\n",
    "\n",
    "for t in tup:\n",
    "    print (t)"
   ]
  },
  {
   "cell_type": "markdown",
   "metadata": {},
   "source": [
    "## Exemple 6\n",
    "\n",
    "Les tuples ont une qualité particulière en ce qui concerne les boucles **for**. Si vous parcourez une séquence qui contient des tuples, l'élément pourra être le tuple lui-même, c'est un exemple de *déballage de  tuple* ou *unpacking*. Pendant la boucle **for** nous allons extraire le tuple à l'intérieur de la séquence et nous pourrons accéder aux différents éléments à l'intérieur de ce tuple !"
   ]
  },
  {
   "cell_type": "code",
   "execution_count": 17,
   "metadata": {
    "collapsed": true
   },
   "outputs": [],
   "source": [
    "l = [(2,4),(6,8),(10,12)]"
   ]
  },
  {
   "cell_type": "code",
   "execution_count": 18,
   "metadata": {
    "collapsed": false
   },
   "outputs": [
    {
     "name": "stdout",
     "output_type": "stream",
     "text": [
      "(2, 4)\n",
      "(6, 8)\n",
      "(10, 12)\n"
     ]
    }
   ],
   "source": [
    "for tup in l:\n",
    "    print (tup)"
   ]
  },
  {
   "cell_type": "code",
   "execution_count": 19,
   "metadata": {
    "collapsed": false
   },
   "outputs": [
    {
     "name": "stdout",
     "output_type": "stream",
     "text": [
      "2\n",
      "6\n",
      "10\n"
     ]
    }
   ],
   "source": [
    "# Maintenant déballons !\n",
    "for (t1,t2) in l:\n",
    "    print (t1)"
   ]
  },
  {
   "cell_type": "markdown",
   "metadata": {},
   "source": [
    "Bien !\n",
    "Avec des tuples dans une séquence, nous pouvons accéder directement aux éléments à l'intérieur des tuples à travers ce déballage! La raison pour laquelle ceci est important est que beaucoup d'objets présentent leurs éléments sous forme de tuples.\n",
    "\n",
    "Voyons maintenant comment faire des itérations à travers les dictionnaires pour continuer notre exploration !"
   ]
  },
  {
   "cell_type": "markdown",
   "metadata": {},
   "source": [
    "## Exemple 7"
   ]
  },
  {
   "cell_type": "code",
   "execution_count": null,
   "metadata": {
    "collapsed": true
   },
   "outputs": [],
   "source": [
    "d = {'clef1':1,'clef2':2,'clef3':3}"
   ]
  },
  {
   "cell_type": "code",
   "execution_count": null,
   "metadata": {
    "collapsed": false
   },
   "outputs": [],
   "source": [
    "for élément in d:\n",
    "    print (élément)"
   ]
  },
  {
   "cell_type": "markdown",
   "metadata": {},
   "source": [
    "Vous remarquez que nous n'obtenons que les clefs. Comment faire pour extraire les valeurs ? Ou mieux, les clefs et leur valeur ?\n"
   ]
  },
  {
   "cell_type": "markdown",
   "metadata": {},
   "source": [
    "### La méthode items()\n",
    "\n",
    "Nous pouvons utiliser la méthode .item() pour boucler à travers les clefs et leurs valeurs dans le dictionnaire.\n",
    "\n",
    "Par exemple :"
   ]
  },
  {
   "cell_type": "code",
   "execution_count": null,
   "metadata": {
    "collapsed": false
   },
   "outputs": [],
   "source": [
    "for clef, valeur in d.items():\n",
    "    print(clef)\n",
    "    print(valeur)  "
   ]
  },
  {
   "cell_type": "markdown",
   "metadata": {},
   "source": [
    "## Conclusion\n",
    "\n",
    "Nous avons appris comment utiliser les boucles avec les tuples, les listes, les chaines et les dictionnaires. Ce sera un outil important pour nous, alors assurez-vous d'avoir bien assimilé et compris les exemples ci-dessus.\n",
    "\n",
    "[More resources](http://www.tutorialspoint.com/python/python_for_loop.htm)"
   ]
  }
 ],
 "metadata": {
  "anaconda-cloud": {},
  "kernelspec": {
   "display_name": "Python 3",
   "language": "python",
   "name": "python3"
  },
  "language_info": {
   "codemirror_mode": {
    "name": "ipython",
    "version": 3
   },
   "file_extension": ".py",
   "mimetype": "text/x-python",
   "name": "python",
   "nbconvert_exporter": "python",
   "pygments_lexer": "ipython3",
   "version": "3.6.0"
  }
 },
 "nbformat": 4,
 "nbformat_minor": 0
}
