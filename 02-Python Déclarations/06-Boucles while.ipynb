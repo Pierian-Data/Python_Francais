{
 "cells": [
  {
   "cell_type": "markdown",
   "metadata": {
    "collapsed": true
   },
   "source": [
    "# Les boucles while (tant que)\n",
    "\n",
    "La directive **while** en Python est une des façon les plus commune de faire des iteration. La directive **while** va répéter un groupe d'instructions tant qu'une condition est vraie. La raison pour laquelle c'est appelé une 'boucle' est que les lignes de codes sont répétées encore et encore jusqu'à ce que la condition ne soit plus réalisée.\n",
    "\n",
    "Le format général de la boucle while est :\n",
    "\n",
    "    while test:\n",
    "        lignes de code\n",
    "    else:\n",
    "        lignes de codes de cloture\n",
    "\n",
    "Voyons quelques exemples simples de boucles while en action :"
   ]
  },
  {
   "cell_type": "code",
   "execution_count": 1,
   "metadata": {},
   "outputs": [
    {
     "name": "stdout",
     "output_type": "stream",
     "text": [
      "x vaut :  0\n",
      " x est toujours inférieur à 10, on ajoute 1 à x\n",
      "x vaut :  1\n",
      " x est toujours inférieur à 10, on ajoute 1 à x\n",
      "x vaut :  2\n",
      " x est toujours inférieur à 10, on ajoute 1 à x\n",
      "x vaut :  3\n",
      " x est toujours inférieur à 10, on ajoute 1 à x\n",
      "x vaut :  4\n",
      " x est toujours inférieur à 10, on ajoute 1 à x\n",
      "x vaut :  5\n",
      " x est toujours inférieur à 10, on ajoute 1 à x\n",
      "x vaut :  6\n",
      " x est toujours inférieur à 10, on ajoute 1 à x\n",
      "x vaut :  7\n",
      " x est toujours inférieur à 10, on ajoute 1 à x\n",
      "x vaut :  8\n",
      " x est toujours inférieur à 10, on ajoute 1 à x\n",
      "x vaut :  9\n",
      " x est toujours inférieur à 10, on ajoute 1 à x\n"
     ]
    }
   ],
   "source": [
    "x = 0\n",
    "\n",
    "while x < 10:\n",
    "    print ('x vaut : ',x)\n",
    "    print (' x est toujours inférieur à 10, on ajoute 1 à x')\n",
    "    x+=1"
   ]
  },
  {
   "cell_type": "markdown",
   "metadata": {},
   "source": [
    "Notez le nombre de lignes afffichées et comment la boucle while a continué jusqu'à ce que la condition True soit rencontrée, ce qui se produit quand x == 10. Il est important de noter qu'une fois que cela s'est produit, le programme s'arrête.\n",
    "\n",
    "Voyons comment ajouter une instruction else :"
   ]
  },
  {
   "cell_type": "code",
   "execution_count": 2,
   "metadata": {},
   "outputs": [
    {
     "name": "stdout",
     "output_type": "stream",
     "text": [
      "x vaut :  0\n",
      " x est toujours inférieur à 10, on ajoute 1 à x\n",
      "x vaut :  1\n",
      " x est toujours inférieur à 10, on ajoute 1 à x\n",
      "x vaut :  2\n",
      " x est toujours inférieur à 10, on ajoute 1 à x\n",
      "x vaut :  3\n",
      " x est toujours inférieur à 10, on ajoute 1 à x\n",
      "x vaut :  4\n",
      " x est toujours inférieur à 10, on ajoute 1 à x\n",
      "x vaut :  5\n",
      " x est toujours inférieur à 10, on ajoute 1 à x\n",
      "x vaut :  6\n",
      " x est toujours inférieur à 10, on ajoute 1 à x\n",
      "x vaut :  7\n",
      " x est toujours inférieur à 10, on ajoute 1 à x\n",
      "x vaut :  8\n",
      " x est toujours inférieur à 10, on ajoute 1 à x\n",
      "x vaut :  9\n",
      " x est toujours inférieur à 10, on ajoute 1 à x\n",
      "Terminé !\n"
     ]
    }
   ],
   "source": [
    "x = 0\n",
    "\n",
    "while x < 10:\n",
    "    print ('x vaut : ',x)\n",
    "    print (' x est toujours inférieur à 10, on ajoute 1 à x')\n",
    "    x+=1\n",
    "    \n",
    "else:\n",
    "    print ('Terminé !')"
   ]
  },
  {
   "cell_type": "markdown",
   "metadata": {},
   "source": [
    "# break, continue, pass\n",
    "\n",
    "Il est possible d'utiliser les instructions break, continue et pass dans les boucles pour avoir plus de fonctionnalités dans certains cas.\n",
    "Ces trois instructions sont définies par :\n",
    "\n",
    "    break: Casse et sort de la boucle en cours.\n",
    "    continue: Va directement au début de la boucle en cours.\n",
    "    pass: Ne fait rien.\n",
    "    \n",
    "Pour ce qui concerne les instructions **break** et **continue**, le format général de la boucle while ressemble à ceci :\n",
    "\n",
    "    while test: \n",
    "        lignes de code\n",
    "        if test: \n",
    "            break\n",
    "        if test: \n",
    "            continue \n",
    "    else:\n",
    "\n",
    "Les instructions **break** et **continue** peuvent apparaitre à n'importe quel endroit du corps de la boucle, mais elles apparaissent généralement combinées avec une instruction **if** pour réaliser une action qui dépend du résultat d'un test.\n",
    "\n",
    "Continuons et voyons quelques exemples !"
   ]
  },
  {
   "cell_type": "code",
   "execution_count": 3,
   "metadata": {},
   "outputs": [
    {
     "name": "stdout",
     "output_type": "stream",
     "text": [
      "x vaut :  0\n",
      " x est toujours inférieur à 10, on ajoute 1 à x\n",
      "on contine...\n",
      "x vaut :  1\n",
      " x est toujours inférieur à 10, on ajoute 1 à x\n",
      "on contine...\n",
      "x vaut :  2\n",
      " x est toujours inférieur à 10, on ajoute 1 à x\n",
      "x==3\n",
      "x vaut :  3\n",
      " x est toujours inférieur à 10, on ajoute 1 à x\n",
      "on contine...\n",
      "x vaut :  4\n",
      " x est toujours inférieur à 10, on ajoute 1 à x\n",
      "on contine...\n",
      "x vaut :  5\n",
      " x est toujours inférieur à 10, on ajoute 1 à x\n",
      "on contine...\n",
      "x vaut :  6\n",
      " x est toujours inférieur à 10, on ajoute 1 à x\n",
      "on contine...\n",
      "x vaut :  7\n",
      " x est toujours inférieur à 10, on ajoute 1 à x\n",
      "on contine...\n",
      "x vaut :  8\n",
      " x est toujours inférieur à 10, on ajoute 1 à x\n",
      "on contine...\n",
      "x vaut :  9\n",
      " x est toujours inférieur à 10, on ajoute 1 à x\n",
      "on contine...\n"
     ]
    }
   ],
   "source": [
    "x = 0\n",
    "\n",
    "while x < 10:\n",
    "    print ('x vaut : ',x)\n",
    "    print (' x est toujours inférieur à 10, on ajoute 1 à x')\n",
    "    x+=1\n",
    "    if x ==3:\n",
    "        print ('x==3')\n",
    "    else:\n",
    "        print ('on contine...')\n",
    "        continue"
   ]
  },
  {
   "cell_type": "markdown",
   "metadata": {},
   "source": [
    "Remarquez l'affichage particulier lorsque x == 3, et le 'on continue' sinon lorsque la boucle est exécutée.\n",
    "\n",
    "Ajoutons un break quand x == 3 et voyons ce que ça donne :"
   ]
  },
  {
   "cell_type": "code",
   "execution_count": 4,
   "metadata": {},
   "outputs": [
    {
     "name": "stdout",
     "output_type": "stream",
     "text": [
      "x vaut :  0\n",
      " x est toujours inférieur à 10, on ajoute 1 à x\n",
      "on contine...\n",
      "x vaut :  1\n",
      " x est toujours inférieur à 10, on ajoute 1 à x\n",
      "on contine...\n",
      "x vaut :  2\n",
      " x est toujours inférieur à 10, on ajoute 1 à x\n",
      "On arrête parce que x==3\n"
     ]
    }
   ],
   "source": [
    "x = 0\n",
    "\n",
    "while x < 10:\n",
    "    print ('x vaut : ',x)\n",
    "    print (' x est toujours inférieur à 10, on ajoute 1 à x')\n",
    "    x+=1\n",
    "    if x ==3:\n",
    "        print ('On arrête parce que x==3')\n",
    "        break\n",
    "    else:\n",
    "        print ('on contine...')\n",
    "        continue"
   ]
  },
  {
   "cell_type": "markdown",
   "metadata": {},
   "source": [
    "Remarquez que la directive else n'a jamais été atteinte et le message du continue n'a jamais été affiché.\n",
    "\n",
    "Après ces exemples courts et seimples, vous devriez être à l'aise pour utliser des boucles while dans votre code.\n",
    "\n",
    "**Un mot de prudence cependant! Il est possible de créer une boucle infinie avec des instructions while. Par exemple:**"
   ]
  },
  {
   "cell_type": "code",
   "execution_count": null,
   "metadata": {},
   "outputs": [],
   "source": [
    "# Surtout ne PAS exécuter ce CODE!!!! \n",
    "while True:\n",
    "    print ('Désastre, une boucle infinie !')"
   ]
  }
 ],
 "metadata": {
  "anaconda-cloud": {},
  "kernelspec": {
   "display_name": "Python 3",
   "language": "python",
   "name": "python3"
  },
  "language_info": {
   "codemirror_mode": {
    "name": "ipython",
    "version": 3
   },
   "file_extension": ".py",
   "mimetype": "text/x-python",
   "name": "python",
   "nbconvert_exporter": "python",
   "pygments_lexer": "ipython3",
   "version": "3.6.8"
  }
 },
 "nbformat": 4,
 "nbformat_minor": 1
}
