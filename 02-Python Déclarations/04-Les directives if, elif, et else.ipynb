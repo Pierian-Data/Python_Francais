{
 "cells": [
  {
   "cell_type": "markdown",
   "metadata": {},
   "source": [
    "# Les directives if,elif et else\n",
    "\n",
    "La directive Python *if* va nous permettre de dire au programme d'exécuter différentes actions en fonction du résultats à certain tests.\n",
    "\n",
    "\n",
    "Nous pouvons imaginer que nous demandons à l'ordinateur :\n",
    "\"Hé, si ceci se produit, exécute cette action\"\n",
    "\n",
    "Nous pouvons développer cette idée plus loin avec les directives *elif* et *else*, qui vont nous permettre de dire à l'ordinateur :\n",
    "\n",
    "\"Ohé, si ceci se produit, fait cela. Autrement, si cet autre cas se produit, fait plutôt ceci. Sinon-- aucun de ces cas ne s'est produit, fait donc cette action.\"\n",
    "\n",
    "Allons-y et jetons un coup d'oeil à la syntaxe des directives if pour avoir une idée plus précise de tout ça :\n",
    "\n",
    "    if cas1:\n",
    "        exécute action1\n",
    "    elif cas2:\n",
    "        exécute action2\n",
    "    else: \n",
    "        exécute action 3"
   ]
  },
  {
   "cell_type": "markdown",
   "metadata": {},
   "source": [
    "## Premier exemple\n",
    "\n",
    "Regardons un exemple simple :"
   ]
  },
  {
   "cell_type": "code",
   "execution_count": 2,
   "metadata": {},
   "outputs": [
    {
     "name": "stdout",
     "output_type": "stream",
     "text": [
      "C'est vrai !\n"
     ]
    }
   ],
   "source": [
    "if True:\n",
    "    print (\"C'est vrai !\")"
   ]
  },
  {
   "cell_type": "markdown",
   "metadata": {},
   "source": [
    "Ajoutons un sinon (else) :"
   ]
  },
  {
   "cell_type": "code",
   "execution_count": 3,
   "metadata": {},
   "outputs": [
    {
     "name": "stdout",
     "output_type": "stream",
     "text": [
      "Ceci va être affiché chaque fois que x n'est pas vrai\n"
     ]
    }
   ],
   "source": [
    "x = False\n",
    "\n",
    "if x:\n",
    "    print ('x est vrai !')\n",
    "else:\n",
    "    print (\"Ceci va être affiché chaque fois que x n'est pas vrai\")"
   ]
  },
  {
   "cell_type": "markdown",
   "metadata": {},
   "source": [
    "### Branchements multiples\n",
    "\n",
    "Maintenant, regardons jusqu'où nous pouvons aller avec if, elif, et else !\n",
    "\n",
    "Nous allons écrire une structure imbriquée. Remarquez comment le if, elif et else sont alignés. Cela devrait vous aider à comprendre quel if est en relation avec quel elif ou else.\n",
    "\n",
    "Nous allons revoir aussi la syntaxe des tests logiques avec Python."
   ]
  },
  {
   "cell_type": "code",
   "execution_count": 8,
   "metadata": {},
   "outputs": [
    {
     "name": "stdout",
     "output_type": "stream",
     "text": [
      "Bienvenue à la banque!\n"
     ]
    }
   ],
   "source": [
    "loc = 'Banque'\n",
    "\n",
    "if loc == 'Magasin Auto':\n",
    "    print ('Bienvenue au Magasin Auto!')\n",
    "elif loc == 'Banque':\n",
    "    print ('Bienvenue à la banque!')\n",
    "else:\n",
    "    print (\"Où es-tu?\")"
   ]
  },
  {
   "cell_type": "markdown",
   "metadata": {},
   "source": [
    "Remarquez comment les directives if imbriquées sont vérifiées jusqu'à ce qu'un booléen True va permettre au code qui suit de s'exécuter. Vous devez aussi noter que vous pouvez ajouter autant de elif que nécessaire avant de terminer la série avec un else.\n",
    "\n",
    "Voyons deux autres exemples simples pour les directives if, elif et else :"
   ]
  },
  {
   "cell_type": "code",
   "execution_count": 9,
   "metadata": {},
   "outputs": [
    {
     "name": "stdout",
     "output_type": "stream",
     "text": [
      "Bienvenue Sammy!\n"
     ]
    }
   ],
   "source": [
    "personne = 'Sammy'\n",
    "\n",
    "if personne == 'Sammy':\n",
    "    print ('Bienvenue Sammy!')\n",
    "else:\n",
    "    print (\"Bienvenue, quel est ton nom ?\" )"
   ]
  },
  {
   "cell_type": "code",
   "execution_count": 11,
   "metadata": {},
   "outputs": [
    {
     "name": "stdout",
     "output_type": "stream",
     "text": [
      "Bienvenue Georges!\n"
     ]
    }
   ],
   "source": [
    "personne = 'Georges'\n",
    "\n",
    "if personne == 'Sammy':\n",
    "    print ('Bienvenue Sammy!')\n",
    "elif personne =='Georges':\n",
    "    print (\"Bienvenue Georges!\")\n",
    "else:\n",
    "    print (\"Bienvenue, quel est ton nom ?\" )"
   ]
  },
  {
   "cell_type": "markdown",
   "metadata": {},
   "source": [
    "## Indentation\n",
    "\n",
    "Il est très important de comprendre comment fonctionne l'indentation est utilisée avec Python pour maintenir la structure et l'organisation de votre code.\n",
    "\n",
    "Nous reviendrons sur ce sujet quand nous allons commencer à construire des fonctions !"
   ]
  },
  {
   "cell_type": "code",
   "execution_count": null,
   "metadata": {
    "collapsed": true
   },
   "outputs": [],
   "source": []
  }
 ],
 "metadata": {
  "anaconda-cloud": {},
  "kernelspec": {
   "display_name": "Python 3",
   "language": "python",
   "name": "python3"
  },
  "language_info": {
   "codemirror_mode": {
    "name": "ipython",
    "version": 3
   },
   "file_extension": ".py",
   "mimetype": "text/x-python",
   "name": "python",
   "nbconvert_exporter": "python",
   "pygments_lexer": "ipython3",
   "version": "3.6.8"
  }
 },
 "nbformat": 4,
 "nbformat_minor": 1
}
