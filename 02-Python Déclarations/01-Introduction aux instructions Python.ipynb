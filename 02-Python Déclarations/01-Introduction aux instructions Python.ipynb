{
 "cells": [
  {
   "cell_type": "markdown",
   "metadata": {
    "slideshow": {
     "slide_type": "slide"
    }
   },
   "source": [
    "# Introduction aux instructions Python\n",
    "\n",
    "Dans cette leçon nous allons faire une rapide introduction aux instructions Python. Nous mettrons l'accent sur les différences entre Python et d'autres langages comme C++.\n",
    "\n",
    "Il y a deux raisons pour procéder de la sorte dans l'apprentissage des instructions Python.\n",
    "\n",
    "    1.) Si vous connaissez déjà un autre langage, cela va accélérer votre apprentissage de Python.\n",
    "    2.) Apprendre de cette manière vous aidera à comprendre d'autres langages dans le futur."
   ]
  },
  {
   "cell_type": "markdown",
   "metadata": {
    "slideshow": {
     "slide_type": "slide"
    }
   },
   "source": [
    "## Python par rapport aux autres langages\n",
    "\n",
    "Créons une déclaration simple pour faire :\n",
    "\"Si a est plus grand que b, assigner 2 à a et 4 à b\"\n",
    "\n",
    "Regardez ces deux blocs d'instructions *if* (nous apprendrons comment construire des blocs if plus tard). \n",
    "\n",
    "**Version 1 (Autres langages)**\n",
    "\n",
    "    if (a>b){\n",
    "        a = 2;\n",
    "        b = 4;\n",
    "    }\n",
    "                        \n",
    "**Version 2 (Python)**   \n",
    "\n",
    "    if a>b:\n",
    "        a = 2\n",
    "        b = 4"
   ]
  },
  {
   "cell_type": "markdown",
   "metadata": {},
   "source": [
    "Vous remarquerez que Python est moins chargé et bien plus lisible que la première version. Comment Python gère-t-il cela ?\n",
    "\n",
    "Regardons les différences principales :\n",
    "\n",
    "Python n'utilise ni () ni {} en prenant en compte deux facteurs principaux : le *deux point* et les *espaces*. L'instruction se termine par deux points, et l'indentation permet de mettre en évidence ce qui sera exécuté.\n",
    "\n",
    "Une autre différence majeure est l'absence de point virgule avec Python. Le point virgule est utilisé pour signaler la fin d'un instruction dans de nombreux langages, mais en Python, la fin de ligne signale aussi la fin d'une instruction.\n",
    "\n",
    "Pour terminer cette introduction rapide des différences, regardons de plus près la syntaxe indentée de Python par rapport à d'autres langages :\n",
    "\n",
    "## Indentation\n",
    "\n",
    "Voici quelques lignes de pseudo-code pour présenter l'usage des espaces et de l'indentation en Python :\n",
    "\n",
    "**Autres langages**\n",
    "\n",
    "    if (x)\n",
    "        if (y)\n",
    "            ligne-de-code;\n",
    "    else\n",
    "        autre-ligne-de-code;\n",
    "        \n",
    "**Python**\n",
    "    \n",
    "    if x:\n",
    "        if y:\n",
    "            ligne-de-code\n",
    "    else:\n",
    "        autre-ligne-de-code"
   ]
  },
  {
   "cell_type": "markdown",
   "metadata": {},
   "source": [
    "Notez comment Python est piloté par l'indentation de code et les espaces. Cela signifie que la lisibilité du code est une partie essentielle de la conception du langage Python.\n",
    "\n",
    "Maintenant nous allons nous plonger plus profond en apprenant à coder ce type d'instructions en Python !"
   ]
  },
  {
   "cell_type": "markdown",
   "metadata": {
    "collapsed": true
   },
   "source": [
    "## C'est le moment de commencer à coder !"
   ]
  }
 ],
 "metadata": {
  "anaconda-cloud": {},
  "kernelspec": {
   "display_name": "Python 3",
   "language": "python",
   "name": "python3"
  },
  "language_info": {
   "codemirror_mode": {
    "name": "ipython",
    "version": 3
   },
   "file_extension": ".py",
   "mimetype": "text/x-python",
   "name": "python",
   "nbconvert_exporter": "python",
   "pygments_lexer": "ipython3",
   "version": "3.6.8"
  }
 },
 "nbformat": 4,
 "nbformat_minor": 1
}
