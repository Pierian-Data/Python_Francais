{
 "cells": [
  {
   "cell_type": "markdown",
   "metadata": {},
   "source": [
    "# Approfondissements sur les décorateurs \n",
    "\n",
    "## Projet personnel sur les décorateurs (optionnel)\n",
    "\n",
    "Ce projet est facultatif, vous ne rencontrerez sans doute pas de décorateurs avant longtemps dans votre carrière de codeur. \n",
    "\n",
    "Consultez d'abord le Framework Web [Flask](http://flask.pocoo.org/). Vous pouvez utiliser Flask pour créer des pages Web avec Python (il suffit pour cela de connaitre un petit peu HTML et CSS) et il utilise beaucoup de décorateurs dans son propre code ! Vous pouvez en apprendre plus sur comment ils utilisent les [décorateurs](http://flask.pocoo.org/docs/0.10/patterns/viewdecorators/). Ne vous inquiétez pas si vous ne comprenez pas tout sur Flask, le point principal de ce travail facultatif est que vous compreniez comment les décorateurs sont employés dans le cadre Web. De cette façon, si vous décidez de devenir un Dévelopeur Python «Full-Stack» pour le Web, vous ne resterez pas longtemps perplexe devant les décorateurs. \n",
    "\n",
    "Vous pouvez également consulter [Django](https://www.djangoproject.com/) un autre (et plus populaire) framework web pour Python qui est un peu plus complexe.\n",
    "\n",
    "## Quelques informations supplémentaires:\n",
    "### framework\n",
    "\n",
    "Un **framework** est un type de bibliothèque logicielle qui fournit des fonctionnalités génériques qui peuvent être utilisées par le programmeur pour créer des applications plus efficacement. Flask et Django sont de bons exemples de frameworks destinés au développement web.\n",
    "\n",
    "### API\n",
    "Un framework est plus qu'une simple bibliothèque ou Interface Applicative de Programme (*Application Program Interface ou API*). Une API est un logiciel que le développeur peut utiliser dans son application. Un framework est plus large : votre application entière est structurée autour du framework (c'est-à-dire qu'elle fournit le cadre autour duquel vous construisez votre logiciel).\n",
    "\n",
    "## Bravo !"
   ]
  },
  {
   "cell_type": "code",
   "execution_count": null,
   "metadata": {
    "collapsed": true
   },
   "outputs": [],
   "source": []
  },
  {
   "cell_type": "code",
   "execution_count": null,
   "metadata": {
    "collapsed": true
   },
   "outputs": [],
   "source": []
  }
 ],
 "metadata": {
  "anaconda-cloud": {},
  "kernelspec": {
   "display_name": "Python 3",
   "language": "python",
   "name": "python3"
  },
  "language_info": {
   "codemirror_mode": {
    "name": "ipython",
    "version": 3
   },
   "file_extension": ".py",
   "mimetype": "text/x-python",
   "name": "python",
   "nbconvert_exporter": "python",
   "pygments_lexer": "ipython3",
   "version": "3.6.0"
  }
 },
 "nbformat": 4,
 "nbformat_minor": 0
}
