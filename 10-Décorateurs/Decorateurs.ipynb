{
 "cells": [
  {
   "cell_type": "markdown",
   "metadata": {},
   "source": [
    "# Les décorateurs\n",
    "\n",
    "Les décorateurs sont des fonctions qui modifient la *fonctionnalité* d'une autre fonction. Ils aident à rendre votre code plus court et plus «Pythonesque».\n",
    "\n",
    "Pour bien expliquer les décorateurs, nous allons lentement en construire à partir d'une fonction. Assurez-vous de redémarrer Python dans le bloc-note pour que cette leçon ait la même apparence sur votre propre ordinateur. \n",
    "Donc, commençons à décomposer les étapes:\n",
    "\n",
    "## Révisions sur les fonctions"
   ]
  },
  {
   "cell_type": "code",
   "execution_count": 1,
   "metadata": {
    "collapsed": false
   },
   "outputs": [],
   "source": [
    "def fonc():\n",
    "    return 1"
   ]
  },
  {
   "cell_type": "code",
   "execution_count": 2,
   "metadata": {
    "collapsed": false
   },
   "outputs": [
    {
     "data": {
      "text/plain": [
       "1"
      ]
     },
     "execution_count": 2,
     "metadata": {},
     "output_type": "execute_result"
    }
   ],
   "source": [
    "fonc()"
   ]
  },
  {
   "cell_type": "markdown",
   "metadata": {},
   "source": [
    "## Révision de la portée\n",
    "Rappelez-vous de la leçon sur les imbrications et comment la portée fonctionne avec Python pour savoir à quoi se réfère une variable. Par exemple:"
   ]
  },
  {
   "cell_type": "code",
   "execution_count": 1,
   "metadata": {
    "collapsed": false
   },
   "outputs": [],
   "source": [
    "s = 'Variable Globale'\n",
    "\n",
    "def fonc():\n",
    "    print (locals())"
   ]
  },
  {
   "cell_type": "markdown",
   "metadata": {},
   "source": [
    "Rappelez-vous que chaque fonction Python crée une nouvelle zone de portée des variables, ce qui signifie que la fonction a son propre espace de noms pour trouver les noms de variable lorsqu'ils sont mentionnés dans la fonction. Nous pouvons vérifier les variables locales et globales avec les fonctions locals() et globals(). Par exemple:"
   ]
  },
  {
   "cell_type": "code",
   "execution_count": 5,
   "metadata": {
    "collapsed": false
   },
   "outputs": [
    {
     "name": "stdout",
     "output_type": "stream",
     "text": [
      "{'___': '', 'func': <function func at 0x1048149d8>, '__spec__': None, 'fonc': <function fonc at 0x104814268>, 'exit': <IPython.core.autocall.ZMQExitAutocall object at 0x1047872e8>, '_i1': 'def fonc():\\n    return 1', '__builtin__': <module 'builtins' (built-in)>, 'Out': {2: 1}, '_sh': <module 'IPython.core.shadowns' from '/Users/marc/anaconda3/lib/python3.5/site-packages/IPython/core/shadowns.py'>, 'get_ipython': <bound method InteractiveShell.get_ipython of <ipykernel.zmqshell.ZMQInteractiveShell object at 0x10473f358>>, '__builtins__': <module 'builtins' (built-in)>, '__loader__': None, '_i3': \"s = 'Variable Globale'\\n\\ndef func():\\n    print locals()\", '_i4': \"s = 'Variable Globale'\\n\\ndef func():\\n    print (locals())\", '__doc__': 'Automatically created module for IPython interactive environment', '_i2': 'fonc()', '__name__': '__main__', 's': 'Variable Globale', '_i': \"s = 'Variable Globale'\\n\\ndef func():\\n    print (locals())\", '_2': 1, '_': 1, '_i5': 'print (globals())', '_iii': 'fonc()', '__package__': None, '__': '', 'quit': <IPython.core.autocall.ZMQExitAutocall object at 0x1047872e8>, '_oh': {2: 1}, '_ih': ['', 'def fonc():\\n    return 1', 'fonc()', \"s = 'Variable Globale'\\n\\ndef func():\\n    print locals()\", \"s = 'Variable Globale'\\n\\ndef func():\\n    print (locals())\", 'print (globals())'], '_ii': \"s = 'Variable Globale'\\n\\ndef func():\\n    print locals()\", '_dh': ['/Users/marc/GitHub/Python_Francais/Partie10_Décorateurs'], 'In': ['', 'def fonc():\\n    return 1', 'fonc()', \"s = 'Variable Globale'\\n\\ndef func():\\n    print locals()\", \"s = 'Variable Globale'\\n\\ndef func():\\n    print (locals())\", 'print (globals())']}\n"
     ]
    }
   ],
   "source": [
    "print (globals())"
   ]
  },
  {
   "cell_type": "markdown",
   "metadata": {
    "collapsed": true
   },
   "source": [
    "Ici, nous obtenons un dictionnaire de toutes les variables globales, beaucoup d'entre elles sont prédéfinies par Python. Regardons les clefs de plus près :"
   ]
  },
  {
   "cell_type": "code",
   "execution_count": 6,
   "metadata": {
    "collapsed": false
   },
   "outputs": [
    {
     "name": "stdout",
     "output_type": "stream",
     "text": [
      "dict_keys(['___', 'func', '__spec__', 'fonc', 'exit', '_i1', '__builtin__', 'Out', '_sh', 'get_ipython', '__builtins__', '__loader__', '_i3', '_i4', '__doc__', '_i2', '__name__', 's', '_i', '_2', '_', '_i5', '_iii', '_i6', '__package__', '__', 'quit', '_oh', '_ih', '_ii', '_dh', 'In'])\n"
     ]
    }
   ],
   "source": [
    "print (globals().keys())"
   ]
  },
  {
   "cell_type": "markdown",
   "metadata": {},
   "source": [
    "Remarquez la présence de **s**, la Variable Globale que nous avons définie comme une chaine :"
   ]
  },
  {
   "cell_type": "code",
   "execution_count": 7,
   "metadata": {
    "collapsed": false
   },
   "outputs": [
    {
     "data": {
      "text/plain": [
       "'Variable Globale'"
      ]
     },
     "execution_count": 7,
     "metadata": {},
     "output_type": "execute_result"
    }
   ],
   "source": [
    "globals()['s']"
   ]
  },
  {
   "cell_type": "markdown",
   "metadata": {},
   "source": [
    "Maintenant, exécutons notre fonction pour vérifier toutes les variables locales dans func() (il ne devrait pas y avoir)"
   ]
  },
  {
   "cell_type": "code",
   "execution_count": 8,
   "metadata": {
    "collapsed": false
   },
   "outputs": [
    {
     "name": "stdout",
     "output_type": "stream",
     "text": [
      "{}\n"
     ]
    }
   ],
   "source": [
    "func()"
   ]
  },
  {
   "cell_type": "markdown",
   "metadata": {},
   "source": [
    "Bravo ! Maintenant, continons à construire la logique d'un décorateur. Rappelez-vous que dans Python **tout est un objet**. Cela signifie que les fonctions sont des objets auxquels il est possible d'attribuer des étiquettes et de les transmettre à d'autres fonctions. Commençons par quelques exemples simples:"
   ]
  },
  {
   "cell_type": "code",
   "execution_count": 9,
   "metadata": {
    "collapsed": true
   },
   "outputs": [],
   "source": [
    "def bonjour(nom='Marc'):\n",
    "    return 'Bonjour ' + nom"
   ]
  },
  {
   "cell_type": "code",
   "execution_count": 10,
   "metadata": {
    "collapsed": false
   },
   "outputs": [
    {
     "data": {
      "text/plain": [
       "'Bonjour Marc'"
      ]
     },
     "execution_count": 10,
     "metadata": {},
     "output_type": "execute_result"
    }
   ],
   "source": [
    "bonjour()"
   ]
  },
  {
   "cell_type": "markdown",
   "metadata": {},
   "source": [
    "Attribuons une étiquette à la fonction. Notez que nous n'utilisont pas de parenthèses ici parce que nous n'appelons pas la fonction bonjour, au lieu de cela, nous la mettons simplement dans la variable salut."
   ]
  },
  {
   "cell_type": "code",
   "execution_count": 11,
   "metadata": {
    "collapsed": true
   },
   "outputs": [],
   "source": [
    "salut = bonjour"
   ]
  },
  {
   "cell_type": "code",
   "execution_count": 12,
   "metadata": {
    "collapsed": false
   },
   "outputs": [
    {
     "data": {
      "text/plain": [
       "<function __main__.bonjour>"
      ]
     },
     "execution_count": 12,
     "metadata": {},
     "output_type": "execute_result"
    }
   ],
   "source": [
    "salut"
   ]
  },
  {
   "cell_type": "code",
   "execution_count": 13,
   "metadata": {
    "collapsed": false
   },
   "outputs": [
    {
     "data": {
      "text/plain": [
       "'Bonjour Marc'"
      ]
     },
     "execution_count": 13,
     "metadata": {},
     "output_type": "execute_result"
    }
   ],
   "source": [
    "salut()"
   ]
  },
  {
   "cell_type": "markdown",
   "metadata": {},
   "source": [
    "Cette affectation n'est pas rattachée à la fonction d'origine:"
   ]
  },
  {
   "cell_type": "code",
   "execution_count": 14,
   "metadata": {
    "collapsed": true
   },
   "outputs": [],
   "source": [
    "del bonjour"
   ]
  },
  {
   "cell_type": "code",
   "execution_count": 15,
   "metadata": {
    "collapsed": false
   },
   "outputs": [
    {
     "ename": "NameError",
     "evalue": "name 'bonjour' is not defined",
     "output_type": "error",
     "traceback": [
      "\u001b[0;31m---------------------------------------------------------------------------\u001b[0m",
      "\u001b[0;31mNameError\u001b[0m                                 Traceback (most recent call last)",
      "\u001b[0;32m<ipython-input-15-5b9b59480c98>\u001b[0m in \u001b[0;36m<module>\u001b[0;34m()\u001b[0m\n\u001b[0;32m----> 1\u001b[0;31m \u001b[0mbonjour\u001b[0m\u001b[0;34m(\u001b[0m\u001b[0;34m)\u001b[0m\u001b[0;34m\u001b[0m\u001b[0m\n\u001b[0m",
      "\u001b[0;31mNameError\u001b[0m: name 'bonjour' is not defined"
     ]
    }
   ],
   "source": [
    "bonjour()"
   ]
  },
  {
   "cell_type": "code",
   "execution_count": 16,
   "metadata": {
    "collapsed": false
   },
   "outputs": [
    {
     "data": {
      "text/plain": [
       "'Bonjour Marc'"
      ]
     },
     "execution_count": 16,
     "metadata": {},
     "output_type": "execute_result"
    }
   ],
   "source": [
    "salut()"
   ]
  },
  {
   "cell_type": "markdown",
   "metadata": {},
   "source": [
    "## Fonctions dans une fonction\n",
    "\n",
    "Très bien !\n",
    "Nous avons vu comment nous pouvons traiter les fonctions comme des objets, maintenant nous allons voir comment nous pouvons définir des fonctions à l'intérieur d'autres fonctions:"
   ]
  },
  {
   "cell_type": "code",
   "execution_count": 17,
   "metadata": {
    "collapsed": true
   },
   "outputs": [],
   "source": [
    "def bonjour(nom='Marc'):\n",
    "    print ('La fonction bonjour() a été exécutée')\n",
    "    \n",
    "    def salut():\n",
    "        return '\\t Ceci est dans la fonction salut'\n",
    "    \n",
    "    def bienvenue():\n",
    "        return \"\\t Ceci est dans la fonction bienvenue\"\n",
    "    \n",
    "    print (salut())\n",
    "    print (bienvenue())\n",
    "    print (\"Maintenant, nous sommes de retour dans la fonction bonjour\")"
   ]
  },
  {
   "cell_type": "code",
   "execution_count": 19,
   "metadata": {
    "collapsed": false
   },
   "outputs": [
    {
     "name": "stdout",
     "output_type": "stream",
     "text": [
      "La fonction bonjour() a été exécutée\n",
      "\t Ceci est dans la fonction salut\n",
      "\t Ceci est dans la fonction bienvenue\n",
      "Maintenant, nous sommes de retour dans la fonction bonjour\n"
     ]
    }
   ],
   "source": [
    "bonjour()"
   ]
  },
  {
   "cell_type": "code",
   "execution_count": 20,
   "metadata": {
    "collapsed": false
   },
   "outputs": [
    {
     "ename": "NameError",
     "evalue": "name 'bienvenue' is not defined",
     "output_type": "error",
     "traceback": [
      "\u001b[0;31m---------------------------------------------------------------------------\u001b[0m",
      "\u001b[0;31mNameError\u001b[0m                                 Traceback (most recent call last)",
      "\u001b[0;32m<ipython-input-20-28a897c281ad>\u001b[0m in \u001b[0;36m<module>\u001b[0;34m()\u001b[0m\n\u001b[0;32m----> 1\u001b[0;31m \u001b[0mbienvenue\u001b[0m\u001b[0;34m(\u001b[0m\u001b[0;34m)\u001b[0m\u001b[0;34m\u001b[0m\u001b[0m\n\u001b[0m",
      "\u001b[0;31mNameError\u001b[0m: name 'bienvenue' is not defined"
     ]
    }
   ],
   "source": [
    "bienvenue()"
   ]
  },
  {
   "cell_type": "markdown",
   "metadata": {},
   "source": [
    "Notez qu'en raison de la portée, la fonction bienvenue() n'est pas définie en dehors de la fonction bonjour(). Maintenant, nous allons apprendre à renvoyer une fonction à partir d'une autre fonction :\n",
    "\n",
    "## Renvoyer une fonction en retour"
   ]
  },
  {
   "cell_type": "code",
   "execution_count": 21,
   "metadata": {
    "collapsed": true
   },
   "outputs": [],
   "source": [
    "def bonjour(nom='Marc'):\n",
    "    print ('La fonction bonjour() a été exécutée')\n",
    "    \n",
    "    def salut():\n",
    "        return '\\t Ceci est dans la fonction salut'\n",
    "    \n",
    "    def bienvenue():\n",
    "        return \"\\t Ceci est dans la fonction bienvenue\"\n",
    "    \n",
    "    if nom == 'Marc':\n",
    "        return salut\n",
    "    else:\n",
    "        return bienvenue"
   ]
  },
  {
   "cell_type": "code",
   "execution_count": 22,
   "metadata": {
    "collapsed": false
   },
   "outputs": [
    {
     "name": "stdout",
     "output_type": "stream",
     "text": [
      "La fonction bonjour() a été exécutée\n"
     ]
    }
   ],
   "source": [
    "x = bonjour()"
   ]
  },
  {
   "cell_type": "markdown",
   "metadata": {},
   "source": [
    "Maintenant, nous allons voir quelle fonction est renvoyée si nous définissons x = bonjour(), notez que nous ne passons pas de paramètre, ce qui signifie que le nom a été défini comme Marc."
   ]
  },
  {
   "cell_type": "code",
   "execution_count": 23,
   "metadata": {
    "collapsed": false
   },
   "outputs": [
    {
     "data": {
      "text/plain": [
       "<function __main__.bonjour.<locals>.salut>"
      ]
     },
     "execution_count": 23,
     "metadata": {},
     "output_type": "execute_result"
    }
   ],
   "source": [
    "x"
   ]
  },
  {
   "cell_type": "markdown",
   "metadata": {},
   "source": [
    "Parfait ! Maintenant, nous pouvons voir comment x pointe vers la fonction saluer à l'intérieur de la fonction bonjour."
   ]
  },
  {
   "cell_type": "code",
   "execution_count": 24,
   "metadata": {
    "collapsed": false
   },
   "outputs": [
    {
     "name": "stdout",
     "output_type": "stream",
     "text": [
      "\t Ceci est dans la fonction salut\n"
     ]
    }
   ],
   "source": [
    "print (x())"
   ]
  },
  {
   "cell_type": "markdown",
   "metadata": {},
   "source": [
    "Jetons à nouveau un rapide coup d'oeil sur le code.\n",
    "\n",
    "Dans la clause if/else nous retournons salut et bienvenue, pas salut() ni bienvenue().\n",
    "\n",
    "C'est parce que lorsque vous mettez une paire de parenthèses après un nom de fonction, elle est exécutée. En revanche, si vous ne mettez pas de parenthèses après, la fonction peut être transmise et affectée à d'autres variables sans être exécutée.\n",
    "\n",
    "Lorsque nous écrivons x=bonjour(), bonjour() est exécuté et parce que le nom est Marc par défaut, la fonction salut est renvoyée. Si nous changeons cette instruction par x=hello(name=\"José\"), la fonction bienvenue sera renvoyée. Nous pouvons également afficher bonjour()() qui affiche que maintenant vous êtes dans la fonction salut()."
   ]
  },
  {
   "cell_type": "markdown",
   "metadata": {},
   "source": [
    "## Fonctions comme arguments\n",
    "Maintenant, nous allons voir comment nous pouvons passer des fonctions comme des arguments dans d'autres fonctions:"
   ]
  },
  {
   "cell_type": "code",
   "execution_count": 25,
   "metadata": {
    "collapsed": true
   },
   "outputs": [],
   "source": [
    "def bonjour():\n",
    "    return 'Bonjour Marc !'\n",
    "\n",
    "def autre(func):\n",
    "    print ('Il pourrait y avoir du code ici')\n",
    "    print (func())"
   ]
  },
  {
   "cell_type": "code",
   "execution_count": 27,
   "metadata": {
    "collapsed": false
   },
   "outputs": [
    {
     "name": "stdout",
     "output_type": "stream",
     "text": [
      "Il pourrait y avoir du code ici\n",
      "Bonjour Marc !\n"
     ]
    }
   ],
   "source": [
    "autre(bonjour)"
   ]
  },
  {
   "cell_type": "markdown",
   "metadata": {},
   "source": [
    "Très bien !\n",
    "Notez comment nous pouvons passer en paramètre les fonctions comme des objets, puis les utiliser dans d'autres fonctions. Maintenant, nous pouvons commencer à écrire notre premier décorateur:"
   ]
  },
  {
   "cell_type": "markdown",
   "metadata": {},
   "source": [
    "## Création d'un décorateur\n",
    "Dans l'exemple précédent, nous avons créé un Décorateur manuellement. Maintenant, nous allons le modifier pour rendre son utilisation plus transparente :"
   ]
  },
  {
   "cell_type": "code",
   "execution_count": 42,
   "metadata": {
    "collapsed": true
   },
   "outputs": [],
   "source": [
    "def nouveau_decorateur(func):\n",
    "\n",
    "    def entoure():\n",
    "        print (\"Du code ici, avant l'éxécution de la fonction\")\n",
    "\n",
    "        func()\n",
    "\n",
    "        print (\"Du code ici, après l'éxécution de la fonction\")\n",
    "\n",
    "    return entoure\n",
    "\n",
    "def fonction_avec_decorateur():\n",
    "    print (\"Cette fonction a besoin d'un décorateur\")"
   ]
  },
  {
   "cell_type": "code",
   "execution_count": 43,
   "metadata": {
    "collapsed": false
   },
   "outputs": [
    {
     "name": "stdout",
     "output_type": "stream",
     "text": [
      "Cette fonction a besoin d'un décorateur\n"
     ]
    }
   ],
   "source": [
    "fonction_avec_decorateur()"
   ]
  },
  {
   "cell_type": "code",
   "execution_count": 44,
   "metadata": {
    "collapsed": false
   },
   "outputs": [],
   "source": [
    "# Re-assigner fonction_avec_decorateur\n",
    "fonction_avec_decorateur = nouveau_decorateur(fonction_avec_decorateur)"
   ]
  },
  {
   "cell_type": "code",
   "execution_count": 45,
   "metadata": {
    "collapsed": false
   },
   "outputs": [
    {
     "name": "stdout",
     "output_type": "stream",
     "text": [
      "Du code ici, avant l'éxécution de la fonction\n",
      "Cette fonction a besoin d'un décorateur\n",
      "Du code ici, après l'éxécution de la fonction\n"
     ]
    }
   ],
   "source": [
    "fonction_avec_decorateur()"
   ]
  },
  {
   "cell_type": "markdown",
   "metadata": {},
   "source": [
    "Qu'est-ce qui s'est passé ici? Un décorateur simple a enveloppé la fonction et modifié son comportement. Maintenant, nous allons comprendre comment nous pouvons réécrire ce code en utilisant le symbole @, qui est ce que Python utilise pour les décorateurs:"
   ]
  },
  {
   "cell_type": "code",
   "execution_count": 46,
   "metadata": {
    "collapsed": true
   },
   "outputs": [],
   "source": [
    "@nouveau_decorateur\n",
    "def fonction_avec_decorateur():\n",
    "    print (\"Cette fonction a besoin d'un décorateur\")"
   ]
  },
  {
   "cell_type": "code",
   "execution_count": 47,
   "metadata": {
    "collapsed": false
   },
   "outputs": [
    {
     "name": "stdout",
     "output_type": "stream",
     "text": [
      "Du code ici, avant l'éxécution de la fonction\n",
      "Cette fonction a besoin d'un décorateur\n",
      "Du code ici, après l'éxécution de la fonction\n"
     ]
    }
   ],
   "source": [
    "fonction_avec_decorateur()"
   ]
  },
  {
   "cell_type": "markdown",
   "metadata": {},
   "source": [
    "**Génial ! Vous avez maintenant créé un décorateur manuellement et ensuite vu comment nous pouvons utiliser le symbole @ en Python pour automatiser et nettoyer notre code. Vous rencontrerez beaucoup les décorateurs si vous commencez à utiliser Python pour le développement Web, avec Flask ou Django par exemple ! **"
   ]
  },
  {
   "cell_type": "code",
   "execution_count": null,
   "metadata": {
    "collapsed": true
   },
   "outputs": [],
   "source": []
  }
 ],
 "metadata": {
  "anaconda-cloud": {},
  "kernelspec": {
   "display_name": "Python 3",
   "language": "python",
   "name": "python3"
  },
  "language_info": {
   "codemirror_mode": {
    "name": "ipython",
    "version": 3
   },
   "file_extension": ".py",
   "mimetype": "text/x-python",
   "name": "python",
   "nbconvert_exporter": "python",
   "pygments_lexer": "ipython3",
   "version": "3.6.0"
  }
 },
 "nbformat": 4,
 "nbformat_minor": 0
}
