{
 "cells": [
  {
   "cell_type": "markdown",
   "metadata": {},
   "source": [
    "# Solution du jeu de Morpion\n",
    "\n",
    "Voici la solution pour le projet d'étape ! Un jeu pour deux joueurs fait dans un Notebook Jupyter. N'hésitez pas à le télécharger pour comprendre comment il fonctionne !"
   ]
  },
  {
   "cell_type": "markdown",
   "metadata": {},
   "source": [
    "Commençons avec quelques imports à utiliser pour l'affichage et par définir les variables globales"
   ]
  },
  {
   "cell_type": "code",
   "execution_count": 1,
   "metadata": {
    "collapsed": true
   },
   "outputs": [],
   "source": [
    "# Specifique aux Notebooks iPython pour effacer l'affichage\n",
    "from IPython.display import clear_output\n",
    "\n",
    "# Variables globales\n",
    "tableau = [' '] * 10\n",
    "jeu_en_cours = True\n",
    "annonce = ''"
   ]
  },
  {
   "cell_type": "markdown",
   "metadata": {},
   "source": [
    "Ensuite, nous réalisons une fonction qui initialise le tableau, les valeurs sont stockées commes listes."
   ]
  },
  {
   "cell_type": "code",
   "execution_count": 8,
   "metadata": {
    "collapsed": false
   },
   "outputs": [],
   "source": [
    "# Note: le jeu n'utilise pas l'index 0\n",
    "def initialise_tableau():\n",
    "    global tableau, jeu_en_cours\n",
    "    tableau = [' '] * 10\n",
    "    jeu_en_cours = True"
   ]
  },
  {
   "cell_type": "markdown",
   "metadata": {},
   "source": [
    "Maintenant, nous créons une fonction pour afficher le jeu, on utilise un clavier numérique comme référence du tableau.\n",
    "Note : Il faudra faire des classes tableau et joueur plus tard..."
   ]
  },
  {
   "cell_type": "code",
   "execution_count": 17,
   "metadata": {
    "collapsed": false
   },
   "outputs": [],
   "source": [
    "def affiche_tableau():\n",
    "    ''' Cette fonction affiche un tableau de jeu pour permettre d'utiliser un clavier numérique comme référence '''\n",
    "    # Efface l'affichage actuel\n",
    "    clear_output()\n",
    "    # Affiche le tableau\n",
    "    print (\"  \"+tableau[7]+\" |\"+tableau[8]+\" | \"+tableau[9]+\" \")\n",
    "    print (\"------------\")\n",
    "    print (\"  \"+tableau[4]+\" |\"+tableau[5]+\" | \"+tableau[6]+\" \")\n",
    "    print (\"------------\")\n",
    "    print (\"  \"+tableau[1]+\" |\"+tableau[2]+\" | \"+tableau[3]+\" \")\n"
   ]
  },
  {
   "cell_type": "markdown",
   "metadata": {},
   "source": [
    "Définir une fonction pour vérifier s'il y a une victoire en comparant les entrées dans le tableau.\n",
    "Note : Vous pouvez aussi mettre en place une liste de combinaisons gagnantes et les vérifer directement ?"
   ]
  },
  {
   "cell_type": "code",
   "execution_count": 18,
   "metadata": {
    "collapsed": false
   },
   "outputs": [],
   "source": [
    "def vérifie_gagnant(tableau, joueur):\n",
    "    ''' Vérifie les lignes, colonnes et diagonales pour une position gagnante '''\n",
    "    if (tableau[7]  ==  tableau[8] ==  tableau[9] == joueur) or \\\n",
    "        (tableau[4] ==  tableau[5] ==  tableau[6] == joueur) or \\\n",
    "        (tableau[1] ==  tableau[2] ==  tableau[3] == joueur) or \\\n",
    "        (tableau[7] ==  tableau[4] ==  tableau[1] == joueur) or \\\n",
    "        (tableau[8] ==  tableau[5] ==  tableau[2] == joueur) or \\\n",
    "        (tableau[9] ==  tableau[6] ==  tableau[3] == joueur) or \\\n",
    "        (tableau[1] ==  tableau[5] ==  tableau[9] == joueur) or \\\n",
    "        (tableau[3] ==  tableau[5] ==  tableau[7] == joueur):\n",
    "        return True\n",
    "    else:\n",
    "        return False\n"
   ]
  },
  {
   "cell_type": "markdown",
   "metadata": {},
   "source": [
    "Définir une fonciton pour vérifier que le tableau est déjà rempli en cas de match nul (ce qui est très facile avec un tableau sous forme de liste).\n",
    "Rappelez vous que l'index 0 est toujours vide."
   ]
  },
  {
   "cell_type": "code",
   "execution_count": 19,
   "metadata": {
    "collapsed": true
   },
   "outputs": [],
   "source": [
    "def vérifie_tableau_complet(tableau):\n",
    "    ''' Fonction pour chercher s'il reste des cases vides dans le tableau '''\n",
    "    if \" \" in tableau[1:]:\n",
    "        return False\n",
    "    else:\n",
    "        return True"
   ]
  },
  {
   "cell_type": "markdown",
   "metadata": {},
   "source": [
    "Maintenant, une fonction pour demander au joueur quel mouvement il souhaite et les vérifications qui vont avec."
   ]
  },
  {
   "cell_type": "code",
   "execution_count": 20,
   "metadata": {
    "collapsed": false
   },
   "outputs": [],
   "source": [
    "def coup_joueur(marque):\n",
    "    ''' Demande au joueur où il positionne sa marque X ou O, vérifie la validité du coup '''\n",
    "    global tableau\n",
    "    req = 'Où est-ce que vous jouez ? : ' + marque\n",
    "    while True:\n",
    "        try:\n",
    "            choix = int(input(req))\n",
    "        except ValueError:\n",
    "            print(\"Désolé, répondez avec un nombre de 1 à 9.\")\n",
    "            continue\n",
    "\n",
    "        if tableau[choix] == \" \":\n",
    "            tableau[choix] = marque\n",
    "            break\n",
    "        else:\n",
    "            print (\"Cette case est occupée !\")\n",
    "            continue    "
   ]
  },
  {
   "cell_type": "markdown",
   "metadata": {},
   "source": [
    "Maintenant il nous faut une fonction qui utilise le coup du joueur (avec coup_joueur) et renvoie l'état du jeu."
   ]
  },
  {
   "cell_type": "code",
   "execution_count": 30,
   "metadata": {
    "collapsed": false
   },
   "outputs": [],
   "source": [
    "def choix_joueur(marque):\n",
    "    global tableau, annonce\n",
    "    # Crée une annonce vide pour commencer\n",
    "    annonce = ''\n",
    "    etat_du_jeu = True\n",
    "    # Le coup du joueur\n",
    "    marque = str(marque)\n",
    "    # Validatation du coup\n",
    "    coup_joueur(marque)\n",
    "\n",
    "    #Affiche le tableau\n",
    "    clear_output()\n",
    "    affiche_tableau()\n",
    "\n",
    "    #Vérifie si le joueur a gagné\n",
    "    if vérifie_gagnant(tableau,marque):\n",
    "        annonce = marque +\" gagné ! Félicitations !\"\n",
    "        etat_du_jeu = False\n",
    "    \n",
    "    #Vérifie si match nul\n",
    "    if vérifie_tableau_complet(tableau):\n",
    "        annonce = \"Match nul !\"\n",
    "        etat_du_jeu = False\n",
    "        \n",
    "    return etat_du_jeu,annonce\n"
   ]
  },
  {
   "cell_type": "markdown",
   "metadata": {},
   "source": [
    "Pour terminer, on rassemble tout dans une fonction pour jouer."
   ]
  },
  {
   "cell_type": "code",
   "execution_count": 31,
   "metadata": {
    "collapsed": false
   },
   "outputs": [],
   "source": [
    "def joue():\n",
    "    initialise_tableau()\n",
    "    global annonce\n",
    "    \n",
    "    # Les marques\n",
    "    X='X'\n",
    "    O='O'\n",
    "    while True:\n",
    "        # Affiche le tableau\n",
    "        clear_output()\n",
    "        affiche_tableau()\n",
    "        \n",
    "        # Le tour du joueur X\n",
    "        etat_du_jeu,annonce = choix_joueur(X)\n",
    "        print (annonce)\n",
    "        if etat_du_jeu == False:\n",
    "            break\n",
    "            \n",
    "        # Le tour du joueur O\n",
    "        etat_du_jeu,annonce = choix_joueur(O)\n",
    "        print (annonce)\n",
    "        if etat_du_jeu == False:\n",
    "            break\n",
    "    \n",
    "    # Demande au joueur s'il veut rejouer\n",
    "    rejouer = input('Est-ce que vous voulez rejouer ? o/n')\n",
    "    if rejouer == 'o':\n",
    "        joue()\n",
    "    else:\n",
    "        print (\"Merci d'avoir participé !\")\n",
    "    "
   ]
  },
  {
   "cell_type": "markdown",
   "metadata": {},
   "source": [
    "Jouons !"
   ]
  },
  {
   "cell_type": "code",
   "execution_count": 32,
   "metadata": {
    "collapsed": false
   },
   "outputs": [
    {
     "name": "stdout",
     "output_type": "stream",
     "text": [
      "  X |O | X \n",
      "------------\n",
      "  X |X | O \n",
      "------------\n",
      "  O |X | O \n",
      "Match nul !\n",
      "Est-ce que vous voulez rejouer ? o/nn\n",
      "Merci d'avoir participé !\n"
     ]
    }
   ],
   "source": [
    "joue()"
   ]
  },
  {
   "cell_type": "code",
   "execution_count": null,
   "metadata": {
    "collapsed": true
   },
   "outputs": [],
   "source": []
  }
 ],
 "metadata": {
  "anaconda-cloud": {},
  "kernelspec": {
   "display_name": "Python [default]",
   "language": "python",
   "name": "python3"
  },
  "language_info": {
   "codemirror_mode": {
    "name": "ipython",
    "version": 3
   },
   "file_extension": ".py",
   "mimetype": "text/x-python",
   "name": "python",
   "nbconvert_exporter": "python",
   "pygments_lexer": "ipython3",
   "version": "3.5.2"
  }
 },
 "nbformat": 4,
 "nbformat_minor": 0
}
