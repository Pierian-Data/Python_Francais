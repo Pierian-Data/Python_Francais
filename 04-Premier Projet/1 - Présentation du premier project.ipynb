{
 "cells": [
  {
   "cell_type": "markdown",
   "metadata": {},
   "source": [
    "# Lancement du premier projet !\n",
    "## Présentation du projet\n",
    "\n",
    "Vous avez déjà beaucoup appris et vous êtes prêt pour travailler sur un vrai projet.\n",
    "\n",
    "Votre tâche : Créer un jeu de Morpion. Vous pouvez utiliser l'environnement de développement (IDE) que vous voulez. \n",
    "\n",
    "Voici les exigences :\n",
    "\n",
    "* c'est un jeu pour 2 personnes qui utilisent le même ordinateur.\n",
    "* le tableau de jeu est affiché chaque fois qu'un joueur place une marque\n",
    "* Vous devez demander au joueur la position de son mouvement et ensuite placer la marque sur le tableau\n",
    "\n",
    "Vous pouvez utiliser Google pour vous aider (mais ne cherchez pas \"Morpion en Python\", sinon vous n'apprendrez pas grand chose !). Gardez présent à l'esprit que ce projet peut dure de quelques heures à plusieurs jours.\n",
    "\n",
    "Il y a 3 bloc-notes Jupyter qui se rapportent à ce travail :\n",
    "\n",
    "* Ce bloc-note avec la présentation du travail à faire\n",
    "* Un bloc-note \"Feuille de route\" qui propose les étapes à suivre pour coder le jeu\n",
    "* Un bloc-note \"Solution\" avec les explications et le code du jeu\n",
    "\n",
    "Je vous encourage à démarrer le projet seul et sans retourner dans les bloc-notes Jupyter. Si vous êtes bloqué, consultez d'abord la prochaine leçon qui est un document comportant de nombreux conseils et les étapes utiles. Si vous êtes toujours coincé après cela, consultez la feuille de route, qui divise le projet en étapes simples à résoudre. Toujours bloqué ? Ensuite, vous pourrez consulter la vidéo de la feuille de route pour plus d'aide sur la manière de venir à bout de ce projet !"
   ]
  },
  {
   "cell_type": "markdown",
   "metadata": {},
   "source": [
    "Il y a des parties pour lesquelles vous pouvez avoir à batailler... et c'est bien !\n",
    "J'ai confiance dans le fait que vous avez tous les outils et les connaissances pour réaliser ce projet si vous avez bien suivi toutes les leçons jusqu'ici . Rappelez-vous, vous pouvez consulter toute la documentation dont vous avez besoin, prenez votre temps, faites un peu de recherches, et n'oubliez surtout pas :\n",
    "\n",
    "## AMUSEZ VOUS BIEN !"
   ]
  }
 ],
 "metadata": {
  "anaconda-cloud": {},
  "kernelspec": {
   "display_name": "Python [default]",
   "language": "python",
   "name": "python3"
  },
  "language_info": {
   "codemirror_mode": {
    "name": "ipython",
    "version": 3
   },
   "file_extension": ".py",
   "mimetype": "text/x-python",
   "name": "python",
   "nbconvert_exporter": "python",
   "pygments_lexer": "ipython3",
   "version": "3.5.2"
  }
 },
 "nbformat": 4,
 "nbformat_minor": 0
}
