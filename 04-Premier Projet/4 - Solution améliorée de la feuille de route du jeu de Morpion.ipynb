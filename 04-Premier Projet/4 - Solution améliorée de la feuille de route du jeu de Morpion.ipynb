{
 "cells": [
  {
   "cell_type": "markdown",
   "metadata": {},
   "source": [
    "# Solution détaillée du projet de jeu de Morpion\n",
    "\n",
    "## Voici le code qui va avec la vidéo de la feuille de route.\n",
    "\n",
    "Consultez les vidéos des leçons correspondantes pour plus d'informations sur ce code !"
   ]
  },
  {
   "cell_type": "markdown",
   "metadata": {},
   "source": [
    "**1ère étape : Ecrire une fonction pour afficher le tableau de jeu. Configurer votre tableau comme une liste, où chaque index 1-9 correspond à un nombre sur un clavier, de sorte que vous obtenez un terrain de 3 par 3.**"
   ]
  },
  {
   "cell_type": "code",
   "execution_count": 2,
   "metadata": {
    "collapsed": true
   },
   "outputs": [],
   "source": [
    "from IPython.display import clear_output\n",
    "def affiche_tableau(tableau):\n",
    "    \n",
    "    clear_output()\n",
    "    print('   |   |')\n",
    "    print(' ' + tableau[7] + ' | ' + tableau[8] + ' | ' + tableau[9])\n",
    "    print('   |   |')\n",
    "    print('-----------')\n",
    "    print('   |   |')\n",
    "    print(' ' + tableau[4] + ' | ' + tableau[5] + ' | ' + tableau[6])\n",
    "    print('   |   |')\n",
    "    print('-----------')\n",
    "    print('   |   |')\n",
    "    print(' ' + tableau[1] + ' | ' + tableau[2] + ' | ' + tableau[3])\n",
    "    print('   |   |')"
   ]
  },
  {
   "cell_type": "markdown",
   "metadata": {},
   "source": [
    "**2ème étape : Ecrire une fonction qui demande au joueur quelle marque «X» ou «O» il veut utiliser et lui assigner. Pensez à utiliser une boucle *while* pour demander une réponse au joueur jusqu'à obtenir une réponse correcte.**"
   ]
  },
  {
   "cell_type": "code",
   "execution_count": 3,
   "metadata": {
    "collapsed": true
   },
   "outputs": [],
   "source": [
    "def pion_joueur():\n",
    "    \n",
    "    marque = ''\n",
    "    while not (marque == 'X' or marque == 'O'):\n",
    "        marque = input('Joueur 1: Est-ce que vous voulez jouer X ou O ?').upper()\n",
    "\n",
    "    if marque == 'X':\n",
    "        return ('X', 'O')\n",
    "    else:\n",
    "        return ('O', 'X')"
   ]
  },
  {
   "cell_type": "markdown",
   "metadata": {},
   "source": [
    "**3ème étape : Ecrire une fonction qui manipule, dans l'objet tableau (list), une marque ('X' ou 'O') et la position désirée (numéro 1-9) et l'affecte au tableau.**"
   ]
  },
  {
   "cell_type": "code",
   "execution_count": 4,
   "metadata": {
    "collapsed": true
   },
   "outputs": [],
   "source": [
    "def placer_marque(tableau, marque, position):\n",
    "    tableau[position] = marque"
   ]
  },
  {
   "cell_type": "markdown",
   "metadata": {},
   "source": [
    "**4ème étape : Ecrire une fonction qui prend un tableau et une marque (X ou O), puis vérifie si cette marque a gagné. **"
   ]
  },
  {
   "cell_type": "code",
   "execution_count": 5,
   "metadata": {
    "collapsed": true
   },
   "outputs": [],
   "source": [
    "def vérifie_gagnant(tableau, marque):\n",
    "    \n",
    "    return ((tableau[7] == marque and tableau[8] == marque and tableau[9] == marque) or # ligne du haut\n",
    "    (tableau[4] == marque and tableau[5] == marque and tableau[6] == marque) or # ligne du milieu\n",
    "    (tableau[1] == marque and tableau[2] == marque and tableau[3] == marque) or # ligne du bas\n",
    "    (tableau[7] == marque and tableau[4] == marque and tableau[1] == marque) or # colonne de gauche\n",
    "    (tableau[8] == marque and tableau[5] == marque and tableau[2] == marque) or # colonne du milieu\n",
    "    (tableau[9] == marque and tableau[6] == marque and tableau[3] == marque) or # colonne de droite\n",
    "    (tableau[7] == marque and tableau[5] == marque and tableau[3] == marque) or # diagonale\n",
    "    (tableau[9] == marque and tableau[5] == marque and tableau[1] == marque)) # diagonale"
   ]
  },
  {
   "cell_type": "markdown",
   "metadata": {},
   "source": [
    "**5ème étape : Ecrire une fonction qui utilise le module random pour décider au hasard quel joueur va jouer en premier. Vous devriez chercher du côté de random.randint(). La fonction retourne une chaîne qui indique le joueur qui joue le premier.**"
   ]
  },
  {
   "cell_type": "code",
   "execution_count": 6,
   "metadata": {
    "collapsed": true
   },
   "outputs": [],
   "source": [
    "import random\n",
    "def choix_premier():\n",
    "    if random.randint(0, 1) == 0:\n",
    "        return 'Joueur 2'\n",
    "    else:\n",
    "        return 'Joueur 1'"
   ]
  },
  {
   "cell_type": "markdown",
   "metadata": {},
   "source": [
    "**6ème étape :Ecrire une fonction qui renvoie un booléen indiquant si un espace sur la carte est disponible.**"
   ]
  },
  {
   "cell_type": "code",
   "execution_count": 7,
   "metadata": {
    "collapsed": true
   },
   "outputs": [],
   "source": [
    "def vérifie_position(tableau, position):\n",
    "    \n",
    "    return tableau[position] == ' '"
   ]
  },
  {
   "cell_type": "markdown",
   "metadata": {},
   "source": [
    "**7ème étape : Ecrire une fonction qui vérifie si le tableau est plein et renvoie une valeur booléenne. Vrai si plein, Faux autrement.**"
   ]
  },
  {
   "cell_type": "code",
   "execution_count": 8,
   "metadata": {
    "collapsed": false
   },
   "outputs": [],
   "source": [
    "def vérifie_tableau_complet(tableau):\n",
    "    for i in range(1,10):\n",
    "        if vérifie_position(tableau, i):\n",
    "            return False\n",
    "    return True"
   ]
  },
  {
   "cell_type": "markdown",
   "metadata": {},
   "source": [
    "**8ème étape : Ecrire une fonction qui demande au joueur la position où il veut placer sa marque (comme un nombre 1-9), puis utilise la fonction de l'étape 6 pour vérifier si sa position libre. Si c'est le cas, retourne la position pour pouvoir l'utiliser. **"
   ]
  },
  {
   "cell_type": "code",
   "execution_count": 9,
   "metadata": {
    "collapsed": true
   },
   "outputs": [],
   "source": [
    "def choix_du_joueur(tableau, joueur):\n",
    "    # On a lu une chaine\n",
    "    position = ' '\n",
    "    while position not in '1 2 3 4 5 6 7 8 9'.split() or not vérifie_position(tableau, int(position)):\n",
    "        position = input(joueur + ', choisissez la position où vous voulez jouer : (1-9) ')\n",
    "    return int(position)"
   ]
  },
  {
   "cell_type": "markdown",
   "metadata": {},
   "source": [
    "**9ème étape : Ecrire une fonction qui demande au joueur s'il veut jouer de nouveau et retourne un booléen Vrai si oui.**"
   ]
  },
  {
   "cell_type": "code",
   "execution_count": 10,
   "metadata": {
    "collapsed": true
   },
   "outputs": [],
   "source": [
    "def rejouer():\n",
    "    \n",
    "    return input('Est-ce que vous voulez jouer à nouveau ? Répondez par Oui ou par Non : ').lower().startswith('o')"
   ]
  },
  {
   "cell_type": "markdown",
   "metadata": {},
   "source": [
    "**Nouvelle étape d'amélioration du code avec une fonction générique pour gérer les phases de jeu d'un joueur**"
   ]
  },
  {
   "cell_type": "code",
   "execution_count": 11,
   "metadata": {
    "collapsed": true
   },
   "outputs": [],
   "source": [
    "def tour_de_jeu(joueur, marque_joueur):\n",
    "    jeu_en_cours = True\n",
    "        \n",
    "    affiche_tableau(leTableau)\n",
    "    position = choix_du_joueur(leTableau, joueur)\n",
    "    placer_marque(leTableau, marque_joueur, position)\n",
    "\n",
    "    if vérifie_gagnant(leTableau, marque_joueur):\n",
    "        affiche_tableau(leTableau)\n",
    "        print('Bravo ' + joueur +' ! Vous avez gagné !')\n",
    "        jeu_en_cours = False\n",
    "    else:\n",
    "        if vérifie_tableau_complet(leTableau):\n",
    "            affiche_tableau(leTableau)\n",
    "            print('Match nul !')\n",
    "            jeu_en_cours = False\n",
    "\n",
    "    return jeu_en_cours\n"
   ]
  },
  {
   "cell_type": "markdown",
   "metadata": {
    "collapsed": true
   },
   "source": [
    "**10ème étape : Voici la partie difficile ! Utilisez boucles while et les fonctions que vous venez d'écrire pour donner vie au jeu !**"
   ]
  },
  {
   "cell_type": "code",
   "execution_count": null,
   "metadata": {
    "collapsed": false
   },
   "outputs": [
    {
     "name": "stdout",
     "output_type": "stream",
     "text": [
      "   |   |\n",
      "   |   | X\n",
      "   |   |\n",
      "-----------\n",
      "   |   |\n",
      " X | O | O\n",
      "   |   |\n",
      "-----------\n",
      "   |   |\n",
      " X |   |  \n",
      "   |   |\n"
     ]
    }
   ],
   "source": [
    "print('Bienvenue dans le jeu de Morpion !')\n",
    "\n",
    "while True:\n",
    "    # Préparer le tableau\n",
    "    leTableau = [' '] * 10\n",
    "    marque_joueur1, marque_joueur2 = pion_joueur()\n",
    "    tour = choix_premier()\n",
    "    print(tour + ' va commencer.')\n",
    "    jeu_en_cours = True\n",
    "\n",
    "    while jeu_en_cours:\n",
    "        jeu_en_cours = tour_de_jeu(\"Joueur 1\", marque_joueur1)\n",
    "        if jeu_en_cours:\n",
    "            jeu_en_cours = tour_de_jeu(\"Joueur 2\", marque_joueur2)\n",
    "            \n",
    "    if not rejouer():\n",
    "        break"
   ]
  },
  {
   "cell_type": "markdown",
   "metadata": {
    "collapsed": true
   },
   "source": [
    "## Good Job!"
   ]
  },
  {
   "cell_type": "code",
   "execution_count": null,
   "metadata": {
    "collapsed": true
   },
   "outputs": [],
   "source": []
  }
 ],
 "metadata": {
  "anaconda-cloud": {},
  "kernelspec": {
   "display_name": "Python 3",
   "language": "python",
   "name": "python3"
  },
  "language_info": {
   "codemirror_mode": {
    "name": "ipython",
    "version": 3
   },
   "file_extension": ".py",
   "mimetype": "text/x-python",
   "name": "python",
   "nbconvert_exporter": "python",
   "pygments_lexer": "ipython3",
   "version": "3.6.0"
  }
 },
 "nbformat": 4,
 "nbformat_minor": 0
}
