{
 "cells": [
  {
   "cell_type": "markdown",
   "metadata": {},
   "source": [
    "# Premier Projet d'étape : Feuille de route\n",
    "\n",
    "Vous trouverez ci dessous les étapes à suivre pour créer le jeu de Morpion de votre projet d'étape."
   ]
  },
  {
   "cell_type": "markdown",
   "metadata": {},
   "source": [
    "**1ère étape : Ecrire une fonction pour afficher le tableau de jeu. Configurer votre tableau comme une liste, où chaque index 1-9 correspond à un nombre sur un clavier, de sorte que vous obtenez un terrain de 3 par 3.**"
   ]
  },
  {
   "cell_type": "code",
   "execution_count": 2,
   "metadata": {
    "collapsed": true
   },
   "outputs": [],
   "source": [
    "from IPython.display import clear_output\n",
    "def affiche_tableau(tableau):\n",
    "    pass"
   ]
  },
  {
   "cell_type": "markdown",
   "metadata": {},
   "source": [
    "**2ème étape : Ecrire une fonction qui demande au joueur quelle marque «X» ou «O» il veut utiliser et lui assigner. Pensez à utiliser une boucle *while* pour demander une réponse au joueur jusqu'à obtenir une réponse correcte.**"
   ]
  },
  {
   "cell_type": "code",
   "execution_count": 3,
   "metadata": {
    "collapsed": true
   },
   "outputs": [],
   "source": [
    "def action_joueur():\n",
    "    pass"
   ]
  },
  {
   "cell_type": "markdown",
   "metadata": {},
   "source": [
    "**3ème étape : Ecrire une fonction qui manipule, dans l'objet tableau (list), une marque ('X' ou 'O') et la position désirée (numéro 1-9) et l'affecte au tableau.**"
   ]
  },
  {
   "cell_type": "code",
   "execution_count": 4,
   "metadata": {
    "collapsed": true
   },
   "outputs": [],
   "source": [
    "def placer_marque(tableau, marque, position):\n",
    "    pass"
   ]
  },
  {
   "cell_type": "markdown",
   "metadata": {},
   "source": [
    "**4ème étape : Ecrire une fonction qui prend un tableau et une marque (X ou O), puis vérifie si cette marque a gagné. **"
   ]
  },
  {
   "cell_type": "code",
   "execution_count": 1,
   "metadata": {
    "collapsed": true
   },
   "outputs": [],
   "source": [
    "def vérifie_gagnant(tableau, marque):\n",
    "    pass"
   ]
  },
  {
   "cell_type": "markdown",
   "metadata": {},
   "source": [
    "**5ème étape : Ecrire une fonction qui utilise le module random pour décider au hasard quel joueur va jouer en premier. Vous devriez chercher du côté de random.randint(). La fonction retourne une chaîne qui indique le joueur qui joue le premier.**"
   ]
  },
  {
   "cell_type": "code",
   "execution_count": 91,
   "metadata": {
    "collapsed": true
   },
   "outputs": [],
   "source": [
    "import random\n",
    "def choix_premier():\n",
    "    pass"
   ]
  },
  {
   "cell_type": "markdown",
   "metadata": {},
   "source": [
    "**6ème étape :Ecrire une fonction qui renvoie un booléen indiquant si un espace sur la carte est disponible.**"
   ]
  },
  {
   "cell_type": "code",
   "execution_count": 92,
   "metadata": {
    "collapsed": true
   },
   "outputs": [],
   "source": [
    "def vérifie_position(tableau, position):\n",
    "    pass"
   ]
  },
  {
   "cell_type": "markdown",
   "metadata": {},
   "source": [
    "**7ème étape : Ecrire une fonction qui vérifie si le tableau est plein et renvoie une valeur booléenne. Vrai si plein, Faux autrement.**"
   ]
  },
  {
   "cell_type": "code",
   "execution_count": 5,
   "metadata": {
    "collapsed": true
   },
   "outputs": [],
   "source": [
    "def vérifie_tableau_complet(tableau):\n",
    "    pass"
   ]
  },
  {
   "cell_type": "markdown",
   "metadata": {},
   "source": [
    "**8ème étape : Ecrire une fonction qui demande au joueur la position où il veut placer sa marque (comme un nombre 1-9), puis utilise la fonction de l'étape 6 pour vérifier si sa position libre. Si c'est le cas, retourne la position pour pouvoir l'utiliser. **"
   ]
  },
  {
   "cell_type": "code",
   "execution_count": 94,
   "metadata": {
    "collapsed": true
   },
   "outputs": [],
   "source": [
    "def choix_du_joueur(tableau):\n",
    "    pass"
   ]
  },
  {
   "cell_type": "markdown",
   "metadata": {},
   "source": [
    "**9ème étape : Ecrire une fonction qui demande au joueur s'il veut jouer de nouveau et retourne un booléen Vrai si oui.**"
   ]
  },
  {
   "cell_type": "code",
   "execution_count": 1,
   "metadata": {
    "collapsed": true
   },
   "outputs": [],
   "source": [
    "def rejouer():\n",
    "    pass"
   ]
  },
  {
   "cell_type": "markdown",
   "metadata": {
    "collapsed": true
   },
   "source": [
    "**10ème étape : Voici la partie difficile ! Utilisez boucles while et les fonctions que vous venez d'écrire pour donner vie au jeu!**"
   ]
  },
  {
   "cell_type": "code",
   "execution_count": 2,
   "metadata": {
    "collapsed": false
   },
   "outputs": [
    {
     "name": "stdout",
     "output_type": "stream",
     "text": [
      "Bienvenue dans le jeu de Morpion !\n"
     ]
    }
   ],
   "source": [
    "print('Bienvenue dans le jeu de Morpion !')\n",
    "\n",
    "#while True:\n",
    "    # Préparer le tableau\n",
    "    #pass\n",
    "\n",
    "    #while jeu_en_cours:\n",
    "        # Tour du joueur 1\n",
    "        \n",
    "        \n",
    "        # Tour du joueur 2\n",
    "            \n",
    "            #pass\n",
    "\n",
    "    #if not rejouer():\n",
    "        #break"
   ]
  },
  {
   "cell_type": "markdown",
   "metadata": {
    "collapsed": true
   },
   "source": [
    "## Bravo !"
   ]
  }
 ],
 "metadata": {
  "anaconda-cloud": {},
  "kernelspec": {
   "display_name": "Python 3",
   "language": "python",
   "name": "python3"
  },
  "language_info": {
   "codemirror_mode": {
    "name": "ipython",
    "version": 3
   },
   "file_extension": ".py",
   "mimetype": "text/x-python",
   "name": "python",
   "nbconvert_exporter": "python",
   "pygments_lexer": "ipython3",
   "version": "3.6.0"
  }
 },
 "nbformat": 4,
 "nbformat_minor": 0
}
