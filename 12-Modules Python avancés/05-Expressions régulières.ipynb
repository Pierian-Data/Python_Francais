{
 "cells": [
  {
   "cell_type": "markdown",
   "metadata": {},
   "source": [
    "___\n",
    "<table style=\" background-color: white; padding: 0;\"><tr>\n",
    "    <td><a href='https://www.udemy.com/user/marcaugier/'><img src='../logo_XDM.png'></a></td>\n",
    "    <td><a href='https://www.udemy.com/user/joseportilla/'><img src='../Pierian_Data_Logo.png'></a></td>\n",
    "</tr></table>\n",
    "<hr>\n",
    "    \n",
    "<center><em>Content Copyright by Pierian Data and xDM Consulting</em></center>"
   ]
  },
  {
   "cell_type": "markdown",
   "metadata": {},
   "source": [
    "# Les  expressions régulières\n",
    "\n",
    "Les expression régulières sont des filtres de recherche de texte qui suivent des règles très précises. Elles sont disponibles dans de nombreux langages et vous les entendrez souvent être mentionnées par les termes '`regex`' ou '`regexp`'. Les expressions régulières couvrent un large spectre de règles, recherche de répétitions, de texte spécifique et bien d'autres choses. C'est par exemple très utile pour extraire les majuscules d'un texte, ou encore retrouver un numéro de téléphone dans un document.\n",
    "\n",
    "Quand vous progresserez en Python, vous réaliserez que de nombreux problèmes de 'parsing', d'analyse de texte, peuvent être résolus par des expressions régulières.\n",
    "\n",
    "C'est aussi une question classique en entretien d'embauche... Parce qu'elles sont célèbres pour leur syntaxe assez étrange. C'est le prix à payer pour leur extrème flexibilité.\n",
    "\n",
    "Si vous les avez déjà pratiquées dans un autre langage, comme Perl, vous remarquerez que leur syntaxe d'utilisation est très similaire en Python.\n",
    "\n",
    "Nous allons maintenant les découvrir à l'aide du module `re`.\n",
    "\n",
    "En avant la musique !"
   ]
  },
  {
   "cell_type": "markdown",
   "metadata": {},
   "source": [
    "## Recherche de base\n",
    "Imaginons que nous avons une chaine de caractères comme suit :"
   ]
  },
  {
   "cell_type": "code",
   "execution_count": 1,
   "metadata": {},
   "outputs": [],
   "source": [
    "texte = \"Le numéro de téléphone de cette personne st 06 01 02 03 04. Appelez vite !\""
   ]
  },
  {
   "cell_type": "markdown",
   "metadata": {},
   "source": [
    "On va commencer par vérifier que la chaine de caractères \"téléphone\" est dans le texte. Cela peut se faire très simplement et très rapidement :"
   ]
  },
  {
   "cell_type": "code",
   "execution_count": 2,
   "metadata": {},
   "outputs": [
    {
     "data": {
      "text/plain": [
       "True"
      ]
     },
     "execution_count": 2,
     "metadata": {},
     "output_type": "execute_result"
    }
   ],
   "source": [
    "'téléphone' in texte"
   ]
  },
  {
   "cell_type": "markdown",
   "metadata": {},
   "source": [
    "Voyons maintenant comment le faire avec une expression régulière, parce que nous allons par la suite utiliser des modèles beaucoup plus complexes."
   ]
  },
  {
   "cell_type": "code",
   "execution_count": 3,
   "metadata": {},
   "outputs": [],
   "source": [
    "import re"
   ]
  },
  {
   "cell_type": "code",
   "execution_count": 4,
   "metadata": {},
   "outputs": [],
   "source": [
    "motclef = 'téléphone'"
   ]
  },
  {
   "cell_type": "code",
   "execution_count": 5,
   "metadata": {},
   "outputs": [
    {
     "data": {
      "text/plain": [
       "<re.Match object; span=(13, 22), match='téléphone'>"
      ]
     },
     "execution_count": 5,
     "metadata": {},
     "output_type": "execute_result"
    }
   ],
   "source": [
    "re.search(motclef, texte)"
   ]
  },
  {
   "cell_type": "code",
   "execution_count": 6,
   "metadata": {},
   "outputs": [],
   "source": [
    "motclef = 'absent du texte'"
   ]
  },
  {
   "cell_type": "code",
   "execution_count": 7,
   "metadata": {},
   "outputs": [],
   "source": [
    "re.search(motclef, texte)"
   ]
  },
  {
   "cell_type": "markdown",
   "metadata": {},
   "source": [
    "Maintenant, nous avons vu que re.search () prend le mot clef cherché, scanne le texte, puis retournerait un objet Match. Si aucun modèle n'est trouvé, un None est renvoyé (dans Jupyter Notebook, cela signifie simplement que rien n'est sorti sous la cellule).\n",
    "\n",
    "Examinons de plus près cet objet Match."
   ]
  },
  {
   "cell_type": "code",
   "execution_count": 8,
   "metadata": {},
   "outputs": [],
   "source": [
    "motclef = 'téléphone'\n",
    "match = re.search(motclef, texte)"
   ]
  },
  {
   "cell_type": "code",
   "execution_count": 9,
   "metadata": {},
   "outputs": [
    {
     "data": {
      "text/plain": [
       "<re.Match object; span=(13, 22), match='téléphone'>"
      ]
     },
     "execution_count": 9,
     "metadata": {},
     "output_type": "execute_result"
    }
   ],
   "source": [
    "match"
   ]
  },
  {
   "cell_type": "markdown",
   "metadata": {},
   "source": [
    "Notez les valeurs de span, qui donnent le début et la fin de la position du mot clef."
   ]
  },
  {
   "cell_type": "code",
   "execution_count": 10,
   "metadata": {},
   "outputs": [
    {
     "data": {
      "text/plain": [
       "(13, 22)"
      ]
     },
     "execution_count": 10,
     "metadata": {},
     "output_type": "execute_result"
    }
   ],
   "source": [
    "match.span()"
   ]
  },
  {
   "cell_type": "code",
   "execution_count": 11,
   "metadata": {},
   "outputs": [
    {
     "data": {
      "text/plain": [
       "13"
      ]
     },
     "execution_count": 11,
     "metadata": {},
     "output_type": "execute_result"
    }
   ],
   "source": [
    "match.start()"
   ]
  },
  {
   "cell_type": "code",
   "execution_count": 12,
   "metadata": {},
   "outputs": [
    {
     "data": {
      "text/plain": [
       "22"
      ]
     },
     "execution_count": 12,
     "metadata": {},
     "output_type": "execute_result"
    }
   ],
   "source": [
    "match.end()"
   ]
  },
  {
   "cell_type": "markdown",
   "metadata": {},
   "source": [
    "Que se passe-t-il si le mot clef se trouve plusieurs fois dans le texte ?"
   ]
  },
  {
   "cell_type": "code",
   "execution_count": 13,
   "metadata": {},
   "outputs": [],
   "source": [
    "texte = 'Mon téléphone est un nouveau téléphone'"
   ]
  },
  {
   "cell_type": "code",
   "execution_count": 14,
   "metadata": {},
   "outputs": [],
   "source": [
    "match =  re.search(\"téléphone\", texte)"
   ]
  },
  {
   "cell_type": "code",
   "execution_count": 15,
   "metadata": {},
   "outputs": [
    {
     "data": {
      "text/plain": [
       "(4, 13)"
      ]
     },
     "execution_count": 15,
     "metadata": {},
     "output_type": "execute_result"
    }
   ],
   "source": [
    "match.span()"
   ]
  },
  {
   "cell_type": "markdown",
   "metadata": {},
   "source": [
    "Notez que seule la première apparition est relevée.\n",
    "Pour obtenir la liste des occurences, il faut utiliser la méthode .findall()"
   ]
  },
  {
   "cell_type": "code",
   "execution_count": 17,
   "metadata": {},
   "outputs": [],
   "source": [
    "occurences = re.findall(\"téléphone\", texte)"
   ]
  },
  {
   "cell_type": "code",
   "execution_count": 18,
   "metadata": {},
   "outputs": [
    {
     "data": {
      "text/plain": [
       "['téléphone', 'téléphone']"
      ]
     },
     "execution_count": 18,
     "metadata": {},
     "output_type": "execute_result"
    }
   ],
   "source": [
    "occurences"
   ]
  },
  {
   "cell_type": "code",
   "execution_count": 19,
   "metadata": {},
   "outputs": [
    {
     "data": {
      "text/plain": [
       "2"
      ]
     },
     "execution_count": 19,
     "metadata": {},
     "output_type": "execute_result"
    }
   ],
   "source": [
    "len(occurences)"
   ]
  },
  {
   "cell_type": "markdown",
   "metadata": {},
   "source": [
    "Pour obtenir la liste des objets match, des occurences, il faut utiliser un itérateur :"
   ]
  },
  {
   "cell_type": "code",
   "execution_count": 20,
   "metadata": {},
   "outputs": [
    {
     "name": "stdout",
     "output_type": "stream",
     "text": [
      "(4, 13)\n",
      "(29, 38)\n"
     ]
    }
   ],
   "source": [
    "for match in re.finditer(\"téléphone\",texte):\n",
    "    print(match.span())"
   ]
  },
  {
   "cell_type": "markdown",
   "metadata": {},
   "source": [
    "Pour retrouver le mot clef cherché, il faut utilsier la méthode .group()"
   ]
  },
  {
   "cell_type": "code",
   "execution_count": 21,
   "metadata": {},
   "outputs": [
    {
     "data": {
      "text/plain": [
       "'téléphone'"
      ]
     },
     "execution_count": 21,
     "metadata": {},
     "output_type": "execute_result"
    }
   ],
   "source": [
    "match.group()"
   ]
  },
  {
   "cell_type": "markdown",
   "metadata": {},
   "source": [
    "# Modèles\n",
    "\n",
    "Jusqu'à présent, nous avons appris à rechercher un mot clef simple, une chaîne de caractères  basique. Qu'en est-il avec des exemples plus complexes ? Telles que d'essayer de trouver un numéro de téléphone dans une grande chaîne de texte ? Ou une adresse e-mail ?\n",
    "\n",
    "Nous pourrions simplement utiliser la méthode de recherche si nous connaissons le téléphone ou l'e-mail exact, mais que faire si nous ne le savons pas ? Nous pouvons connaître le format général, et nous pouvons l'utiliser avec des expressions régulières pour rechercher dans le document des chaînes qui correspondent à un modèle particulier.\n",
    "\n",
    "C'est là que la syntaxe peut sembler étrange au début, mais prenez votre temps avec cela, souvent c'est juste une question de recherche du code de modèle.\n",
    "\n",
    "Nous allons reprendre notre exemple de base et ensuite l'étendre à des choses plus complexes.\n",
    "\n",
    "Commençons!"
   ]
  },
  {
   "cell_type": "markdown",
   "metadata": {},
   "source": [
    "## Recherche de modèles (pattern) dans un texte\n",
    "\n",
    "Une des utilisations les plus courantes du module `re` est de rechercher des bouts de texte.\n",
    "\n",
    "Voici un exemple :\n"
   ]
  },
  {
   "cell_type": "code",
   "execution_count": 2,
   "metadata": {},
   "outputs": [
    {
     "name": "stdout",
     "output_type": "stream",
     "text": [
      "Recherche de \"terme1\" dans: \n",
      "\"Ceci est une chaine avec le terme1, mais elle ne contient pas l'autre terme.\"\n",
      "\n",
      "Le terme est présent. \n",
      "\n",
      "Recherche de \"terme2\" dans: \n",
      "\"Ceci est une chaine avec le terme1, mais elle ne contient pas l'autre terme.\"\n",
      "\n",
      "Le terme est absent.\n",
      "\n"
     ]
    }
   ],
   "source": [
    "import re\n",
    "\n",
    "# Liste des mots recherchés\n",
    "aiguilles = [ 'terme1', 'terme2' ]\n",
    "\n",
    "# Texte à analyser\n",
    "botte = \"Ceci est une chaine avec le terme1, mais elle ne contient pas l'autre terme.\"\n",
    "\n",
    "for aiguille in aiguilles:\n",
    "    print ('Recherche de \"%s\" dans: \\n\"%s\"' % (aiguille, botte))\n",
    "    \n",
    "    # Recherche de l'aiguille dans la botte de foin\n",
    "    if re.search(aiguille,  botte):\n",
    "        print('\\nLe terme est présent. \\n')\n",
    "    else:\n",
    "        print('\\nLe terme est absent.\\n')"
   ]
  },
  {
   "cell_type": "markdown",
   "metadata": {},
   "source": [
    "Nous venons de voir que re.search() va prendre le modèle, analyser le texte, et enfin renvoyer un objet **Match** s'il est trouvé. Si le modèle n'est pas trouvé, **None** sera renvoyé.\n",
    "\n",
    "Pour bien comprendre cela, nous allons décortiquer l'exemple précédent :\n",
    "To give a clearer picture of this match object, check out the cell below:"
   ]
  },
  {
   "cell_type": "code",
   "execution_count": 5,
   "metadata": {},
   "outputs": [
    {
     "data": {
      "text/plain": [
       "NoneType"
      ]
     },
     "execution_count": 5,
     "metadata": {},
     "output_type": "execute_result"
    }
   ],
   "source": [
    "# Le mot recherché\n",
    "aiguille = 'terme2'\n",
    "\n",
    "# Texte à analyser\n",
    "botte = \"Ceci est une chaine avec le terme1, mais elle ne contient pas l'autre terme.\"\n",
    "\n",
    "match = re.search(aiguille,  botte)\n",
    "\n",
    "type(match)"
   ]
  },
  {
   "cell_type": "code",
   "execution_count": 6,
   "metadata": {},
   "outputs": [
    {
     "data": {
      "text/plain": [
       "_sre.SRE_Match"
      ]
     },
     "execution_count": 6,
     "metadata": {},
     "output_type": "execute_result"
    }
   ],
   "source": [
    "# Le mot recherché\n",
    "aiguille = 'terme1'\n",
    "\n",
    "# Texte à analyser\n",
    "botte = \"Ceci est une chaine avec le terme1, mais elle ne contient pas l'autre terme.\"\n",
    "\n",
    "match = re.search(aiguille,  botte)\n",
    "\n",
    "type(match)"
   ]
  },
  {
   "cell_type": "markdown",
   "metadata": {},
   "source": [
    "Cet objet **Match** renvoyé par la méthode `search()` est plus qu'un Booléen, en cas de correspondance il contiendra des informations sur celle-ci, il y a la chaine testée, l'expression régulire utiulisée et la position à laquelle a été découverte la correspondance.\n",
    "\n",
    "Voyons maintenant les méthodes que l'on peut utiliser sur un objet **Match** :"
   ]
  },
  {
   "cell_type": "code",
   "execution_count": 7,
   "metadata": {},
   "outputs": [
    {
     "data": {
      "text/plain": [
       "28"
      ]
     },
     "execution_count": 7,
     "metadata": {},
     "output_type": "execute_result"
    }
   ],
   "source": [
    "# Afficher le début de la correspondance\n",
    "match.start()"
   ]
  },
  {
   "cell_type": "code",
   "execution_count": 8,
   "metadata": {},
   "outputs": [
    {
     "data": {
      "text/plain": [
       "34"
      ]
     },
     "execution_count": 8,
     "metadata": {},
     "output_type": "execute_result"
    }
   ],
   "source": [
    "# Afficher la fin\n",
    "match.end()"
   ]
  },
  {
   "cell_type": "markdown",
   "metadata": {},
   "source": [
    "## Découpage avec des expressions régulières\n",
    "\n",
    "Le module re et une syntaxe particulière permettent de couper une chaine, à la manière de ce que nous avons vu avec la méthode `split()` pour les chaines de caractères.\n"
   ]
  },
  {
   "cell_type": "code",
   "execution_count": 10,
   "metadata": {},
   "outputs": [
    {
     "data": {
      "text/plain": [
       "[\"Quel est le domaine de quelqu'un dont l'adreese mail est : hello\",\n",
       " 'gmail.com']"
      ]
     },
     "execution_count": 10,
     "metadata": {},
     "output_type": "execute_result"
    }
   ],
   "source": [
    "# Terme ou caractère pour faire la coupe\n",
    "charniere = '@'\n",
    "\n",
    "phrase = \"Quel est le domaine de quelqu'un dont l'adresse mail est : hello@gmail.com\"\n",
    "\n",
    "# Couper la phrase\n",
    "re.split(charniere,phrase)"
   ]
  },
  {
   "cell_type": "markdown",
   "metadata": {},
   "source": [
    "Soyez sur d'avoir noté que re.split() retourne une liste de laquelle les termes pour faire la coupe ont disparu, et les éléments de la liste dont les coupes de la chaine de départ.\n",
    "Pratiquez avec vos propres exemple pour être sur de bien maitriser le concept !\n",
    "\n",
    "## Trouver toutes les occurences d'un modèle (pattern)\n",
    "\n",
    "Vous pouvez aussi utiliser re.findall() pour trouver toutes les occurences d'un modèle dans une chaine.\n",
    "\n",
    "Exemple :"
   ]
  },
  {
   "cell_type": "code",
   "execution_count": 11,
   "metadata": {},
   "outputs": [
    {
     "data": {
      "text/plain": [
       "['match']"
      ]
     },
     "execution_count": 11,
     "metadata": {},
     "output_type": "execute_result"
    }
   ],
   "source": [
    "# Renvoie la liste de toutes les occurences\n",
    "re.findall('match','phrase de test avec match qui se trouve au milieu')"
   ]
  },
  {
   "cell_type": "markdown",
   "metadata": {},
   "source": [
    "## Syntaxe des modèles `re`\n",
    "\n",
    "C'est le gros morceau de cette leçon sur l'utilisation de `re`avec Python. Les expressions régulières supportent une grande variété de modèles plus puissants que la simple recherche de la position d'une chaine de caractère dans une autre.\n",
    "\n",
    "Il est possible d'utiliser des *meta-caractères* avec `re` pour rechercher des modèles très spécifiques.\n",
    "\n",
    "Comme nous allons faire de nombreux essais avec différentes syntaxes, commençont par définir une fonction pour afficher les résultats d'une recherche passée en paramètre.\n"
   ]
  },
  {
   "cell_type": "code",
   "execution_count": 30,
   "metadata": {},
   "outputs": [],
   "source": [
    "def multi_re(aiguilles,phrase):\n",
    "    '''\n",
    "    Prend une liste de modèles regex en entrée\n",
    "    Affiche la liste de toutes les occurences\n",
    "    '''\n",
    "    for aiguille in aiguilles:\n",
    "        print ('Recherche dans une phrase en utilisant le modèle re : %r' %aiguille)\n",
    "        print (re.findall(aiguille,phrase))\n",
    "        print ('\\n')"
   ]
  },
  {
   "cell_type": "markdown",
   "metadata": {},
   "source": [
    "### Répétitions\n",
    "\n",
    "Il y a 5 façons différentes de rechercher une répétition :\n",
    "\n",
    "    1.) Un modèle suivi du meta-charactère * est répété zéro fois ou plusieurs.\n",
    "    2.) Remplacer * par + et le modèle devra apparaitre au moins une fois. \n",
    "    3.) Utiliser ? signifie que le modèle apparait zéro ou une fois.\n",
    "    4.) Un nombre précis de répétitions sera trouvé avec la syntaxe {m} à la suite du modèle, où m représente le nombre attendu de répétitions du modèle.\n",
    "    5.) La syntaxe {m,n} permet de spécifier un nombre minimum (m) et une nombre maximum (n) de répétitions. La notation {m,} sans préciser n signifie que la valeur apparait au moins m fois, sans maximum.\n",
    "    \n",
    "Voyons quelques exemples de tout cela avec notre fonction multi_re définie précédemment :"
   ]
  },
  {
   "cell_type": "code",
   "execution_count": 31,
   "metadata": {},
   "outputs": [
    {
     "name": "stdout",
     "output_type": "stream",
     "text": [
      "Recherche dans une phrase en utilisant le modèle re : 'sd*'\n",
      "['sd', 'sd', 's', 's', 'sddd', 'sddd', 'sddd', 'sd', 's', 's', 's', 's', 's', 's', 'sdddd']\n",
      "\n",
      "\n",
      "Recherche dans une phrase en utilisant le modèle re : 'sd+'\n",
      "['sd', 'sd', 'sddd', 'sddd', 'sddd', 'sd', 'sdddd']\n",
      "\n",
      "\n",
      "Recherche dans une phrase en utilisant le modèle re : 'sd?'\n",
      "['sd', 'sd', 's', 's', 'sd', 'sd', 'sd', 'sd', 's', 's', 's', 's', 's', 's', 'sd']\n",
      "\n",
      "\n",
      "Recherche dans une phrase en utilisant le modèle re : 'sd{3}'\n",
      "['sddd', 'sddd', 'sddd', 'sddd']\n",
      "\n",
      "\n",
      "Recherche dans une phrase en utilisant le modèle re : 'sd{2,3}'\n",
      "['sddd', 'sddd', 'sddd', 'sddd']\n",
      "\n",
      "\n"
     ]
    }
   ],
   "source": [
    "phrase_test = 'sdsd..sssddd...sdddsddd...dsds...dsssss...sdddd'\n",
    "\n",
    "aiguilles = [ 'sd*',            # s suivi par aucun ou plusieurs d\n",
    "                'sd+',          # s suivi par un ou plusieurs d\n",
    "                'sd?',          # s suivi par aucun ou un seul d\n",
    "                'sd{3}',        # s suivi par trois d\n",
    "                'sd{2,3}',      # s suivi par deux à trois d\n",
    "                ]\n",
    "\n",
    "multi_re(aiguilles,phrase_test)"
   ]
  },
  {
   "cell_type": "markdown",
   "metadata": {},
   "source": [
    "## Recherche de caractères\n",
    "\n",
    "Des crochets [ et ] sont utilisés pour construire un modèle pour trouver un groupe de caractères spécifiques.\n",
    "Par exemple, l'entrée [ab] cherchera des occurences de a ou b.\n",
    "\n",
    "Voyons quelques exemples :"
   ]
  },
  {
   "cell_type": "code",
   "execution_count": 32,
   "metadata": {},
   "outputs": [
    {
     "name": "stdout",
     "output_type": "stream",
     "text": [
      "Recherche dans une phrase en utilisant le modèle re : '[sd]'\n",
      "['s', 'd', 's', 'd', 's', 's', 's', 'd', 'd', 'd', 's', 'd', 'd', 'd', 's', 'd', 'd', 'd', 'd', 's', 'd', 's', 'd', 's', 's', 's', 's', 's', 's', 'd', 'd', 'd', 'd']\n",
      "\n",
      "\n",
      "Recherche dans une phrase en utilisant le modèle re : 's[sd]+'\n",
      "['sdsd', 'sssddd', 'sdddsddd', 'sds', 'sssss', 'sdddd']\n",
      "\n",
      "\n"
     ]
    }
   ],
   "source": [
    "phrase_test = 'sdsd..sssddd...sdddsddd...dsds...dsssss...sdddd'\n",
    "\n",
    "aiguilles = [ '[sd]',    # s ou d\n",
    "            's[sd]+']    # s suivi par un ou plusieurs s ou d\n",
    "            \n",
    "\n",
    "multi_re(aiguilles,phrase_test)"
   ]
  },
  {
   "cell_type": "markdown",
   "metadata": {},
   "source": [
    "Bien entendu, le premier `[sd]` va renvoyer toutes les occurences.\n",
    "\n",
    "En revanche le second `s[sd]+` ne va renvoyer que ceux qui commencent par un s dans la phrase de test en entrée."
   ]
  },
  {
   "cell_type": "markdown",
   "metadata": {},
   "source": [
    "## Exclusion\n",
    "\n",
    "On utilise le caractère ^ pour exlure des termes en le combinant avec la notation en crochets [] vue précedement.\n",
    "\n",
    "Par exemple `[^...]` va rechercher tous les caractères qui ne sont pas mentionnés entre les crochets.\n",
    "\n",
    "Voyons quelques exemples :"
   ]
  },
  {
   "cell_type": "code",
   "execution_count": 83,
   "metadata": {},
   "outputs": [],
   "source": [
    "phrase_de_test = 'Ceci est une chaine ! Avec de la ponctuation. Comment la supprimer ?'"
   ]
  },
  {
   "cell_type": "markdown",
   "metadata": {},
   "source": [
    "Il suffit d'utiliser [^!.? ] pour retrouver tout ce qui n'est pas un ! ou un . ou un ? ou encore un espace.\n",
    "\n",
    "On ajoute un + pour s'assurer que l'on retrouvera toutes les occurences, pas uniquement la première et le tour est joué.\n",
    "\n",
    "Cela reviendra à retrouver les mots individuellement."
   ]
  },
  {
   "cell_type": "code",
   "execution_count": 84,
   "metadata": {},
   "outputs": [
    {
     "data": {
      "text/plain": [
       "['Ceci',\n",
       " 'est',\n",
       " 'une',\n",
       " 'chaine',\n",
       " 'Avec',\n",
       " 'de',\n",
       " 'la',\n",
       " 'ponctuation',\n",
       " 'Comment',\n",
       " 'la',\n",
       " 'supprimer']"
      ]
     },
     "execution_count": 84,
     "metadata": {},
     "output_type": "execute_result"
    }
   ],
   "source": [
    "re.findall('[^!.? ]+',phrase_de_test)"
   ]
  },
  {
   "cell_type": "code",
   "execution_count": 85,
   "metadata": {},
   "outputs": [],
   "source": [
    "propre = ' '.join(re.findall('[^!.? ]+',phrase_de_test))"
   ]
  },
  {
   "cell_type": "code",
   "execution_count": 86,
   "metadata": {},
   "outputs": [
    {
     "data": {
      "text/plain": [
       "'Ceci est une chaine Avec de la ponctuation Comment la supprimer'"
      ]
     },
     "execution_count": 86,
     "metadata": {},
     "output_type": "execute_result"
    }
   ],
   "source": [
    "propre"
   ]
  },
  {
   "cell_type": "markdown",
   "metadata": {},
   "source": [
    "Autre exemple pour masquer des chiffres"
   ]
  },
  {
   "cell_type": "code",
   "execution_count": 81,
   "metadata": {},
   "outputs": [],
   "source": [
    "phrase_de_test = \"Il y a 3 nombres 34 placés au milieu 5 de cette phrase\""
   ]
  },
  {
   "cell_type": "markdown",
   "metadata": {},
   "source": [
    "Pour masquer les nombres on va utiliser ^\\d et on ajoute un + pour garder les mots ensemble"
   ]
  },
  {
   "cell_type": "code",
   "execution_count": 82,
   "metadata": {},
   "outputs": [
    {
     "data": {
      "text/plain": [
       "['Il y a ', ' nombres ', ' placés au milieu ', ' de cette phrase']"
      ]
     },
     "execution_count": 82,
     "metadata": {},
     "output_type": "execute_result"
    }
   ],
   "source": [
    "re.findall(r'[^\\d]+',phrase_de_test)"
   ]
  },
  {
   "cell_type": "markdown",
   "metadata": {},
   "source": [
    "## Plages de caractères\n",
    "\n",
    "Il peut devenir compliqué de taper toute l a list des caractères à chercher. Il y a donc une version plus compacte qui permet de donner des plages de caractères. Il suffit pour cela de donner le caractère de début et celui de fin de la plage à utiliser.\n",
    "\n",
    "Le format est `[début-fin]`.\n",
    "\n",
    "Traditionnellement, cette syntaxe est utilisée pour faire une recherche d'une plage de caractères spécifiques de l'alphabet. Par exemple `[a-f]` permet de retrouver les apparitions de toute lettre entre a et f.\n",
    "\n",
    "\n",
    "Voyons quelques exemples :"
   ]
  },
  {
   "cell_type": "code",
   "execution_count": 37,
   "metadata": {},
   "outputs": [
    {
     "name": "stdout",
     "output_type": "stream",
     "text": [
      "Recherche dans une phrase en utilisant le modèle re : '[a-z]+'\n",
      "['eci', 'est', 'une', 'phrase', 'de', 'test', 'oyons', 'ce', 'qui', 'peut', 'tre', 'trouv', 'comme', 'lettres']\n",
      "\n",
      "\n",
      "Recherche dans une phrase en utilisant le modèle re : '[A-Z]+'\n",
      "['C', 'V']\n",
      "\n",
      "\n",
      "Recherche dans une phrase en utilisant le modèle re : '[a-zA-Z]+'\n",
      "['Ceci', 'est', 'une', 'phrase', 'de', 'test', 'Voyons', 'ce', 'qui', 'peut', 'tre', 'trouv', 'comme', 'lettres']\n",
      "\n",
      "\n",
      "Recherche dans une phrase en utilisant le modèle re : '[A-Z][a-z]+'\n",
      "['Ceci', 'Voyons']\n",
      "\n",
      "\n"
     ]
    }
   ],
   "source": [
    "\n",
    "phrase_de_test = 'Ceci est une phrase de test. Voyons ce qui peut être trouvé comme lettres.'\n",
    "\n",
    "recherche=[ '[a-z]+',      # lettres minuscules\n",
    "            '[A-Z]+',      # lettres majuscules\n",
    "            '[a-zA-Z]+',   # lettres minuscules ou majuscules\n",
    "            '[A-Z][a-z]+'] # une lettre majuscule suivie par des lettres minuscules\n",
    "                \n",
    "multi_re(recherche,phrase_de_test)"
   ]
  },
  {
   "cell_type": "markdown",
   "metadata": {},
   "source": [
    "## Identifiants ou Escape Codes\n",
    "\n",
    "On peut utiliseer des codes particuliers pour identifier des types de caractères dans les modèles.\n",
    "\n",
    "Des caractères tels qu'un chiffre ou une chaîne ont des codes spécifiques pour les représenter. Vous pouvez les utiliser pour créer une chaîne de caractères 'modèle'.\n",
    "\n",
    "Remarquez qu'ils font un usage intensif de la barre oblique vers l'arrière \\. Pour cette raison, lors de la définition d'une chaîne de modèle pour consrtuire une expression régulière, nous utiliserons le format :\n",
    "\n",
    "r'modèle'\n",
    "\n",
    "Le r devant la chaîne permet à Python de comprendre que le \\ dans la chaîne de modèle n'est pas une barre oblique d'échappement comme habituellement.\n",
    "\n",
    "Ci-dessous, vous trouverez un tableau de tous les codes possibles:"
   ]
  },
  {
   "cell_type": "markdown",
   "metadata": {},
   "source": [
    "<table border=\"1\" class=\"docutils\">\n",
    "\n",
    "<thead valign=\"bottom\">\n",
    "<tr class=\"row-odd\">\n",
    "    <th class=\"head\">Code</th>\n",
    "    <th class=\"head\">Description</th>\n",
    "    <th class=\"head\">Exemple de modèle</th>\n",
    "    <th class=\"head\">Exemple d'occurence</th>\n",
    "</tr>\n",
    "</thead>\n",
    "<tbody valign=\"top\">\n",
    "<tr class=\"row-even\"><td><tt>\\d</tt></td>\n",
    "<td>un chiffre</td>\n",
    "    <td>fichier_\\d\\d</td>\n",
    "    <td>fichier_25</td>\n",
    "</tr>\n",
    "<tr class=\"row-odd\"><td><tt><span class=\"pre\">\\D</span></tt></td>\n",
    "<td>Caractère non numérique</td>\n",
    "    <td>\\D\\D\\D</td>\n",
    "    <td>ABC</td>\n",
    "</tr>\n",
    "<tr class=\"row-even\"><td><tt><span class=\"pre\">\\s</span></tt></td>\n",
    "<td>espace, tabulation, etc.)</td>\n",
    "    <td>a\\sb\\sc</td>\n",
    "    <td>a b c</td>\n",
    "</tr>\n",
    "<tr class=\"row-odd\"><td><tt><span class=\"pre\">\\S</span></tt></td>\n",
    "<td>Pas d'espace</td>\n",
    "    <td>\\S\\S\\S\\S</td>\n",
    "    <td>Yoyo</td>\n",
    "</tr>\n",
    "<tr class=\"row-even\"><td><tt><span class=\"pre\">\\w</span></tt></td>\n",
    "<td>alphanumérique</td>\n",
    "    <td>\\w-\\w\\w\\w</td>\n",
    "    <td>A-b_1</td>\n",
    "</tr>\n",
    "<tr class=\"row-odd\"><td><tt><span class=\"pre\">\\W</span></tt></td>\n",
    "<td>non alphanumérique</td>\n",
    "    <td>\\W\\W\\W\\W\\W</td>\n",
    "    <td>*-+=)</td>\n",
    "</tr>\n",
    "</tbody>\n",
    "</table>"
   ]
  },
  {
   "cell_type": "code",
   "execution_count": 50,
   "metadata": {},
   "outputs": [
    {
     "name": "stdout",
     "output_type": "stream",
     "text": [
      "Recherche dans une phrase en utilisant le modèle re : '\\\\d+'\n",
      "['1233']\n",
      "\n",
      "\n",
      "Recherche dans une phrase en utilisant le modèle re : '\\\\D+'\n",
      "['Voici un texte avec quelques chiffres ', ' et un symbole #hashtag']\n",
      "\n",
      "\n",
      "Recherche dans une phrase en utilisant le modèle re : '\\\\s+'\n",
      "[' ', ' ', ' ', ' ', ' ', ' ', ' ', ' ', ' ', ' ']\n",
      "\n",
      "\n",
      "Recherche dans une phrase en utilisant le modèle re : '\\\\S+'\n",
      "['Voici', 'un', 'texte', 'avec', 'quelques', 'chiffres', '1233', 'et', 'un', 'symbole', '#hashtag']\n",
      "\n",
      "\n",
      "Recherche dans une phrase en utilisant le modèle re : '\\\\w+'\n",
      "['Voici', 'un', 'texte', 'avec', 'quelques', 'chiffres', '1233', 'et', 'un', 'symbole', 'hashtag']\n",
      "\n",
      "\n",
      "Recherche dans une phrase en utilisant le modèle re : '\\\\W+'\n",
      "[' ', ' ', ' ', ' ', ' ', ' ', ' ', ' ', ' ', ' #']\n",
      "\n",
      "\n"
     ]
    }
   ],
   "source": [
    "phrase_de_test = 'Voici un texte avec quelques chiffres 1233 et un symbole #hashtag'\n",
    "\n",
    "modele =[ r'\\d+', # séquence de chiffres\n",
    "          r'\\D+', # séquence de caractères non numériques\n",
    "          r'\\s+', # séquence d'espaces\n",
    "          r'\\S+', # séquence de non espaces\n",
    "          r'\\w+', # caractères alphanumériques\n",
    "          r'\\W+', # caractères non alphanumériques\n",
    "        ]\n",
    "\n",
    "multi_re(modele,phrase_de_test)"
   ]
  },
  {
   "cell_type": "markdown",
   "metadata": {},
   "source": [
    "Autre exemple pour un numéro de téléphone :"
   ]
  },
  {
   "cell_type": "code",
   "execution_count": 51,
   "metadata": {},
   "outputs": [],
   "source": [
    "texte = \"Mon téléphone est le 0033-06-01-02-03-04\""
   ]
  },
  {
   "cell_type": "code",
   "execution_count": 53,
   "metadata": {},
   "outputs": [],
   "source": [
    "tel = re.search(r'\\d\\d\\d\\d-\\d\\d-\\d\\d-\\d\\d-\\d\\d-\\d\\d',texte)"
   ]
  },
  {
   "cell_type": "code",
   "execution_count": 54,
   "metadata": {},
   "outputs": [
    {
     "data": {
      "text/plain": [
       "'0033-06-01-02-03-04'"
      ]
     },
     "execution_count": 54,
     "metadata": {},
     "output_type": "execute_result"
    }
   ],
   "source": [
    "tel.group()"
   ]
  },
  {
   "cell_type": "markdown",
   "metadata": {},
   "source": [
    "Vous avez remarqué qu'il faut dupliquer les \\d, ce qui est peu lisible et agaçant. On peut faire mieux en utilisant des quantificateurs.\n",
    "\n",
    "### Multiplicateurs\n",
    "\n",
    "Maintenant que nous connaissons les désignations de caractères spéciaux, nous pouvons les utiliser avec des multiplicateurs pour définir le nombre d'occurence et le modèle que nous attendons."
   ]
  },
  {
   "cell_type": "markdown",
   "metadata": {},
   "source": [
    "<table ><tr><th>Code</th><th>Description</th><th>Exemple de Code</th><th >Exammple de Match</th></tr>\n",
    "<tr ><td><span >+</span></td><td>Apparait 1 fois ou plus</td><td>\tVersion \\w-\\w+</td><td>Version A-b1_1</td></tr>\n",
    "<tr ><td><span >{3}</span></td><td>Apparait exactement 3 fois</td><td>\\D{3}</td><td>abc</td></tr>\n",
    "<tr ><td><span >{2,4}</span></td><td>Apparait de 2 à 4 fois</td><td>\\d{2,4}</td><td>123</td></tr>\n",
    "<tr ><td><span >{3,}</span></td><td>Apparait 3 fois ou plus</td><td>\\w{3,}</td><td>anycharacters</td></tr>\n",
    "\n",
    "<tr ><td><span >\\*</span></td><td>plusieurs caracctères ciblés</td><td>A\\*B\\*C*</td><td>AAACC</td></tr>\n",
    "\n",
    "<tr ><td><span >?</span></td><td>1 caractère ciblé</td><td>plural?</td><td>plurals</td></tr></table>"
   ]
  },
  {
   "cell_type": "markdown",
   "metadata": {},
   "source": [
    "### On écrit de nouveau le modèle avec ces multiplicateurs :"
   ]
  },
  {
   "cell_type": "code",
   "execution_count": 55,
   "metadata": {},
   "outputs": [
    {
     "data": {
      "text/plain": [
       "<re.Match object; span=(21, 40), match='0033-06-01-02-03-04'>"
      ]
     },
     "execution_count": 55,
     "metadata": {},
     "output_type": "execute_result"
    }
   ],
   "source": [
    "re.search(r'\\d{4}-\\d{2}-\\d{2}-\\d{2}-\\d{2}-\\d{2}', texte)"
   ]
  },
  {
   "cell_type": "markdown",
   "metadata": {},
   "source": [
    "### Groupes\n",
    "\n",
    "Et si nous voulions faire deux tâches, trouver des numéros de téléphone, mais aussi pouvoir extraire rapidement leur code pays. Nous pouvons utiliser des groupes pour toute tâche générale qui implique le regroupement d'expressions régulières (afin de pouvoir les décomposer plus tard).\n",
    "\n",
    "En utilisant l'exemple du numéro de téléphone, nous pouvons séparer des groupes d'expressions régulières à l'aide de parenthèses:"
   ]
  },
  {
   "cell_type": "code",
   "execution_count": 65,
   "metadata": {},
   "outputs": [],
   "source": [
    "modele_tel = re.compile(r'(\\d{4})-(\\d{2})-(\\d{2}-\\d{2}-\\d{2}-\\d{2})')"
   ]
  },
  {
   "cell_type": "code",
   "execution_count": 66,
   "metadata": {},
   "outputs": [],
   "source": [
    "resultat = re.search(modele_tel, texte)"
   ]
  },
  {
   "cell_type": "code",
   "execution_count": 67,
   "metadata": {},
   "outputs": [
    {
     "data": {
      "text/plain": [
       "'0033-06-01-02-03-04'"
      ]
     },
     "execution_count": 67,
     "metadata": {},
     "output_type": "execute_result"
    }
   ],
   "source": [
    "resultat.group()"
   ]
  },
  {
   "cell_type": "markdown",
   "metadata": {},
   "source": [
    "On peut aussi décortiquer le résultat par groupe, identifé par les parenthèses :"
   ]
  },
  {
   "cell_type": "code",
   "execution_count": 68,
   "metadata": {},
   "outputs": [
    {
     "data": {
      "text/plain": [
       "'0033'"
      ]
     },
     "execution_count": 68,
     "metadata": {},
     "output_type": "execute_result"
    }
   ],
   "source": [
    "resultat.group(1)"
   ]
  },
  {
   "cell_type": "code",
   "execution_count": 69,
   "metadata": {},
   "outputs": [
    {
     "data": {
      "text/plain": [
       "'06'"
      ]
     },
     "execution_count": 69,
     "metadata": {},
     "output_type": "execute_result"
    }
   ],
   "source": [
    "resultat.group(2)"
   ]
  },
  {
   "cell_type": "code",
   "execution_count": 70,
   "metadata": {},
   "outputs": [
    {
     "data": {
      "text/plain": [
       "'01-02-03-04'"
      ]
     },
     "execution_count": 70,
     "metadata": {},
     "output_type": "execute_result"
    }
   ],
   "source": [
    "resultat.group(3)"
   ]
  },
  {
   "cell_type": "markdown",
   "metadata": {},
   "source": [
    "Il n'y a que 3 groupes"
   ]
  },
  {
   "cell_type": "code",
   "execution_count": 71,
   "metadata": {},
   "outputs": [
    {
     "ename": "IndexError",
     "evalue": "no such group",
     "output_type": "error",
     "traceback": [
      "\u001b[0;31m---------------------------------------------------------------------------\u001b[0m",
      "\u001b[0;31mIndexError\u001b[0m                                Traceback (most recent call last)",
      "\u001b[0;32m<ipython-input-71-f0bf4e8ee075>\u001b[0m in \u001b[0;36m<module>\u001b[0;34m\u001b[0m\n\u001b[0;32m----> 1\u001b[0;31m \u001b[0mresultat\u001b[0m\u001b[0;34m.\u001b[0m\u001b[0mgroup\u001b[0m\u001b[0;34m(\u001b[0m\u001b[0;36m4\u001b[0m\u001b[0;34m)\u001b[0m\u001b[0;34m\u001b[0m\u001b[0;34m\u001b[0m\u001b[0m\n\u001b[0m",
      "\u001b[0;31mIndexError\u001b[0m: no such group"
     ]
    }
   ],
   "source": [
    "resultat.group(4)"
   ]
  },
  {
   "cell_type": "markdown",
   "metadata": {},
   "source": [
    "### Syntaxe regex additionnelle\n",
    "\n",
    "## L'opérateur | ou \n",
    "\n",
    "Le caractère | (barre verticale) permet de faire un ou logique"
   ]
  },
  {
   "cell_type": "code",
   "execution_count": 72,
   "metadata": {},
   "outputs": [
    {
     "data": {
      "text/plain": [
       "<re.Match object; span=(4, 9), match='homme'>"
      ]
     },
     "execution_count": 72,
     "metadata": {},
     "output_type": "execute_result"
    }
   ],
   "source": [
    "re.search(r'homme|femme','Cet homme se trouvait là')"
   ]
  },
  {
   "cell_type": "code",
   "execution_count": 73,
   "metadata": {},
   "outputs": [
    {
     "data": {
      "text/plain": [
       "<re.Match object; span=(6, 11), match='femme'>"
      ]
     },
     "execution_count": 73,
     "metadata": {},
     "output_type": "execute_result"
    }
   ],
   "source": [
    "re.search(r'homme|femme','Cette femme se trouvait là')"
   ]
  },
  {
   "cell_type": "markdown",
   "metadata": {},
   "source": [
    "### Le caractère générique\n",
    "(Il semblerait que la traduction officielle de 'wildcard' soit métacaractère, on est d'accord que générique est plus compréhensible).\n",
    "\n",
    "On peut utiliser un caractère générique pour signifier qu'on ne cherche pas un caractère particulier et que n'importe lequel fera l'affaire. Il suffit d'un point . pour cela"
   ]
  },
  {
   "cell_type": "code",
   "execution_count": 76,
   "metadata": {},
   "outputs": [
    {
     "data": {
      "text/plain": [
       "['hat', 'rat', 'mat', 'lat']"
      ]
     },
     "execution_count": 76,
     "metadata": {},
     "output_type": "execute_result"
    }
   ],
   "source": [
    "re.findall(r'.at', \"Le chat grimpe après le rat tout en haut du mat tout plat.\")"
   ]
  },
  {
   "cell_type": "markdown",
   "metadata": {},
   "source": [
    "On n'a retrouvé que 3 lettres, en effet le . ne remplace qu'une seule lettre.\n",
    "On peut en placer plusieurs ou utiliser les multiplicateurs"
   ]
  },
  {
   "cell_type": "code",
   "execution_count": 77,
   "metadata": {},
   "outputs": [
    {
     "data": {
      "text/plain": [
       "[' chat', 'e rat', 'u mat', ' plat']"
      ]
     },
     "execution_count": 77,
     "metadata": {},
     "output_type": "execute_result"
    }
   ],
   "source": [
    "re.findall(r'...at', \"Le chat grimpe après le rat tout en haut du mat tout plat.\")"
   ]
  },
  {
   "cell_type": "markdown",
   "metadata": {},
   "source": [
    "Maintenant on a un problème, certains résultats débordent. \n",
    "On veut les mots qui finissent par at.\n",
    "\n",
    "Pour cela on va faire :"
   ]
  },
  {
   "cell_type": "code",
   "execution_count": 78,
   "metadata": {},
   "outputs": [
    {
     "data": {
      "text/plain": [
       "['chat', 'rat', 'mat', 'plat']"
      ]
     },
     "execution_count": 78,
     "metadata": {},
     "output_type": "execute_result"
    }
   ],
   "source": [
    "re.findall(r'\\S+at', \"Le chat grimpe après le rat tout en haut du mat tout plat.\")"
   ]
  },
  {
   "cell_type": "markdown",
   "metadata": {},
   "source": [
    "### Commence ou se termine par un caractère particulier\n",
    "\n",
    "On utilise ^ pour spécifier le début et $ pour la fin"
   ]
  },
  {
   "cell_type": "code",
   "execution_count": 79,
   "metadata": {},
   "outputs": [
    {
     "data": {
      "text/plain": [
       "['2']"
      ]
     },
     "execution_count": 79,
     "metadata": {},
     "output_type": "execute_result"
    }
   ],
   "source": [
    "# Termine par un chiffre\n",
    "re.findall(r'\\d$','Ceci termine par X02')"
   ]
  },
  {
   "cell_type": "code",
   "execution_count": 80,
   "metadata": {},
   "outputs": [
    {
     "data": {
      "text/plain": [
       "['1']"
      ]
     },
     "execution_count": 80,
     "metadata": {},
     "output_type": "execute_result"
    }
   ],
   "source": [
    "# commence avec un chiffre\n",
    "re.findall(r'^\\d','1 se sent bien seul')"
   ]
  },
  {
   "cell_type": "markdown",
   "metadata": {},
   "source": [
    "Remarquez que cela prend en compte toute la chaine, pas juste un mot"
   ]
  },
  {
   "cell_type": "markdown",
   "metadata": {},
   "source": [
    "## Conclusion\n",
    "\n",
    "Beau travail, comme je vous le disais en introduction, les expressions régulières sont un domaine très vaste, n'hésitez pas à consulter la [documentation](https://docs.python.org/fr/3/howto/regex.html) pour apprendre toutes les ficèles."
   ]
  }
 ],
 "metadata": {
  "kernelspec": {
   "display_name": "Python 3",
   "language": "python",
   "name": "python3"
  },
  "language_info": {
   "codemirror_mode": {
    "name": "ipython",
    "version": 3
   },
   "file_extension": ".py",
   "mimetype": "text/x-python",
   "name": "python",
   "nbconvert_exporter": "python",
   "pygments_lexer": "ipython3",
   "version": "3.7.7"
  }
 },
 "nbformat": 4,
 "nbformat_minor": 1
}
