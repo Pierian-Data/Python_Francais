{
 "cells": [
  {
   "cell_type": "markdown",
   "metadata": {},
   "source": [
    "___\n",
    "<table style=\" background-color: white; padding: 0;\"><tr>\n",
    "    <td><a href='https://www.udemy.com/user/marcaugier/'><img src='../logo_XDM.png'></a></td>\n",
    "    <td><a href='https://www.udemy.com/user/joseportilla/'><img src='../Pierian_Data_Logo.png'></a></td>\n",
    "</tr></table>\n",
    "<hr>\n",
    "    \n",
    "<center><em>Content Copyright by Pierian Data and xDM Consulting</em></center>"
   ]
  },
  {
   "cell_type": "markdown",
   "metadata": {},
   "source": [
    "# Ouvrir et lire des fichiers\n",
    "\n",
    "Nous avons déjà vu comment accéder à des fichiers manuellement, un par un.\n",
    "\n",
    "Maintenant, nous allons voir comment est-il possible des les ouvrir par programme.\n"
   ]
  },
  {
   "cell_type": "markdown",
   "metadata": {
    "collapsed": true
   },
   "source": [
    "_____"
   ]
  },
  {
   "cell_type": "markdown",
   "metadata": {},
   "source": [
    "### Rappel : comprendre les chemins de fichier"
   ]
  },
  {
   "cell_type": "code",
   "execution_count": 1,
   "metadata": {},
   "outputs": [
    {
     "data": {
      "text/plain": [
       "'/Users/marc/Documents/GitHub/Python-FR/12-Modules Python avancés'"
      ]
     },
     "execution_count": 1,
     "metadata": {},
     "output_type": "execute_result"
    }
   ],
   "source": [
    "pwd"
   ]
  },
  {
   "cell_type": "markdown",
   "metadata": {},
   "source": [
    "### Création d'un fichier de test\n",
    "\n",
    "Nous allons commencer par créer un fichier de test, et de texte, que nous utiliserons pour la démonstration.\n"
   ]
  },
  {
   "cell_type": "code",
   "execution_count": 2,
   "metadata": {},
   "outputs": [],
   "source": [
    "f = open('pratique.txt','w+')"
   ]
  },
  {
   "cell_type": "code",
   "execution_count": 3,
   "metadata": {},
   "outputs": [],
   "source": [
    "f.write('test')\n",
    "f.close()"
   ]
  },
  {
   "cell_type": "markdown",
   "metadata": {},
   "source": [
    "### Obtenir les dossiers\n",
    "\n",
    "Python possède un module intégré [os module](https://docs.python.org/3/library/os.html) qui permet d'accéder aux fonctions du système d'exploitation directement .\n",
    "\n",
    "On peut l'utilsier pour connaitre le dossier courant.\n"
   ]
  },
  {
   "cell_type": "code",
   "execution_count": 2,
   "metadata": {},
   "outputs": [],
   "source": [
    "import os"
   ]
  },
  {
   "cell_type": "code",
   "execution_count": 5,
   "metadata": {},
   "outputs": [
    {
     "data": {
      "text/plain": [
       "'/Users/marc/Documents/GitHub/Python-FR/12-Modules Python avancés'"
      ]
     },
     "execution_count": 5,
     "metadata": {},
     "output_type": "execute_result"
    }
   ],
   "source": [
    "os.getcwd()"
   ]
  },
  {
   "cell_type": "markdown",
   "metadata": {},
   "source": [
    "### Obtenir la liste des fichiers contenus dans un dossier\n",
    "\n",
    "Il est aussi possible d'utiliser le module os pour lister le contenu d'un dossier.\n"
   ]
  },
  {
   "cell_type": "code",
   "execution_count": 7,
   "metadata": {},
   "outputs": [
    {
     "data": {
      "text/plain": [
       "['06-Minutage et chronométrage de votre code - timeit.ipynb',\n",
       " 'Example_Top_Level',\n",
       " '05_Expressions régulières.ipynb',\n",
       " '01-Accéder à des fichiers et des dossiers.ipynb',\n",
       " '08-Advanced-Python-Module-Exercise',\n",
       " '02-Module Datetime.ipynb',\n",
       " '06-Timing your code - timeit.ipynb',\n",
       " 'pratique.txt',\n",
       " '03-Math-and-Random-Module.ipynb',\n",
       " '00-Module Collection.ipynb',\n",
       " '05-Overview-of-Regular-Expressions.ipynb',\n",
       " '03_Python Debugger (pdb).ipynb',\n",
       " '.ipynb_checkpoints',\n",
       " '04-Python Debugger (pdb).ipynb',\n",
       " '07_MultiProcessing.ipynb',\n",
       " '06_StringIO.ipynb',\n",
       " '07-Unzipping-and-Zipping-Files.ipynb']"
      ]
     },
     "execution_count": 7,
     "metadata": {},
     "output_type": "execute_result"
    }
   ],
   "source": [
    "# Le dossier courant\n",
    "os.listdir()"
   ]
  },
  {
   "cell_type": "code",
   "execution_count": 8,
   "metadata": {},
   "outputs": [
    {
     "data": {
      "text/plain": [
       "['.localized', 'Shared', 'marc', 'daphne', 'Guest', 'maria']"
      ]
     },
     "execution_count": 8,
     "metadata": {},
     "output_type": "execute_result"
    }
   ],
   "source": [
    "# Dans un dossier dont on donne le chemin\n",
    "os.listdir(\"/Users/\")"
   ]
  },
  {
   "cell_type": "markdown",
   "metadata": {
    "collapsed": true
   },
   "source": [
    "### Déplacer des fichiers\n",
    "\n",
    "Vous pouvez utiliser le module intégré **shutil** pour déplacer les fichier vers un autre dossier. N'oubliez pas qu'il peut y avoir des restrictions dues aux permissions sur les fichiers. Par exemple si vous êtes connecté avec l'utilisateur A, vous ne pourrez pas faire de modifications sur les dossiers d'un utilisateur d'un autre groupe, pour lequel vous n'avez pas les permissions adéquates, [more info](https://stackoverflow.com/questions/23253439/shutil-movescr-dst-gets-me-ioerror-errno-13-permission-denied-and-3-more-e)"
   ]
  },
  {
   "cell_type": "code",
   "execution_count": 9,
   "metadata": {},
   "outputs": [],
   "source": [
    "import shutil"
   ]
  },
  {
   "cell_type": "code",
   "execution_count": 10,
   "metadata": {},
   "outputs": [
    {
     "data": {
      "text/plain": [
       "'/Users/Marc/pratique.txt'"
      ]
     },
     "execution_count": 10,
     "metadata": {},
     "output_type": "execute_result"
    }
   ],
   "source": [
    "shutil.move('pratique.txt','/Users/Marc')"
   ]
  },
  {
   "cell_type": "code",
   "execution_count": 11,
   "metadata": {},
   "outputs": [
    {
     "data": {
      "text/plain": [
       "['06-Minutage et chronométrage de votre code - timeit.ipynb',\n",
       " 'Example_Top_Level',\n",
       " '05_Expressions régulières.ipynb',\n",
       " '01-Accéder à des fichiers et des dossiers.ipynb',\n",
       " '08-Advanced-Python-Module-Exercise',\n",
       " '02-Module Datetime.ipynb',\n",
       " '06-Timing your code - timeit.ipynb',\n",
       " '03-Math-and-Random-Module.ipynb',\n",
       " '00-Module Collection.ipynb',\n",
       " '05-Overview-of-Regular-Expressions.ipynb',\n",
       " '03_Python Debugger (pdb).ipynb',\n",
       " '.ipynb_checkpoints',\n",
       " '04-Python Debugger (pdb).ipynb',\n",
       " '07_MultiProcessing.ipynb',\n",
       " '06_StringIO.ipynb',\n",
       " '07-Unzipping-and-Zipping-Files.ipynb']"
      ]
     },
     "execution_count": 11,
     "metadata": {},
     "output_type": "execute_result"
    }
   ],
   "source": [
    "os.listdir()"
   ]
  },
  {
   "cell_type": "code",
   "execution_count": 13,
   "metadata": {},
   "outputs": [
    {
     "data": {
      "text/plain": [
       "'/Users/marc/Documents/GitHub/Python-FR/12-Modules Python avancés/pratique.txt'"
      ]
     },
     "execution_count": 13,
     "metadata": {},
     "output_type": "execute_result"
    }
   ],
   "source": [
    "shutil.move('/Users/Marc/pratique.txt',os.getcwd())"
   ]
  },
  {
   "cell_type": "code",
   "execution_count": 14,
   "metadata": {},
   "outputs": [
    {
     "data": {
      "text/plain": [
       "['06-Minutage et chronométrage de votre code - timeit.ipynb',\n",
       " 'Example_Top_Level',\n",
       " '05_Expressions régulières.ipynb',\n",
       " '01-Accéder à des fichiers et des dossiers.ipynb',\n",
       " '08-Advanced-Python-Module-Exercise',\n",
       " '02-Module Datetime.ipynb',\n",
       " '06-Timing your code - timeit.ipynb',\n",
       " 'pratique.txt',\n",
       " '03-Math-and-Random-Module.ipynb',\n",
       " '00-Module Collection.ipynb',\n",
       " '05-Overview-of-Regular-Expressions.ipynb',\n",
       " '03_Python Debugger (pdb).ipynb',\n",
       " '.ipynb_checkpoints',\n",
       " '04-Python Debugger (pdb).ipynb',\n",
       " '07_MultiProcessing.ipynb',\n",
       " '06_StringIO.ipynb',\n",
       " '07-Unzipping-and-Zipping-Files.ipynb']"
      ]
     },
     "execution_count": 14,
     "metadata": {},
     "output_type": "execute_result"
    }
   ],
   "source": [
    "os.listdir()"
   ]
  },
  {
   "cell_type": "markdown",
   "metadata": {},
   "source": [
    "### Effacer des fichiers\n",
    "____\n",
    "**NOTE: Le module os propose 3 méthodes pour effacer des fichiers :**\n",
    "* os.unlink(path) qui efface le fichier dont le chemin est passé en paramètre\n",
    "* os.rmdir(path) qui efface un dossier (s'il est vide) dont le chemin est passé en paramètre\n",
    "* shutil.rmtree(path) le plus dangereux, parce que tout est effacé, fichiers, dossiers \n",
    "\n",
    "** Ces 3 méthodes n'ont pas de possibilité de retour en arrière ! Ce qui veut dire que si vous faites une erreur, vous ne pourrez pas récupérer le fichier.\n",
    "Si vous voulez passer par une corbeille, il faut utiliser le module send2trash. C'est une méthode plus sure qui permet d'effacer les fichiers en les déplacçant dans la corbeille au lieu de les détruire irrémédiablement.**\n",
    "___\n",
    "\n",
    "Installez le module send2trash avec :\n",
    "\n",
    "    pip install send2trash\n",
    "\n",
    "dans la ligne de commande.\n",
    "\n",
    "Vous pourrez ensuite faire ce qui suit."
   ]
  },
  {
   "cell_type": "code",
   "execution_count": 15,
   "metadata": {},
   "outputs": [],
   "source": [
    "import send2trash"
   ]
  },
  {
   "cell_type": "code",
   "execution_count": 16,
   "metadata": {},
   "outputs": [
    {
     "data": {
      "text/plain": [
       "['06-Minutage et chronométrage de votre code - timeit.ipynb',\n",
       " 'Example_Top_Level',\n",
       " '05_Expressions régulières.ipynb',\n",
       " '01-Accéder à des fichiers et des dossiers.ipynb',\n",
       " '08-Advanced-Python-Module-Exercise',\n",
       " '02-Module Datetime.ipynb',\n",
       " '06-Timing your code - timeit.ipynb',\n",
       " 'pratique.txt',\n",
       " '03-Math-and-Random-Module.ipynb',\n",
       " '00-Module Collection.ipynb',\n",
       " '05-Overview-of-Regular-Expressions.ipynb',\n",
       " '03_Python Debugger (pdb).ipynb',\n",
       " '.ipynb_checkpoints',\n",
       " '04-Python Debugger (pdb).ipynb',\n",
       " '07_MultiProcessing.ipynb',\n",
       " '06_StringIO.ipynb',\n",
       " '07-Unzipping-and-Zipping-Files.ipynb']"
      ]
     },
     "execution_count": 16,
     "metadata": {},
     "output_type": "execute_result"
    }
   ],
   "source": [
    "os.listdir()"
   ]
  },
  {
   "cell_type": "code",
   "execution_count": 17,
   "metadata": {},
   "outputs": [],
   "source": [
    "send2trash.send2trash('pratique.txt')"
   ]
  },
  {
   "cell_type": "code",
   "execution_count": 18,
   "metadata": {},
   "outputs": [
    {
     "data": {
      "text/plain": [
       "['06-Minutage et chronométrage de votre code - timeit.ipynb',\n",
       " 'Example_Top_Level',\n",
       " '05_Expressions régulières.ipynb',\n",
       " '01-Accéder à des fichiers et des dossiers.ipynb',\n",
       " '08-Advanced-Python-Module-Exercise',\n",
       " '02-Module Datetime.ipynb',\n",
       " '06-Timing your code - timeit.ipynb',\n",
       " '03-Math-and-Random-Module.ipynb',\n",
       " '00-Module Collection.ipynb',\n",
       " '05-Overview-of-Regular-Expressions.ipynb',\n",
       " '03_Python Debugger (pdb).ipynb',\n",
       " '.ipynb_checkpoints',\n",
       " '04-Python Debugger (pdb).ipynb',\n",
       " '07_MultiProcessing.ipynb',\n",
       " '06_StringIO.ipynb',\n",
       " '07-Unzipping-and-Zipping-Files.ipynb']"
      ]
     },
     "execution_count": 18,
     "metadata": {},
     "output_type": "execute_result"
    }
   ],
   "source": [
    "os.listdir()"
   ]
  },
  {
   "cell_type": "markdown",
   "metadata": {},
   "source": [
    "### Se déplacer dans un dossier\n",
    "\n",
    "Il peut arriver souvent que vous ayez besoin de \"naviguer\" à travers un dossier, c'est à dire de lister tous les fichiers et les dossiers, de vérifier si un fichier est dans le dossier, et peut-être de faire quelque chose avec ce fichier.\n",
    "Habituellement, il peut être un peu compliqué de naviguer récursivement à travers tous les fichiers et sous-dossiers d'un dossier, mais heureusement le module os possède une méthode spécifique pour cela : os.walk()\n",
    "\n",
    "Regardons de plus près comment elle fonctionne."
   ]
  },
  {
   "cell_type": "code",
   "execution_count": 19,
   "metadata": {},
   "outputs": [
    {
     "data": {
      "text/plain": [
       "'/Users/marc/Documents/GitHub/Python-FR/12-Modules Python avancés'"
      ]
     },
     "execution_count": 19,
     "metadata": {},
     "output_type": "execute_result"
    }
   ],
   "source": [
    "os.getcwd()"
   ]
  },
  {
   "cell_type": "code",
   "execution_count": 24,
   "metadata": {},
   "outputs": [
    {
     "data": {
      "text/plain": [
       "['06-Minutage et chronométrage de votre code - timeit.ipynb',\n",
       " '05_Expressions régulières.ipynb',\n",
       " '01-Accéder à des fichiers et des dossiers.ipynb',\n",
       " '08-Advanced-Python-Module-Exercise',\n",
       " '02-Module Datetime.ipynb',\n",
       " '06-Timing your code - timeit.ipynb',\n",
       " '03-Math-and-Random-Module.ipynb',\n",
       " '00-Module Collection.ipynb',\n",
       " '05-Overview-of-Regular-Expressions.ipynb',\n",
       " '03_Python Debugger (pdb).ipynb',\n",
       " '.ipynb_checkpoints',\n",
       " 'Exemple_Dossier_Racine',\n",
       " '04-Python Debugger (pdb).ipynb',\n",
       " '07_MultiProcessing.ipynb',\n",
       " '06_StringIO.ipynb',\n",
       " '07-Unzipping-and-Zipping-Files.ipynb']"
      ]
     },
     "execution_count": 24,
     "metadata": {},
     "output_type": "execute_result"
    }
   ],
   "source": [
    "os.listdir()"
   ]
  },
  {
   "cell_type": "code",
   "execution_count": 3,
   "metadata": {},
   "outputs": [
    {
     "name": "stdout",
     "output_type": "stream",
     "text": [
      "En train d'explorer le dossier : Exemple_Dossier_Racine\n",
      "\n",
      "\n",
      "LES SOUS-DOSSIERS SONT : \n",
      "\t Sous-dossier: Exemple-Haut-un\n",
      "\n",
      "\n",
      "LES FICHIERS SONT : \n",
      "\t Fichier : Exemple-Haut.txt\n",
      "\t Fichier : .DS_Store\n",
      "\n",
      "\n",
      "En train d'explorer le dossier : Exemple_Dossier_Racine/Exemple-Haut-un\n",
      "\n",
      "\n",
      "LES SOUS-DOSSIERS SONT : \n",
      "\t Sous-dossier: Niveau-Moyen-Un\n",
      "\t Sous-dossier: Niveau-Moyen-Deux\n",
      "\n",
      "\n",
      "LES FICHIERS SONT : \n",
      "\t Fichier : .DS_Store\n",
      "\t Fichier : Document-Niveau-Moyen.txt\n",
      "\n",
      "\n",
      "En train d'explorer le dossier : Exemple_Dossier_Racine/Exemple-Haut-un/Niveau-Moyen-Un\n",
      "\n",
      "\n",
      "LES SOUS-DOSSIERS SONT : \n",
      "\n",
      "\n",
      "LES FICHIERS SONT : \n",
      "\t Fichier : Un_texte.txt\n",
      "\n",
      "\n",
      "En train d'explorer le dossier : Exemple_Dossier_Racine/Exemple-Haut-un/Niveau-Moyen-Deux\n",
      "\n",
      "\n",
      "LES SOUS-DOSSIERS SONT : \n",
      "\n",
      "\n",
      "LES FICHIERS SONT : \n",
      "\t Fichier : Text-Niveau-Profond.txt\n",
      "\t Fichier : .DS_Store\n",
      "\n",
      "\n"
     ]
    }
   ],
   "source": [
    "for folder , sub_folders , files in os.walk(\"Exemple_Dossier_Racine\"):\n",
    "    \n",
    "    print(\"En train d'explorer le dossier : \"+ folder)\n",
    "    print('\\n')\n",
    "    print(\"LES SOUS-DOSSIERS SONT : \")\n",
    "    for sub_fold in sub_folders:\n",
    "        print(\"\\t Sous-dossier: \"+sub_fold )\n",
    "    \n",
    "    print('\\n')\n",
    "    \n",
    "    print(\"LES FICHIERS SONT : \")\n",
    "    for f in files:\n",
    "        print(\"\\t Fichier : \"+f)\n",
    "    print('\\n')\n",
    "    \n",
    "    # Now look at subfolders"
   ]
  },
  {
   "cell_type": "markdown",
   "metadata": {
    "collapsed": true
   },
   "source": [
    "___\n",
    "Excellent, vous devriez maintenant savoir comment travailler avec les fichiers et dossiers d'un ordinateur quelque soit le répertoire dans lequel ils se trouvent. N'oubliez pas que le module os fonctionne pour tout système d'exploitation prenant en charge Python, ce qui signifie que ces commandes fonctionneront sur Linux, MacOs ou Windows sans besoin d'adaptation."
   ]
  }
 ],
 "metadata": {
  "anaconda-cloud": {},
  "kernelspec": {
   "display_name": "Python 3",
   "language": "python",
   "name": "python3"
  },
  "language_info": {
   "codemirror_mode": {
    "name": "ipython",
    "version": 3
   },
   "file_extension": ".py",
   "mimetype": "text/x-python",
   "name": "python",
   "nbconvert_exporter": "python",
   "pygments_lexer": "ipython3",
   "version": "3.7.7"
  }
 },
 "nbformat": 4,
 "nbformat_minor": 2
}
