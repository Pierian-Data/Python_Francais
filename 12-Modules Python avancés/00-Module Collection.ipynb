{
 "cells": [
  {
   "cell_type": "markdown",
   "metadata": {},
   "source": [
    "___\n",
    "<table style=\" background-color: white; padding: 0;\"><tr>\n",
    "    <td><a href='https://www.udemy.com/user/marcaugier/'><img src='../logo_XDM.png'></a></td>\n",
    "    <td><a href='https://www.udemy.com/user/joseportilla/'><img src='../Pierian_Data_Logo.png'></a></td>\n",
    "</tr></table>\n",
    "<hr>\n",
    "    \n",
    "<center><em>Content Copyright by Pierian Data and xDM Consulting</em></center>"
   ]
  },
  {
   "cell_type": "markdown",
   "metadata": {},
   "source": [
    "# Module Collections \n",
    "\n",
    "Le module collections est un module intégré qui permet d'implementer des alternatives aux modèles de données fournis en standard avec Python. En bref, cela permet de créer des types de données anlternatifs.\n",
    "\n",
    "Nous avons déjà vu les modèles de base: dict, list, set, et tuple.\n",
    "\n",
    "Dans cette partie, nous allons en apprendre plus à propos des alternatives apportées par le module collections.\n",
    "\n",
    "## Counter\n",
    "\n",
    "*Counter* est une classe *dictionnaire* qui permet de compter des objets \"hash-able\" ou \"hachables\". Les éléments sont stockés en tant que clef du dictionnaire et le compte des objets est enregistré en tant que valeur.\n",
    "\n",
    "Regardons comment cela peut être utilisé :\n"
   ]
  },
  {
   "cell_type": "code",
   "execution_count": 12,
   "metadata": {
    "collapsed": true
   },
   "outputs": [],
   "source": [
    "from collections import Counter"
   ]
  },
  {
   "cell_type": "markdown",
   "metadata": {},
   "source": [
    "**Counter() avec des listes**"
   ]
  },
  {
   "cell_type": "code",
   "execution_count": 13,
   "metadata": {},
   "outputs": [
    {
     "data": {
      "text/plain": [
       "Counter({1: 6, 2: 6, 3: 4, 12: 1, 21: 1, 32: 1, 223: 1})"
      ]
     },
     "execution_count": 13,
     "metadata": {},
     "output_type": "execute_result"
    }
   ],
   "source": [
    "\n",
    "l = [1,2,2,2,2,3,3,3,1,2,1,12,3,2,32,1,21,1,223,1]\n",
    "\n",
    "Counter(l)"
   ]
  },
  {
   "cell_type": "markdown",
   "metadata": {},
   "source": [
    "**Counter avec des chaines de caractères**"
   ]
  },
  {
   "cell_type": "code",
   "execution_count": 14,
   "metadata": {},
   "outputs": [
    {
     "data": {
      "text/plain": [
       "Counter({'a': 2, 'b': 7, 'h': 3, 's': 6})"
      ]
     },
     "execution_count": 14,
     "metadata": {},
     "output_type": "execute_result"
    }
   ],
   "source": [
    "Counter('aabsbsbsbhshhbbsbs')"
   ]
  },
  {
   "cell_type": "markdown",
   "metadata": {},
   "source": [
    "**Counter avec les mots d'une phrase**"
   ]
  },
  {
   "cell_type": "code",
   "execution_count": 15,
   "metadata": {},
   "outputs": [
    {
     "data": {
      "text/plain": [
       "Counter({'Combien': 1,\n",
       "         'a': 1,\n",
       "         'apparaitre': 1,\n",
       "         'cette': 1,\n",
       "         'chaque': 2,\n",
       "         'dans': 1,\n",
       "         'de': 1,\n",
       "         'fois': 1,\n",
       "         'importance': 1,\n",
       "         'mot': 2,\n",
       "         'où': 1,\n",
       "         'phrase': 1,\n",
       "         'son': 1,\n",
       "         'va': 1})"
      ]
     },
     "execution_count": 15,
     "metadata": {},
     "output_type": "execute_result"
    }
   ],
   "source": [
    "s = 'Combien de fois chaque mot va apparaitre dans cette phrase où chaque mot a son importance'\n",
    "\n",
    "mots = s.split()\n",
    "\n",
    "Counter(mots)"
   ]
  },
  {
   "cell_type": "code",
   "execution_count": 16,
   "metadata": {},
   "outputs": [
    {
     "data": {
      "text/plain": [
       "[('chaque', 2), ('mot', 2)]"
      ]
     },
     "execution_count": 16,
     "metadata": {},
     "output_type": "execute_result"
    }
   ],
   "source": [
    "# Les méthodes de Counter()\n",
    "c = Counter(mots)\n",
    "\n",
    "c.most_common(2)"
   ]
  },
  {
   "cell_type": "markdown",
   "metadata": {},
   "source": [
    "## Les exemples standards d'utilisation de l'objet Counter()"
   ]
  },
  {
   "cell_type": "code",
   "execution_count": 17,
   "metadata": {
    "collapsed": true
   },
   "outputs": [],
   "source": [
    "sum(c.values())                 # total de toutes les occurences\n",
    "c.clear()                       # initialise les comptes\n",
    "list(c)                         # liste les éléments uniques\n",
    "set(c)                          # convertir en set\n",
    "dict(c)                         # convertir en dictionnaire standard\n",
    "c.items()                       # convertir en liste de paires (élément, compte)\n",
    "liste_de_paires = [('a',2), ('b',3), ('c',1)]\n",
    "Counter(dict(liste_de_paires))  # convertir à partir d'une liste de paires (élément, compte) \n",
    "n = 2\n",
    "c.most_common()[:-n-1:-1]       # les n éléments les moins fréquents\n",
    "c += Counter()                  # efface les comptes nuls ou négatifs"
   ]
  },
  {
   "cell_type": "markdown",
   "metadata": {},
   "source": [
    "## defaultdict\n",
    "\n",
    "defaultdict est un objet de type dictionnaire qui propose toutes les méthodes qui vont avec les dictionnaires mais dont le paramètre qui permet de définir un objet ou une valeur par défaut.\n",
    "\n",
    "L'utilisation de defaultdict est plus rapide que de mettre en oeuvre la méthode dict.set_default.\n",
    "\n",
    "**Un dictionnaire defaultdict ne donnera jamais d'erreur de type KeyError. S'il est fait référence à une clef qui n'existe pas, c'est la valeur définie par défaut qui sera renvoyée.**"
   ]
  },
  {
   "cell_type": "code",
   "execution_count": 24,
   "metadata": {
    "collapsed": true
   },
   "outputs": [],
   "source": [
    "from collections import defaultdict"
   ]
  },
  {
   "cell_type": "code",
   "execution_count": 7,
   "metadata": {
    "collapsed": true
   },
   "outputs": [],
   "source": [
    "d = {}"
   ]
  },
  {
   "cell_type": "code",
   "execution_count": 8,
   "metadata": {},
   "outputs": [
    {
     "ename": "KeyError",
     "evalue": "'un'",
     "output_type": "error",
     "traceback": [
      "\u001b[0;31m---------------------------------------------------------------------------\u001b[0m",
      "\u001b[0;31mKeyError\u001b[0m                                  Traceback (most recent call last)",
      "\u001b[0;32m<ipython-input-8-a3c38570c98a>\u001b[0m in \u001b[0;36m<module>\u001b[0;34m()\u001b[0m\n\u001b[0;32m----> 1\u001b[0;31m \u001b[0md\u001b[0m\u001b[0;34m[\u001b[0m\u001b[0;34m'un'\u001b[0m\u001b[0;34m]\u001b[0m\u001b[0;34m\u001b[0m\u001b[0m\n\u001b[0m",
      "\u001b[0;31mKeyError\u001b[0m: 'un'"
     ]
    }
   ],
   "source": [
    "d['un'] "
   ]
  },
  {
   "cell_type": "code",
   "execution_count": 9,
   "metadata": {
    "collapsed": true
   },
   "outputs": [],
   "source": [
    "d  = defaultdict(object)"
   ]
  },
  {
   "cell_type": "code",
   "execution_count": 10,
   "metadata": {},
   "outputs": [
    {
     "data": {
      "text/plain": [
       "<object at 0x1008f0a80>"
      ]
     },
     "execution_count": 10,
     "metadata": {},
     "output_type": "execute_result"
    }
   ],
   "source": [
    "d['un'] "
   ]
  },
  {
   "cell_type": "code",
   "execution_count": 13,
   "metadata": {},
   "outputs": [
    {
     "name": "stdout",
     "output_type": "stream",
     "text": [
      "un\n"
     ]
    }
   ],
   "source": [
    "for item in d:\n",
    "    print(item)"
   ]
  },
  {
   "cell_type": "markdown",
   "metadata": {},
   "source": [
    "Cela peut permettre l'initialisation avec une valeur par défaut (en utilisant une fonction lambda)"
   ]
  },
  {
   "cell_type": "code",
   "execution_count": 14,
   "metadata": {
    "collapsed": true
   },
   "outputs": [],
   "source": [
    "d = defaultdict(lambda: 0)"
   ]
  },
  {
   "cell_type": "code",
   "execution_count": 15,
   "metadata": {},
   "outputs": [
    {
     "data": {
      "text/plain": [
       "0"
      ]
     },
     "execution_count": 15,
     "metadata": {},
     "output_type": "execute_result"
    }
   ],
   "source": [
    "d['un']"
   ]
  },
  {
   "cell_type": "markdown",
   "metadata": {},
   "source": [
    "# namedtuple\n",
    "Un tuple standard utilise des index numériques pour accéder à ses membres, par exemple :"
   ]
  },
  {
   "cell_type": "code",
   "execution_count": 1,
   "metadata": {},
   "outputs": [],
   "source": [
    "t = (12, 13,14)"
   ]
  },
  {
   "cell_type": "code",
   "execution_count": 2,
   "metadata": {},
   "outputs": [
    {
     "data": {
      "text/plain": [
       "12"
      ]
     },
     "execution_count": 2,
     "metadata": {},
     "output_type": "execute_result"
    }
   ],
   "source": [
    "t[0]"
   ]
  },
  {
   "cell_type": "markdown",
   "metadata": {},
   "source": [
    "Pour des cas d'utilisation classiques, cela est généralement suffisant. En revanche, il peut être compliqué de se souvenir de l'index à utiliser pour chaque valeur, ce qui peut entraîner des erreurs, surtout si le tuple a beaucoup de champs et est construit loin de l'endroit où il est utilisé. \n",
    "\n",
    "Un namedtuple, tuple nommé, attribue des noms, ainsi que l'index numérique, à chaque membre.\n",
    "\n",
    "Un namedtuple assigne des noms ainsi que des index numériques à chaque membre.\n",
    "\n",
    "Chaque type de namedtuple est représenté par sa propre classe, créée à l'aide de la fonction standard namedtuple(). Les arguments sont le nom de la nouvelle classe et une liste contenant les noms des éléments ou champs.\n",
    "\n",
    "En gros, vous pouvez considérer les namedtuple comme un moyen très rapide de créer un nouveau type d'objet/classe avec des attributs dont vous pouvez choisir les noms.\n",
    "\n",
    "Par exemple:"
   ]
  },
  {
   "cell_type": "code",
   "execution_count": 4,
   "metadata": {},
   "outputs": [],
   "source": [
    "from collections import namedtuple"
   ]
  },
  {
   "cell_type": "code",
   "execution_count": 5,
   "metadata": {},
   "outputs": [],
   "source": [
    "Chien = namedtuple('Chien',['age','race','nom'])\n",
    "\n",
    "sam = Chien(age=2,race='Lab',nom='Sammy')\n",
    "\n",
    "frank = Chien(age=2,race='Shepard',nom=\"Frankie\")"
   ]
  },
  {
   "cell_type": "markdown",
   "metadata": {},
   "source": [
    "Le namedtuple est construit en passant d'abord le nom du nouveau type d'objet : 'Chien' et ensuite la liste des différents champs.\n",
    "\n",
    "De cette façon, on peut ensuite appeler les différents attributs :"
   ]
  },
  {
   "cell_type": "code",
   "execution_count": 6,
   "metadata": {},
   "outputs": [
    {
     "data": {
      "text/plain": [
       "Chien(age=2, race='Lab', nom='Sammy')"
      ]
     },
     "execution_count": 6,
     "metadata": {},
     "output_type": "execute_result"
    }
   ],
   "source": [
    "sam"
   ]
  },
  {
   "cell_type": "code",
   "execution_count": 7,
   "metadata": {},
   "outputs": [
    {
     "data": {
      "text/plain": [
       "2"
      ]
     },
     "execution_count": 7,
     "metadata": {},
     "output_type": "execute_result"
    }
   ],
   "source": [
    "sam.age"
   ]
  },
  {
   "cell_type": "code",
   "execution_count": 8,
   "metadata": {},
   "outputs": [
    {
     "data": {
      "text/plain": [
       "'Lab'"
      ]
     },
     "execution_count": 8,
     "metadata": {},
     "output_type": "execute_result"
    }
   ],
   "source": [
    "sam.race"
   ]
  },
  {
   "cell_type": "code",
   "execution_count": 10,
   "metadata": {},
   "outputs": [
    {
     "data": {
      "text/plain": [
       "2"
      ]
     },
     "execution_count": 10,
     "metadata": {},
     "output_type": "execute_result"
    }
   ],
   "source": [
    "sam[0]"
   ]
  },
  {
   "cell_type": "markdown",
   "metadata": {},
   "source": [
    "## OrderedDict\n",
    "\n",
    "OrderedDict est une classe de dictionnaire qui garde l'historique de l'ordre d'arrivée des données dans le dictionnaire.\n",
    "\n",
    " ** Remarque : depuis Python 3.6, la classe dict de base garde l'historique ! Mais c'est le résultat d'un effet de bord de l'implémentation, ce n'est ni prévu ni garanti.\n",
    "Donc, dans le doute, on continue d'utiliser OrderedDict **\n"
   ]
  },
  {
   "cell_type": "markdown",
   "metadata": {},
   "source": [
    "Voici par exemple le comportement normal d'un dictionnaire :"
   ]
  },
  {
   "cell_type": "code",
   "execution_count": 31,
   "metadata": {},
   "outputs": [
    {
     "name": "stdout",
     "output_type": "stream",
     "text": [
      "Normal dictionary:\n",
      "a A\n",
      "b B\n",
      "c C\n",
      "d D\n",
      "e E\n"
     ]
    }
   ],
   "source": [
    "print ('Dictionnaire normal :')\n",
    "\n",
    "d = {}\n",
    "\n",
    "d['a'] = 'A'\n",
    "d['b'] = 'B'\n",
    "d['c'] = 'C'\n",
    "d['d'] = 'D'\n",
    "d['e'] = 'E'\n",
    "\n",
    "for k, v in d.items():\n",
    "    print (k, v)"
   ]
  },
  {
   "cell_type": "markdown",
   "metadata": {},
   "source": [
    "Avec un dictionnaire de classe Ordered :"
   ]
  },
  {
   "cell_type": "code",
   "execution_count": 32,
   "metadata": {},
   "outputs": [
    {
     "name": "stdout",
     "output_type": "stream",
     "text": [
      "OrderedDict:\n",
      "a A\n",
      "b B\n",
      "c C\n",
      "d D\n",
      "e E\n"
     ]
    }
   ],
   "source": [
    "from collections import OrderedDict\n",
    "\n",
    "print ('Dictionnaire OrderedDict :')\n",
    "\n",
    "d = OrderedDict()\n",
    "\n",
    "d['a'] = 'A'\n",
    "d['b'] = 'B'\n",
    "d['c'] = 'C'\n",
    "d['d'] = 'D'\n",
    "d['e'] = 'E'\n",
    "\n",
    "for k, v in d.items():\n",
    "    print (k, v)"
   ]
  },
  {
   "cell_type": "markdown",
   "metadata": {},
   "source": [
    "## Egalité dans un dictionnaire OrderedDict\n",
    "\n",
    "Pour tester l'égalité, un dictionnaire normal ne vérifie que les valeurs, avec un OrderedDict l'ordre d'arrivée va aussi être pris en considération.\n",
    "\n",
    "Dictionnaire normal :"
   ]
  },
  {
   "cell_type": "code",
   "execution_count": 33,
   "metadata": {},
   "outputs": [
    {
     "name": "stdout",
     "output_type": "stream",
     "text": [
      "Les Dictionnaires sont identiques ? \n",
      "True\n"
     ]
    }
   ],
   "source": [
    "print ('Les Dictionnaires sont identiques ? ')\n",
    "\n",
    "d1 = {}\n",
    "d1['a'] = 'A'\n",
    "d1['b'] = 'B'\n",
    "d1['c'] = 'C'\n",
    "d1['d'] = 'D'\n",
    "d1['e'] = 'E'\n",
    "\n",
    "d2 = {}\n",
    "d2['b'] = 'B'\n",
    "d2['c'] = 'C'\n",
    "d2['e'] = 'E'\n",
    "d2['a'] = 'A'\n",
    "d2['d'] = 'D'\n",
    "\n",
    "print (d1 == d2)"
   ]
  },
  {
   "cell_type": "raw",
   "metadata": {},
   "source": [
    "Avec un dictionnaire OrderedDict :"
   ]
  },
  {
   "cell_type": "code",
   "execution_count": 35,
   "metadata": {},
   "outputs": [
    {
     "name": "stdout",
     "output_type": "stream",
     "text": [
      "Les Dictionnaires sont identiques ? \n",
      "False\n"
     ]
    }
   ],
   "source": [
    "print ('Les Dictionnaires sont identiques ? ')\n",
    "\n",
    "d1 = OrderedDict()\n",
    "d1['a'] = 'A'\n",
    "d1['b'] = 'B'\n",
    "d1['c'] = 'C'\n",
    "d1['d'] = 'D'\n",
    "d1['e'] = 'E'\n",
    "\n",
    "\n",
    "d2 = OrderedDict()\n",
    "d2['b'] = 'B'\n",
    "d2['c'] = 'C'\n",
    "d2['e'] = 'E'\n",
    "d2['a'] = 'A'\n",
    "d2['d'] = 'D'\n",
    "\n",
    "print (d1 == d2)"
   ]
  },
  {
   "cell_type": "markdown",
   "metadata": {},
   "source": [
    "## Conclusion\n",
    "\n",
    "J'espère que vous avez entrevu les incroyables possibilités du module collection de Python.\n",
    "\n",
    "Gardez le en mémoire pour trouver des solutions à vos problèmes d'algorithmes, petits ou grands.\n"
   ]
  }
 ],
 "metadata": {
  "kernelspec": {
   "display_name": "Python 3",
   "language": "python",
   "name": "python3"
  },
  "language_info": {
   "codemirror_mode": {
    "name": "ipython",
    "version": 3
   },
   "file_extension": ".py",
   "mimetype": "text/x-python",
   "name": "python",
   "nbconvert_exporter": "python",
   "pygments_lexer": "ipython3",
   "version": "3.7.7"
  }
 },
 "nbformat": 4,
 "nbformat_minor": 1
}
