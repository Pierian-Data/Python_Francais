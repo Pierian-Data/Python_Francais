{
 "cells": [
  {
   "cell_type": "markdown",
   "metadata": {},
   "source": [
    "___\n",
    "<table style=\" background-color: white; padding: 0;\"><tr>\n",
    "    <td><a href='https://www.udemy.com/user/marcaugier/'><img src='../logo_XDM.png'></a></td>\n",
    "    <td><a href='https://www.udemy.com/user/joseportilla/'><img src='../Pierian_Data_Logo.png'></a></td>\n",
    "</tr></table>\n",
    "<hr>\n",
    "    \n",
    "<center><em>Content Copyright by Pierian Data and xDM Consulting</em></center>"
   ]
  },
  {
   "cell_type": "markdown",
   "metadata": {},
   "source": [
    "# datetime\n",
    "\n",
    "Le module `datetime` de Python permet de gérer des `timestamps` (des informations date-heure) dans votre code. Les valeurs temporelles sont représentées grace à la classe `time`. Les objets temps ont des attributs correspondant aux heures, minutes, secondes et microsecondes. Ils peuvent également contenir des informations de fuseau horaire. Les arguments pour initialiser une instance `time` sont optionels mais la valeur par défaut 0 n'est certainement pas celle que vous souhaitez.\n",
    "\n",
    "## time\n",
    "Jetons un coup d'oeil à comment extraire des informations temporelles avec le module `datetime`.\n",
    "On peut tout d'abord créer un `timestamp` avec un appel du style datetime.time(hour,minute,second,microsecond)"
   ]
  },
  {
   "cell_type": "code",
   "execution_count": 3,
   "metadata": {},
   "outputs": [
    {
     "name": "stdout",
     "output_type": "stream",
     "text": [
      "04:20:01\n",
      "heure  : 4\n",
      "minute: 20\n",
      "seconde: 1\n",
      "microseconde: 0\n",
      "tzinfo: None\n"
     ]
    }
   ],
   "source": [
    "import datetime\n",
    "\n",
    "t = datetime.time(4, 20, 1)\n",
    "\n",
    "# Voici les différentes composantes\n",
    "\n",
    "print(t)\n",
    "print('heure  :', t.hour)\n",
    "print('minute:', t.minute)\n",
    "print('seconde:', t.second)\n",
    "print('microseconde:', t.microsecond)\n",
    "print('tzinfo:', t.tzinfo)"
   ]
  },
  {
   "cell_type": "markdown",
   "metadata": {},
   "source": [
    "### Note : \n",
    "Une instance `time` ne contient que des informations à propos de l'heure, il n'y a pas de date associée à cette heure.\n",
    "\n",
    "On peut aussi retrouver des valeurs de mini et de maxi qu'une heure peut prendre, ainsi que la plus petite fraction de temps :"
   ]
  },
  {
   "cell_type": "code",
   "execution_count": 4,
   "metadata": {},
   "outputs": [
    {
     "name": "stdout",
     "output_type": "stream",
     "text": [
      "Le plus tôt  : 00:00:00\n",
      "Le plus tard    : 23:59:59.999999\n",
      "Résolution: 0:00:00.000001\n"
     ]
    }
   ],
   "source": [
    "print ('Le plus tôt  :', datetime.time.min)\n",
    "print ('Le plus tard    :', datetime.time.max)\n",
    "print ('Résolution:', datetime.time.resolution)"
   ]
  },
  {
   "cell_type": "markdown",
   "metadata": {},
   "source": [
    "Les attributs min et max permettent d'obtenir les limites valides d'une journée."
   ]
  },
  {
   "cell_type": "markdown",
   "metadata": {},
   "source": [
    "## Dates\n",
    "`datetime` (comme vous pouvez vous douter) permet également de manipuler des dates. Les dates calendaires sont représentées avec la classe `date`. Les instances de date ont des attirbuts pour l'année, le mois et le jour. Il est facile de créer une valeur pour représenter la date du jour en utilisant la méthode `today()`.\n",
    "\n",
    "Voyons quelques exemples :"
   ]
  },
  {
   "cell_type": "code",
   "execution_count": 7,
   "metadata": {},
   "outputs": [
    {
     "name": "stdout",
     "output_type": "stream",
     "text": [
      "2019-07-19\n",
      "ctime: Fri Jul 19 00:00:00 2019\n",
      "tuple: time.struct_time(tm_year=2019, tm_mon=7, tm_mday=19, tm_hour=0, tm_min=0, tm_sec=0, tm_wday=4, tm_yday=200, tm_isdst=-1)\n",
      "ordinal: 737259\n",
      "Année: 2019\n",
      "Mois : 7\n",
      "Jour : 19\n"
     ]
    }
   ],
   "source": [
    "aujourdhui = datetime.date.today()\n",
    "print(aujourdhui)\n",
    "print('ctime:', aujourdhui.ctime())\n",
    "print('tuple:', aujourdhui.timetuple())\n",
    "print('ordinal:', aujourdhui.toordinal())\n",
    "print('Année:', aujourdhui.year)\n",
    "print('Mois :', aujourdhui.month)\n",
    "print('Jour :', aujourdhui.day)"
   ]
  },
  {
   "cell_type": "markdown",
   "metadata": {},
   "source": [
    "Comme pour l'heure avec `time`, les attributs min et max permettent d'obtenir les limites d'une date."
   ]
  },
  {
   "cell_type": "code",
   "execution_count": 8,
   "metadata": {},
   "outputs": [
    {
     "name": "stdout",
     "output_type": "stream",
     "text": [
      "Origine  : 0001-01-01\n",
      "Fin des temps    : 9999-12-31\n",
      "Résolution: 1 day, 0:00:00\n"
     ]
    }
   ],
   "source": [
    "print('Origine  :', datetime.date.min)\n",
    "print('Fin des temps    :', datetime.date.max)\n",
    "print('Résolution:', datetime.date.resolution)"
   ]
  },
  {
   "cell_type": "markdown",
   "metadata": {},
   "source": [
    "Une autre façon de créer des instances de date est d'utiliser la méthode `replace()` sur une instance de date existante. Par exemple pour changer l'année en conservant le jour et le mois."
   ]
  },
  {
   "cell_type": "code",
   "execution_count": 10,
   "metadata": {},
   "outputs": [
    {
     "name": "stdout",
     "output_type": "stream",
     "text": [
      "d1: 2015-03-30\n",
      "d2: 2019-03-30\n"
     ]
    }
   ],
   "source": [
    "d1 = datetime.date(2015, 3, 30)\n",
    "print ('d1:', d1)\n",
    "\n",
    "d2 = d1.replace(year=2019)\n",
    "print ('d2:', d2)"
   ]
  },
  {
   "cell_type": "markdown",
   "metadata": {},
   "source": [
    "# Arithmétique\n",
    "\n",
    "Il est possible de réaliser des calculs arithmétiques sur des objets `date` pour calculer des différences de temps.\n",
    "\n",
    "Par exemple :"
   ]
  },
  {
   "cell_type": "code",
   "execution_count": 11,
   "metadata": {},
   "outputs": [
    {
     "data": {
      "text/plain": [
       "datetime.date(2015, 3, 30)"
      ]
     },
     "execution_count": 11,
     "metadata": {},
     "output_type": "execute_result"
    }
   ],
   "source": [
    "d1"
   ]
  },
  {
   "cell_type": "code",
   "execution_count": 12,
   "metadata": {},
   "outputs": [
    {
     "data": {
      "text/plain": [
       "datetime.date(2019, 3, 30)"
      ]
     },
     "execution_count": 12,
     "metadata": {},
     "output_type": "execute_result"
    }
   ],
   "source": [
    "d2"
   ]
  },
  {
   "cell_type": "code",
   "execution_count": 13,
   "metadata": {},
   "outputs": [
    {
     "data": {
      "text/plain": [
       "datetime.timedelta(-1461)"
      ]
     },
     "execution_count": 13,
     "metadata": {},
     "output_type": "execute_result"
    }
   ],
   "source": [
    "d1-d2"
   ]
  },
  {
   "cell_type": "markdown",
   "metadata": {},
   "source": [
    "Cela nous permet d'obtenir le nombre de jours entre 2 dates.\n",
    "\n",
    "Vous pouvez aussi utiliser la méthode `timedelta` pour spécifier différentes unités de temps (jour, minutes, heures, etc.).\n",
    "\n",
    "Bravo ! Vous avez maintenant les compétences de base pour utiliser `datetime`avec Python pour manipuler des dates dans votre code !"
   ]
  }
 ],
 "metadata": {
  "kernelspec": {
   "display_name": "Python 3",
   "language": "python",
   "name": "python3"
  },
  "language_info": {
   "codemirror_mode": {
    "name": "ipython",
    "version": 3
   },
   "file_extension": ".py",
   "mimetype": "text/x-python",
   "name": "python",
   "nbconvert_exporter": "python",
   "pygments_lexer": "ipython3",
   "version": "3.7.7"
  }
 },
 "nbformat": 4,
 "nbformat_minor": 1
}
