{
 "cells": [
  {
   "cell_type": "markdown",
   "metadata": {},
   "source": [
    "___\n",
    "<table style=\" background-color: white; padding: 0;\"><tr>\n",
    "    <td><a href='https://www.udemy.com/user/marcaugier/'><img src='../logo_XDM.png'></a></td>\n",
    "    <td><a href='https://www.udemy.com/user/joseportilla/'><img src='../Pierian_Data_Logo.png'></a></td>\n",
    "</tr></table>\n",
    "<hr>\n",
    "    \n",
    "<center><em>Content Copyright by Pierian Data and xDM Consulting</em></center>"
   ]
  },
  {
   "cell_type": "markdown",
   "metadata": {},
   "source": [
    "# Le déboggueur Python\n",
    "# pdb\n",
    "\n",
    "Le moyen le plus simple de débugger son code est d'ajouter des fonctions `print` aux endroits \"critiques\". Un moyen beaucoup plus efficace de faire cela est d'utiliser le deboggueur interne de Python : `pdb`. Le module pdb met en oeuvre un environnement interactif de déboggage/debugging pour les programmes Python. Il contient des fonctionnalités pour mettre un programme en pause, inspecter les valeurs des variables, et controler l'exécution du programme par étapes, de manière à ce que vous puissiez comprendre comment se comporte votre code et trouver l'erreur dans sa logique.\n",
    "\n",
    "C'est un peu difficile à montrer, parce qu'il faut créer une erreur de programmation qui ne soit pas simpliste, mais nous allons tout de même pouvoir le mettre en oeuvre sur un exemple et montrer toute la puissance du module `pdb`.\n",
    "\n",
    "## Note\n",
    "*C'est plutôt totalement inhabituel, voire incongru d'utiliser pdb dans un Notebook Jupyter, qui nous sert ici de support pédagogique.*\n",
    "\n",
    "___\n",
    "Voici le programme et son erreur, essayer d'additionner une liste à un entier."
   ]
  },
  {
   "cell_type": "code",
   "execution_count": 1,
   "metadata": {},
   "outputs": [
    {
     "name": "stdout",
     "output_type": "stream",
     "text": [
      "5\n"
     ]
    },
    {
     "ename": "TypeError",
     "evalue": "unsupported operand type(s) for +: 'int' and 'list'",
     "output_type": "error",
     "traceback": [
      "\u001b[0;31m---------------------------------------------------------------------------\u001b[0m",
      "\u001b[0;31mTypeError\u001b[0m                                 Traceback (most recent call last)",
      "\u001b[0;32m<ipython-input-1-7c2eacc24be1>\u001b[0m in \u001b[0;36m<module>\u001b[0;34m()\u001b[0m\n\u001b[1;32m      5\u001b[0m \u001b[0mresultat\u001b[0m \u001b[0;34m=\u001b[0m \u001b[0my\u001b[0m \u001b[0;34m+\u001b[0m \u001b[0mz\u001b[0m\u001b[0;34m\u001b[0m\u001b[0;34m\u001b[0m\u001b[0m\n\u001b[1;32m      6\u001b[0m \u001b[0mprint\u001b[0m \u001b[0;34m(\u001b[0m\u001b[0mresultat\u001b[0m\u001b[0;34m)\u001b[0m\u001b[0;34m\u001b[0m\u001b[0;34m\u001b[0m\u001b[0m\n\u001b[0;32m----> 7\u001b[0;31m \u001b[0mresult2\u001b[0m \u001b[0;34m=\u001b[0m \u001b[0my\u001b[0m\u001b[0;34m+\u001b[0m\u001b[0mx\u001b[0m\u001b[0;34m\u001b[0m\u001b[0;34m\u001b[0m\u001b[0m\n\u001b[0m\u001b[1;32m      8\u001b[0m \u001b[0mprint\u001b[0m \u001b[0;34m(\u001b[0m\u001b[0mresultat2\u001b[0m\u001b[0;34m)\u001b[0m\u001b[0;34m\u001b[0m\u001b[0;34m\u001b[0m\u001b[0m\n",
      "\u001b[0;31mTypeError\u001b[0m: unsupported operand type(s) for +: 'int' and 'list'"
     ]
    }
   ],
   "source": [
    "x = [1,3,4]\n",
    "y = 2\n",
    "z = 3\n",
    "\n",
    "resultat = y + z\n",
    "print (resultat)\n",
    "result2 = y+x\n",
    "print (resultat2)"
   ]
  },
  {
   "cell_type": "markdown",
   "metadata": {},
   "source": [
    "Surprise ! Nous avons une erreur ?\n",
    "\n",
    "Nous allons utiliser set_trace() du module pdb. Cela va nous permettre de mettre le code en pause et regarder ce qui ne va pas."
   ]
  },
  {
   "cell_type": "code",
   "execution_count": null,
   "metadata": {},
   "outputs": [
    {
     "name": "stdout",
     "output_type": "stream",
     "text": [
      "5\n",
      "--Return--\n",
      "> <ipython-input-2-09e3e75386e2>(11)<module>()->None\n",
      "-> pdb.set_trace()\n"
     ]
    }
   ],
   "source": [
    "import pdb\n",
    "\n",
    "x = [1,3,4]\n",
    "y = 2\n",
    "z = 3\n",
    "\n",
    "resultat = y + z\n",
    "print(resultat)\n",
    "\n",
    "# Démarrer la trace avec pdb\n",
    "pdb.set_trace()\n",
    "\n",
    "resultat2 = y+x\n",
    "print(resultat2)"
   ]
  },
  {
   "cell_type": "markdown",
   "metadata": {},
   "source": [
    "Parfait !\n",
    "\n",
    "Nous pouvons vérifier le contenu des différentes variables et identifier la ou les erreurs. \n",
    "Vous pouvez utiliser 'q' pour quitter le déboggueur."
   ]
  }
 ],
 "metadata": {
  "kernelspec": {
   "display_name": "Python 3",
   "language": "python",
   "name": "python3"
  },
  "language_info": {
   "codemirror_mode": {
    "name": "ipython",
    "version": 3
   },
   "file_extension": ".py",
   "mimetype": "text/x-python",
   "name": "python",
   "nbconvert_exporter": "python",
   "pygments_lexer": "ipython3",
   "version": "3.7.7"
  }
 },
 "nbformat": 4,
 "nbformat_minor": 1
}
