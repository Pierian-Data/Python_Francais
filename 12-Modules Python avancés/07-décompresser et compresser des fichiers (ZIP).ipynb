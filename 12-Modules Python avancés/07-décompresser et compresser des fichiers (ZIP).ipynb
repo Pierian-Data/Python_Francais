{
 "cells": [
  {
   "cell_type": "markdown",
   "metadata": {},
   "source": [
    "___\n",
    "<table style=\" background-color: white; padding: 0;\"><tr>\n",
    "    <td><a href='https://www.udemy.com/user/marcaugier/'><img src='../logo_XDM.png'></a></td>\n",
    "    <td><a href='https://www.udemy.com/user/joseportilla/'><img src='../Pierian_Data_Logo.png'></a></td>\n",
    "</tr></table>\n",
    "<hr>\n",
    "    \n",
    "<center><em>Content Copyright by Pierian Data and xDM Consulting</em></center>"
   ]
  },
  {
   "cell_type": "markdown",
   "metadata": {},
   "source": [
    "# Compresser et décompresser des fichiers\n",
    "## ZIP pour Python\n",
    "\n",
    "Comme vous le savez probablement, les fichiers peuvent être compressés au format zip. Souvent, les gens utilisent des programmes spéciaux pour décompresser ces fichiers, heureusement pour nous, Python peut faire la même tâche avec seulement quelques lignes de code."
   ]
  },
  {
   "cell_type": "markdown",
   "metadata": {},
   "source": [
    "## Création de fichiers à compresser"
   ]
  },
  {
   "cell_type": "code",
   "execution_count": 1,
   "metadata": {},
   "outputs": [],
   "source": [
    "f = open(\"un_fichier.txt\",'w+')\n",
    "f.write(\"Un peu de texte\")\n",
    "f.close()"
   ]
  },
  {
   "cell_type": "code",
   "execution_count": 2,
   "metadata": {},
   "outputs": [],
   "source": [
    "f = open(\"un_fichier2.txt\",'w+')\n",
    "f.write(\"Un peu de texte\")\n",
    "f.close()"
   ]
  },
  {
   "cell_type": "markdown",
   "metadata": {},
   "source": [
    "## Zipper, compresser des fichiers\n",
    "\n",
    "La [bibliothèque zipfile](https://docs.python.org/3/library/zipfile.html) est inclus par défaut dans Python, on peut l'utiliser pour compresser des dossiers entiers ou des fichiers. Pour compresser tous les fichiers d'un dossier, il suffit d'utiliser la méthode os.walk() pour répéter l'opération pour chaque fichier du dossier.\n"
   ]
  },
  {
   "cell_type": "code",
   "execution_count": 1,
   "metadata": {},
   "outputs": [],
   "source": [
    "import zipfile"
   ]
  },
  {
   "cell_type": "markdown",
   "metadata": {},
   "source": [
    " Il faut commencer par créer un fichier Zip, et ensuite écrire tout simplement à l'intérieur. L'opération d'écriture compresse automatiquement le fichier.\n",
    " "
   ]
  },
  {
   "cell_type": "code",
   "execution_count": 5,
   "metadata": {},
   "outputs": [],
   "source": [
    "fichier_compressé = zipfile.ZipFile('fichier_compressé.zip','w')"
   ]
  },
  {
   "cell_type": "code",
   "execution_count": 6,
   "metadata": {},
   "outputs": [],
   "source": [
    "fichier_compressé.write(\"un_fichier.txt\",compress_type=zipfile.ZIP_DEFLATED)"
   ]
  },
  {
   "cell_type": "code",
   "execution_count": 7,
   "metadata": {},
   "outputs": [],
   "source": [
    "fichier_compressé.write('un_fichier2.txt',compress_type=zipfile.ZIP_DEFLATED)"
   ]
  },
  {
   "cell_type": "code",
   "execution_count": 8,
   "metadata": {},
   "outputs": [],
   "source": [
    "fichier_compressé.close()"
   ]
  },
  {
   "cell_type": "markdown",
   "metadata": {},
   "source": [
    "## Extraire le contenu d'un dossier Zip\n",
    "\n",
    "Il est très facile d'extraire les fichiers d'un dossier compressé avec soit la méthode extractall() pour récupérer tout le contenu, ou soit la méthode extract() pour n'extraire que certains fichiers."
   ]
  },
  {
   "cell_type": "code",
   "execution_count": 10,
   "metadata": {},
   "outputs": [],
   "source": [
    "le_zip = zipfile.ZipFile('fichier_compressé.zip','r')"
   ]
  },
  {
   "cell_type": "code",
   "execution_count": 11,
   "metadata": {},
   "outputs": [],
   "source": [
    "le_zip.extractall(\"contenu_extrait\")"
   ]
  },
  {
   "cell_type": "markdown",
   "metadata": {},
   "source": [
    "________"
   ]
  },
  {
   "cell_type": "markdown",
   "metadata": {},
   "source": [
    "# Utilisation de la bibliothèque shutil\n",
    "\n",
    "Généralement, vous ne souhaitez pas extraire ou archiver des fichiers individuels dans un fichier Zip, vous désirez plus souvent traiter tout un dossier à la fois.\n",
    "La bilbiothèque shutil qui fait aussi partie de Python en standard a des commandes très simples pour cela :\n"
   ]
  },
  {
   "cell_type": "code",
   "execution_count": 15,
   "metadata": {},
   "outputs": [],
   "source": [
    "import shutil"
   ]
  },
  {
   "cell_type": "markdown",
   "metadata": {},
   "source": [
    "Il est possible de donner un paramètre de format à la bilbiothèque shutil. Ce paramètre `format` indique le format de l'archive : \"zip\", \"tar\", \"gztar\", \"bztar\" ou \"xztar\" sont acceptés."
   ]
  },
  {
   "cell_type": "code",
   "execution_count": 16,
   "metadata": {},
   "outputs": [
    {
     "data": {
      "text/plain": [
       "'/home/marc/Documents/git/Python-3-Formation-complete/12-Modules Python avancés'"
      ]
     },
     "execution_count": 16,
     "metadata": {},
     "output_type": "execute_result"
    }
   ],
   "source": [
    "pwd"
   ]
  },
  {
   "cell_type": "code",
   "execution_count": 19,
   "metadata": {},
   "outputs": [],
   "source": [
    "dossier_à_zipper='/home/marc/Documents/git/Python-3-Formation-complete/12-Modules Python avancés'"
   ]
  },
  {
   "cell_type": "code",
   "execution_count": 21,
   "metadata": {},
   "outputs": [
    {
     "data": {
      "text/plain": [
       "'/home/marc/Documents/git/Python-3-Formation-complete/12-Modules Python avancés/exemple.zip'"
      ]
     },
     "execution_count": 21,
     "metadata": {},
     "output_type": "execute_result"
    }
   ],
   "source": [
    "# Création de l'archive zip\n",
    "fichier_sortie = 'exemple'\n",
    "\n",
    "# Il faut indiquer le nom du fichier de sortie et le dossier à zipper\n",
    "shutil.make_archive(fichier_sortie,'zip',dossier_à_zipper)"
   ]
  },
  {
   "cell_type": "code",
   "execution_count": 22,
   "metadata": {},
   "outputs": [],
   "source": [
    "# Extraire les fichiers d'un dossier Zip\n",
    "# Noter l'ordre des paramètres qui diffère de précédement\n",
    "dossier_de_sortie = '/home/marc/Documents/git/Python-3-Formation-complete/99-test-decompression'\n",
    "fichier_compressé = '/home/marc/Documents/git/Python-3-Formation-complete/12-Modules Python avancés/exemple.zip'\n",
    "shutil.unpack_archive(fichier_compressé,dossier_de_sortie,'zip')"
   ]
  },
  {
   "cell_type": "code",
   "execution_count": null,
   "metadata": {},
   "outputs": [],
   "source": []
  }
 ],
 "metadata": {
  "kernelspec": {
   "display_name": "Python 3",
   "language": "python",
   "name": "python3"
  },
  "language_info": {
   "codemirror_mode": {
    "name": "ipython",
    "version": 3
   },
   "file_extension": ".py",
   "mimetype": "text/x-python",
   "name": "python",
   "nbconvert_exporter": "python",
   "pygments_lexer": "ipython3",
   "version": "3.8.3"
  }
 },
 "nbformat": 4,
 "nbformat_minor": 2
}
