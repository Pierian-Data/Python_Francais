{
 "cells": [
  {
   "cell_type": "markdown",
   "metadata": {},
   "source": [
    "___\n",
    "<table style=\" background-color: white; padding: 0;\"><tr>\n",
    "    <td><a href='https://www.udemy.com/user/marcaugier/'><img src='../logo_XDM.png'></a></td>\n",
    "    <td><a href='https://www.udemy.com/user/joseportilla/'><img src='../Pierian_Data_Logo.png'></a></td>\n",
    "</tr></table>\n",
    "<hr>\n",
    "    \n",
    "<center><em>Content Copyright by Pierian Data and xDM Consulting</em></center>"
   ]
  },
  {
   "cell_type": "markdown",
   "metadata": {},
   "source": [
    "# Chronométrer votre code\n",
    "\n",
    "Il est souvent important de savoir combien de temps votre code met à s'exécuter, ou au moins pour identifier les lignes qui ralentissent tout votre projet. Python a pour cela un module intégré.\n",
    "\n",
    "Ce module propose une manière simple de chronométrer de petites portions de code Python. Il propose une interface ligne de commande et des fonctions à appeler. Il permet aussi d'éviter les pièges les plus courants de la mesure de temps d'exécution.\n"
   ]
  },
  {
   "cell_type": "markdown",
   "metadata": {},
   "source": [
    "## Fonction de test\n",
    "\n",
    "Pour mettre en pratique nous allons utiliser 2 fonctions qui font la même chose, mais de manières différentes.\n",
    "\n",
    "Comment savoir laquelle est la plus rapide ?\n",
    "\n",
    "`time it !`"
   ]
  },
  {
   "cell_type": "code",
   "execution_count": 1,
   "metadata": {},
   "outputs": [],
   "source": [
    "def func_un(n):\n",
    "    '''\n",
    "    Pour un nombre donné n, renvoie une liste d'entiers sous forme de caractères\n",
    "    ['0','1','2',...'n]\n",
    "    '''\n",
    "    return [str(num) for num in range(n)]"
   ]
  },
  {
   "cell_type": "code",
   "execution_count": 2,
   "metadata": {},
   "outputs": [
    {
     "data": {
      "text/plain": [
       "['0', '1', '2', '3', '4', '5', '6', '7', '8', '9']"
      ]
     },
     "execution_count": 2,
     "metadata": {},
     "output_type": "execute_result"
    }
   ],
   "source": [
    "func_un(10)"
   ]
  },
  {
   "cell_type": "code",
   "execution_count": 4,
   "metadata": {},
   "outputs": [],
   "source": [
    "def func_deux(n):\n",
    "    '''\n",
    "    Pour un nombre donné n, renvoie une liste d'entiers sous forme de caractères\n",
    "    ['0','1','2',...'n]\n",
    "    '''\n",
    "    return list(map(str,range(n)))"
   ]
  },
  {
   "cell_type": "code",
   "execution_count": 5,
   "metadata": {},
   "outputs": [
    {
     "data": {
      "text/plain": [
       "['0', '1', '2', '3', '4', '5', '6', '7', '8', '9']"
      ]
     },
     "execution_count": 5,
     "metadata": {},
     "output_type": "execute_result"
    }
   ],
   "source": [
    "func_deux(10)"
   ]
  },
  {
   "cell_type": "markdown",
   "metadata": {},
   "source": [
    "## Chronométrage du début et de la fin\n",
    "\n",
    "Nous pouvons essayer d'utiliser le module `timeit` pour calculer le temps écoulé par le code. Gardez à l'esprit qu'en raison de la précision du module, le code doit prendre au moins 0,1 seconde pour s'exécuter."
   ]
  },
  {
   "cell_type": "code",
   "execution_count": 10,
   "metadata": {},
   "outputs": [],
   "source": [
    "import time"
   ]
  },
  {
   "cell_type": "code",
   "execution_count": 14,
   "metadata": {},
   "outputs": [],
   "source": [
    "# ETAPE 1: prendre l'heure de début\n",
    "debut = time.time()\n",
    "# ETAPE 2: exécuter le code à chronométrer\n",
    "result = func_un(1000000)\n",
    "# ETAPE 3: Calculer le temps écoulé\n",
    "fin = time.time() - debut"
   ]
  },
  {
   "cell_type": "code",
   "execution_count": 15,
   "metadata": {},
   "outputs": [
    {
     "data": {
      "text/plain": [
       "0.21595191955566406"
      ]
     },
     "execution_count": 15,
     "metadata": {},
     "output_type": "execute_result"
    }
   ],
   "source": [
    "fin"
   ]
  },
  {
   "cell_type": "code",
   "execution_count": 16,
   "metadata": {},
   "outputs": [],
   "source": [
    "# ETAPE 1: prendre l'heure de début\n",
    "debut = time.time()\n",
    "# ETAPE 2: exécuter le code à chronométrer\n",
    "result = func_deux(1000000)\n",
    "# ETAPE 3: Calculer le temps écoulé\n",
    "fin = time.time() - debut"
   ]
  },
  {
   "cell_type": "code",
   "execution_count": 17,
   "metadata": {},
   "outputs": [
    {
     "data": {
      "text/plain": [
       "0.17627692222595215"
      ]
     },
     "execution_count": 17,
     "metadata": {},
     "output_type": "execute_result"
    }
   ],
   "source": [
    "fin"
   ]
  },
  {
   "cell_type": "markdown",
   "metadata": {},
   "source": [
    "## Le module timeit\n",
    "\n",
    "Comment faire si nous avons deux blocs de code très rapides, la différence avec la méthode time.time() peut ne pas être suffisante pour dire quel est le plus rapide. Dans ce cas, nous pouvons utiliser le module `timeit`.\n",
    "\n",
    "Le module `timeit` prend deux chaînes, une contenant le code à tester et un code d'initialisation.\n",
    "\n",
    "Il exécute le code d'initialisation puis le code à tester un certain nombre de fois et finalement rend compte de la durée moyenne nécessaire."
   ]
  },
  {
   "cell_type": "code",
   "execution_count": 18,
   "metadata": {},
   "outputs": [],
   "source": [
    "import timeit"
   ]
  },
  {
   "cell_type": "code",
   "execution_count": 28,
   "metadata": {},
   "outputs": [],
   "source": [
    "# Initialisation : on définit la fonction\n",
    "\n",
    "init = '''\n",
    "def func_un(n):\n",
    "    return [str(num) for num in range(n)]\n",
    "'''"
   ]
  },
  {
   "cell_type": "code",
   "execution_count": 29,
   "metadata": {},
   "outputs": [],
   "source": [
    "code = 'func_un(100)'"
   ]
  },
  {
   "cell_type": "code",
   "execution_count": 31,
   "metadata": {},
   "outputs": [
    {
     "data": {
      "text/plain": [
       "1.58746182699997"
      ]
     },
     "execution_count": 31,
     "metadata": {},
     "output_type": "execute_result"
    }
   ],
   "source": [
    "# On lance func_un 10.000 fois\n",
    "timeit.timeit(code,init,number=100000)"
   ]
  },
  {
   "cell_type": "code",
   "execution_count": 34,
   "metadata": {},
   "outputs": [],
   "source": [
    "init2 = '''\n",
    "def func_deux(n):\n",
    "    return list(map(str,range(n)))\n",
    "'''"
   ]
  },
  {
   "cell_type": "code",
   "execution_count": 35,
   "metadata": {},
   "outputs": [],
   "source": [
    "code2 = 'func_deux(100)'"
   ]
  },
  {
   "cell_type": "code",
   "execution_count": 36,
   "metadata": {},
   "outputs": [
    {
     "data": {
      "text/plain": [
       "1.2132256879999659"
      ]
     },
     "execution_count": 36,
     "metadata": {},
     "output_type": "execute_result"
    }
   ],
   "source": [
    "# On lance func_deux 10.000 fois\n",
    "timeit.timeit(code2,init2,number=100000)"
   ]
  },
  {
   "cell_type": "markdown",
   "metadata": {},
   "source": [
    "C'est fun_deux qui semble plus rapide, on peut lancer sur encore plus d'occuerences pour vérifier"
   ]
  },
  {
   "cell_type": "code",
   "execution_count": 37,
   "metadata": {},
   "outputs": [
    {
     "data": {
      "text/plain": [
       "15.589083432000052"
      ]
     },
     "execution_count": 37,
     "metadata": {},
     "output_type": "execute_result"
    }
   ],
   "source": [
    "timeit.timeit(code,init,number=1000000)"
   ]
  },
  {
   "cell_type": "code",
   "execution_count": 38,
   "metadata": {},
   "outputs": [
    {
     "data": {
      "text/plain": [
       "12.180537549000064"
      ]
     },
     "execution_count": 38,
     "metadata": {},
     "output_type": "execute_result"
    }
   ],
   "source": [
    "timeit.timeit(code2,init2,number=1000000)"
   ]
  },
  {
   "cell_type": "markdown",
   "metadata": {},
   "source": [
    "## Exemples\n",
    "\n",
    "On peut aussi utiliser `timeit` pour chronométrer différentes façon de créer la chaine de caractères : '0-1-2-3-.....-99', cette fois sans passer par une fonction.\n",
    "\n",
    "Pour cela, nous devons passer 2 arguments : la ligne à tester encapsulée sous forme d'une chaine de caractères et le nombre de fois que nous voulons l'exécuter. Ici nous allons utiliser 10.000 pour avoir des nombres suffisement grands à comparer."
   ]
  },
  {
   "cell_type": "code",
   "execution_count": 3,
   "metadata": {},
   "outputs": [
    {
     "data": {
      "text/plain": [
       "0.20086893401457928"
      ]
     },
     "execution_count": 3,
     "metadata": {},
     "output_type": "execute_result"
    }
   ],
   "source": [
    "# Boucle for \n",
    "timeit.timeit('\"-\".join(str(n) for n in range(100))', number=10000)"
   ]
  },
  {
   "cell_type": "code",
   "execution_count": 4,
   "metadata": {},
   "outputs": [
    {
     "data": {
      "text/plain": [
       "0.17667966001317836"
      ]
     },
     "execution_count": 4,
     "metadata": {},
     "output_type": "execute_result"
    }
   ],
   "source": [
    "# Comprehension de liste\n",
    "timeit.timeit('\"-\".join([str(n) for n in range(100)])', number=10000)"
   ]
  },
  {
   "cell_type": "code",
   "execution_count": 5,
   "metadata": {},
   "outputs": [
    {
     "data": {
      "text/plain": [
       "0.128120407985989"
      ]
     },
     "execution_count": 5,
     "metadata": {},
     "output_type": "execute_result"
    }
   ],
   "source": [
    "# Map()\n",
    "timeit.timeit('\"-\".join(map(str, range(100)))', number=10000)"
   ]
  },
  {
   "cell_type": "markdown",
   "metadata": {},
   "source": [
    "Parfait !\n",
    "Nous pouvons constater une vraie différence de performance avec `map()`. C'est bon à savoir et il faudra vous en rappeler !\n",
    "\n",
    "Voyons maintenant une fonction magique de Jupyter : %timeit\n",
    "\n",
    "De la même façon %timeit dans un Notebook Jupyter va répéter l'exécution de la même ligne un certain nombre de fois and vous donnera directement la performance des 3 meilleures.\n",
    "\n",
    "Faisons la même opération que précédemment mais cette fois avec la fonction magique %timeit:"
   ]
  },
  {
   "cell_type": "code",
   "execution_count": 6,
   "metadata": {},
   "outputs": [
    {
     "name": "stdout",
     "output_type": "stream",
     "text": [
      "18.9 µs ± 395 ns per loop (mean ± std. dev. of 7 runs, 100000 loops each)\n"
     ]
    }
   ],
   "source": [
    "%timeit \"-\".join(str(n) for n in range(100)) "
   ]
  },
  {
   "cell_type": "code",
   "execution_count": 12,
   "metadata": {},
   "outputs": [
    {
     "name": "stdout",
     "output_type": "stream",
     "text": [
      "16.5 µs ± 327 ns per loop (mean ± std. dev. of 7 runs, 100000 loops each)\n"
     ]
    }
   ],
   "source": [
    "%timeit \"-\".join([str(n) for n in range(100)]) "
   ]
  },
  {
   "cell_type": "code",
   "execution_count": 10,
   "metadata": {},
   "outputs": [
    {
     "name": "stdout",
     "output_type": "stream",
     "text": [
      "13 µs ± 158 ns per loop (mean ± std. dev. of 7 runs, 100000 loops each)\n"
     ]
    }
   ],
   "source": [
    "%timeit \"-\".join(map(str, range(100))) "
   ]
  },
  {
   "cell_type": "markdown",
   "metadata": {},
   "source": [
    "Parfait !\n",
    "Nous sommes arrivés à la même conclusion. Il est important de noter que Jupyter limitera le *temps réel* d'exécution avec la procédure timeit. Par exemple si faire 10.000 boucles prendrait 10 minutes, Jupyter va automatiquement réduire le nombre de boucles pour utiliser une valeur plus raisonnable entre 100 et 1000.\n",
    "\n",
    "Vous avez maintenant tous les outils pour chronométrer votre code, directement dans un Notebook Jupyter ou en Python."
   ]
  },
  {
   "cell_type": "markdown",
   "metadata": {
    "collapsed": true
   },
   "source": [
    "## Chronométrer votre code avec une méthode \"magique\" de Jupyter\n",
    "\n",
    "### ATTENTION\n",
    "Ceci ne fonctionne qu'avec Jupyter et la commande magique doit être sur la première ligne de la cellule qui sera chronométrée. \n",
    "\n",
    "Rien avant, même pas un commentaire"
   ]
  },
  {
   "cell_type": "code",
   "execution_count": 39,
   "metadata": {},
   "outputs": [
    {
     "name": "stdout",
     "output_type": "stream",
     "text": [
      "16.2 µs ± 426 ns per loop (mean ± std. dev. of 7 runs, 100000 loops each)\n"
     ]
    }
   ],
   "source": [
    "%%timeit\n",
    "func_un(100)"
   ]
  },
  {
   "cell_type": "code",
   "execution_count": 40,
   "metadata": {},
   "outputs": [
    {
     "name": "stdout",
     "output_type": "stream",
     "text": [
      "12.2 µs ± 29.5 ns per loop (mean ± std. dev. of 7 runs, 100000 loops each)\n"
     ]
    }
   ],
   "source": [
    "%%timeit\n",
    "func_deux(100)"
   ]
  },
  {
   "cell_type": "markdown",
   "metadata": {},
   "source": [
    "N'hésitez pas à consulter la [documentation](https://docs.python.org/fr/3/library/timeit.html) si vous avez des besoins spécidfiques."
   ]
  }
 ],
 "metadata": {
  "kernelspec": {
   "display_name": "Python 3",
   "language": "python",
   "name": "python3"
  },
  "language_info": {
   "codemirror_mode": {
    "name": "ipython",
    "version": 3
   },
   "file_extension": ".py",
   "mimetype": "text/x-python",
   "name": "python",
   "nbconvert_exporter": "python",
   "pygments_lexer": "ipython3",
   "version": "3.7.7"
  }
 },
 "nbformat": 4,
 "nbformat_minor": 1
}
