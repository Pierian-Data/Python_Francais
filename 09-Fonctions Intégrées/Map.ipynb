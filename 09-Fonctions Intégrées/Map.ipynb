{
 "cells": [
  {
   "cell_type": "markdown",
   "metadata": {},
   "source": [
    "# map()\n",
    "\n",
    "map() est une fonction qui prend deux arguments: une fonction et une séquence itérables. Sous la forme:\n",
    "     map(fonction, séquence)\n",
    "    \n",
    "Le premier argument est le nom d'une fonction et le second une séquence (par exemple une liste). La fonction map() applique la fonction passée en entrée à tous les éléments de la séquence. Elle renvoie une nouvelle liste contenant les éléments modifiés par la fonction.\n",
    "\n",
    "Quand nous avons vu la compréhension de la liste, nous avons créé une petite expression pour convertir Fahrenheit en Celsius. Nous pouvons refaire la même chose avec map().\n",
    "\n",
    "Nous allons commencer par deux fonctions:"
   ]
  },
  {
   "cell_type": "code",
   "execution_count": 30,
   "metadata": {
    "collapsed": true
   },
   "outputs": [],
   "source": [
    "def fahrenheit(T):\n",
    "    return ((float(9)/5)*T + 32)\n",
    "def celsius(T):\n",
    "    return (float(5)/9)*(T-32)"
   ]
  },
  {
   "cell_type": "markdown",
   "metadata": {},
   "source": [
    "Voyons map() en action:"
   ]
  },
  {
   "cell_type": "code",
   "execution_count": 36,
   "metadata": {
    "collapsed": false
   },
   "outputs": [
    {
     "data": {
      "text/plain": [
       "[32.0, 72.5, 104.0, 212.0]"
      ]
     },
     "execution_count": 36,
     "metadata": {},
     "output_type": "execute_result"
    }
   ],
   "source": [
    "température = [0, 22.5, 40,100]\n",
    "\n",
    "F_temps = list(map(fahrenheit, température))\n",
    "\n",
    "# Affichage\n",
    "F_temps"
   ]
  },
  {
   "cell_type": "code",
   "execution_count": 38,
   "metadata": {
    "collapsed": false
   },
   "outputs": [
    {
     "data": {
      "text/plain": [
       "[0.0, 22.5, 40.0, 100.0]"
      ]
     },
     "execution_count": 38,
     "metadata": {},
     "output_type": "execute_result"
    }
   ],
   "source": [
    "# Conversion inverse\n",
    "\n",
    "list(map(celsius, F_temps))"
   ]
  },
  {
   "cell_type": "markdown",
   "metadata": {},
   "source": [
    "Dans l'exemple ci-dessus, nous n'avons pas utilisé d'expression lambda. En utilisant une expression lambda, nous n'aurions pas eu à définir les fonctions fahrenheit() et celsius()."
   ]
  },
  {
   "cell_type": "code",
   "execution_count": 40,
   "metadata": {
    "collapsed": false
   },
   "outputs": [
    {
     "data": {
      "text/plain": [
       "[0.0, 22.5, 40.0, 100.0]"
      ]
     },
     "execution_count": 40,
     "metadata": {},
     "output_type": "execute_result"
    }
   ],
   "source": [
    "list(map(lambda x: (5.0/9)*(x - 32), F_temps))"
   ]
  },
  {
   "cell_type": "markdown",
   "metadata": {},
   "source": [
    "Bravo ! Nous avons obtenu le même résultat ! \n",
    "map() est très couramment utilisée avec des expressions lambda car le but final de map() est d'économiser les efforts pour écrire du code et cela permet d'éviter de créer des boucles."
   ]
  },
  {
   "cell_type": "markdown",
   "metadata": {},
   "source": [
    "map() peut être appliqué à plusieurs objets iterable mais qui doivent avoir la même longueur.\n",
    "\n",
    "\n",
    "Par exemple, si nous travaillons avec deux listes, map() appliquera la fonction lambda aux éléments de la liste d'arguments, c'est-à-dire qu'elle s'appliquera d'abord aux éléments avec l'indice 0, puis aux éléments avec le 1er indice et ainsi de suite jusqu'à ce que n-ième indice soit atteint.\n",
    "\n",
    "Par exemple, voyons comment utiliser map() avec une expression lambda à deux listes:"
   ]
  },
  {
   "cell_type": "code",
   "execution_count": 42,
   "metadata": {
    "collapsed": false
   },
   "outputs": [
    {
     "data": {
      "text/plain": [
       "[6, 8, 10, 12]"
      ]
     },
     "execution_count": 42,
     "metadata": {},
     "output_type": "execute_result"
    }
   ],
   "source": [
    "a = [1,2,3,4]\n",
    "b = [5,6,7,8]\n",
    "c = [9,10,11,12]\n",
    "\n",
    "list(map(lambda x,y:x+y,a,b))"
   ]
  },
  {
   "cell_type": "code",
   "execution_count": 13,
   "metadata": {
    "collapsed": false
   },
   "outputs": [
    {
     "data": {
      "text/plain": [
       "[15, 18, 21, 24]"
      ]
     },
     "execution_count": 13,
     "metadata": {},
     "output_type": "execute_result"
    }
   ],
   "source": [
    "# Maintenant avec trois listes\n",
    "list(map(lambda x,y,z:x+y+z, a,b,c)"
   ]
  },
  {
   "cell_type": "markdown",
   "metadata": {},
   "source": [
    "Nous pouvons voir dans l'exemple ci-dessus que le paramètre x obtient ses valeurs de la liste a, alors que y obtient ses valeurs de b et z de la liste c. Vous pouvez maintenant développer votre propre exemple pour vous assurer de bien comprendre comment utiliser map() avec plus d'un b-objet itérable.\n",
    "\n",
    "Bravo ! Vous devez maintenant avoir une connaissance de base de la fonction map()."
   ]
  }
 ],
 "metadata": {
  "anaconda-cloud": {},
  "kernelspec": {
   "display_name": "Python 3",
   "language": "python",
   "name": "python3"
  },
  "language_info": {
   "codemirror_mode": {
    "name": "ipython",
    "version": 3
   },
   "file_extension": ".py",
   "mimetype": "text/x-python",
   "name": "python",
   "nbconvert_exporter": "python",
   "pygments_lexer": "ipython3",
   "version": "3.6.0"
  }
 },
 "nbformat": 4,
 "nbformat_minor": 0
}
