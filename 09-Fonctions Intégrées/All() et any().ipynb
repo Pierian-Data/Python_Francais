{
 "cells": [
  {
   "cell_type": "markdown",
   "metadata": {},
   "source": [
    "# all() et any()"
   ]
  },
  {
   "cell_type": "markdown",
   "metadata": {},
   "source": [
    "all() et any() sont des fonctions intégrées de Python qui  permettent de vérifier facilement l'état de booléen dans un objet itérable. All() renverra True si tous les éléments de l'objet iterable sont True. Elle est équivalente au code de cette fonction:\n",
    "\n",
    "    def all(iterable):\n",
    "        for element in iterable:\n",
    "            if not element:\n",
    "                return False\n",
    "        return True\n",
    "        \n",
    "any() renvoie True si au moins un des élements de l'objet iterable est True. Elle est équivalente au code de cette fonction:\n",
    "\n",
    "    def any(iterable):\n",
    "        for element in iterable:\n",
    "            if element:\n",
    "                return True\n",
    "        return False\n",
    "        "
   ]
  },
  {
   "cell_type": "markdown",
   "metadata": {},
   "source": [
    "Voyons quelques exemples de ces fonctions. Ils son assez simples:"
   ]
  },
  {
   "cell_type": "code",
   "execution_count": 4,
   "metadata": {
    "collapsed": true
   },
   "outputs": [],
   "source": [
    "lst = [True,True,False,True]"
   ]
  },
  {
   "cell_type": "code",
   "execution_count": 5,
   "metadata": {
    "collapsed": false
   },
   "outputs": [
    {
     "data": {
      "text/plain": [
       "False"
      ]
     },
     "execution_count": 5,
     "metadata": {},
     "output_type": "execute_result"
    }
   ],
   "source": [
    "all(lst)"
   ]
  },
  {
   "cell_type": "markdown",
   "metadata": {},
   "source": [
    "Renvoie False parce qu'un élément n'est pas True."
   ]
  },
  {
   "cell_type": "code",
   "execution_count": 6,
   "metadata": {
    "collapsed": false
   },
   "outputs": [
    {
     "data": {
      "text/plain": [
       "True"
      ]
     },
     "execution_count": 6,
     "metadata": {},
     "output_type": "execute_result"
    }
   ],
   "source": [
    "any(lst)"
   ]
  },
  {
   "cell_type": "markdown",
   "metadata": {},
   "source": [
    "Renvoie True parce qu'au moins un des éléments est True"
   ]
  },
  {
   "cell_type": "markdown",
   "metadata": {},
   "source": [
    "C'est fait, vous devez maintenant être capable d'utiliser any() et all() dans votre code."
   ]
  }
 ],
 "metadata": {
  "anaconda-cloud": {},
  "kernelspec": {
   "display_name": "Python 3",
   "language": "python",
   "name": "python3"
  },
  "language_info": {
   "codemirror_mode": {
    "name": "ipython",
    "version": 3
   },
   "file_extension": ".py",
   "mimetype": "text/x-python",
   "name": "python",
   "nbconvert_exporter": "python",
   "pygments_lexer": "ipython3",
   "version": "3.6.0"
  }
 },
 "nbformat": 4,
 "nbformat_minor": 0
}
