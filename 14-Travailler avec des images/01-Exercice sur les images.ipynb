{
 "cells": [
  {
   "cell_type": "markdown",
   "metadata": {},
   "source": [
    "___\n",
    "<table style=\" background-color: white; padding: 0;\"><tr>\n",
    "    <td><a href='https://www.udemy.com/user/marcaugier/'><img src='../logo_XDM.png'></a></td>\n",
    "    <td><a href='https://www.udemy.com/user/joseportilla/'><img src='../Pierian_Data_Logo.png'></a></td>\n",
    "</tr></table>\n",
    "<hr>\n",
    "    \n",
    "<center><em>Content Copyright by Pierian Data and xDM Consulting</em></center>"
   ]
  },
  {
   "cell_type": "markdown",
   "metadata": {},
   "source": [
    "# Exercice avec des Images\n",
    "\n",
    "Dans le dossier courant \"14-Travailler avec des images\" vous trouverez 2 images pour réaliser cet exercice :\n",
    "\n",
    "* matrice_de_mots.png\n",
    "* masque.png\n",
    "\n",
    "L'image png \"matrice_de_mots\" contient un tableau de mots qui cache un message secret.\n",
    "\n",
    "Votre tâche sera d'utiliser l'image \"masque.png\" pour révéler le message secret caché dans \"matrice_de_mots.png\". N'oubliez pas, vous pourriez avoir des modifications à faire sur \"masque.png\" pour que cela fonctionne.\n",
    "\n",
    "C'est tout ce que je vous dit, pour vous laisser chercher et trouver par vos propres moyens. C'est un exercice totalement ouvert, vous devrez donc vous débrouiller seuls comme dans une situation réelle. Mais pas d'inquiétude, si vous êtes vraiment totalement bloqués, vous pourrez toujours consulter la solution pas à pas en vidéo ou le notebook qui la contient pour voir comment faire.\n",
    "\n",
    "Bonne chance !\n"
   ]
  }
 ],
 "metadata": {
  "kernelspec": {
   "display_name": "Python 3",
   "language": "python",
   "name": "python3"
  },
  "language_info": {
   "codemirror_mode": {
    "name": "ipython",
    "version": 3
   },
   "file_extension": ".py",
   "mimetype": "text/x-python",
   "name": "python",
   "nbconvert_exporter": "python",
   "pygments_lexer": "ipython3",
   "version": "3.8.3"
  }
 },
 "nbformat": 4,
 "nbformat_minor": 2
}
