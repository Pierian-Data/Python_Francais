{
 "cells": [
  {
   "cell_type": "markdown",
   "metadata": {},
   "source": [
    "# Modules et Paquets (Packages)\n",
    "\n",
    "Vous ne trouverez pas de code dans cette leçon parce que cela n'a pas vraiment de sens. Consultez les vidéos de cours pour plus d'informations et les ressources en ligne.\n",
    "\n",
    "La meilleure ressource est la documentation officielle (en anglais):\n",
    "https://docs.python.org/3.7/tutorial/modules.html#packages\n",
    "\n",
    "Voici quelques informations supplémentaires pour vous aider :"
   ]
  },
  {
   "cell_type": "markdown",
   "metadata": {},
   "source": [
    "Les modules en Python sont tout simplement des fichiers Python avec l'extension .py, qui implémentent un ensemble de fonctions déterminées. Pour importer un module, il suffit d'utiliser la commande import dans votre code.\n",
    "\n",
    "La première fois qu'un module est chargé dans un script Python en cours d'exécution, il est initialisé en exécutant le code dans le module une première fois. Si un autre module dans votre code importe à nouveau le même module, il ne sera pas chargé deux fois, mais une seule fois - de sorte que les variables locales à l'intérieur du module agissent comme un «singleton» - elles ne sont initialisées qu'une seule fois.\n",
    "\n",
    "Si nous voulons importer le module math, nous utilisons la commande suivante :"
   ]
  },
  {
   "cell_type": "code",
   "execution_count": 2,
   "metadata": {
    "collapsed": true
   },
   "outputs": [],
   "source": [
    "# importer la bibliothèque\n",
    "import math"
   ]
  },
  {
   "cell_type": "code",
   "execution_count": 3,
   "metadata": {
    "collapsed": false
   },
   "outputs": [
    {
     "data": {
      "text/plain": [
       "3"
      ]
     },
     "execution_count": 3,
     "metadata": {},
     "output_type": "execute_result"
    }
   ],
   "source": [
    "# utiliser la bibliothèque (arrondi à l'entier directement supérieur à la valeur donnée)\n",
    "math.ceil(2.4)"
   ]
  },
  {
   "cell_type": "code",
   "execution_count": 4,
   "metadata": {
    "collapsed": false
   },
   "outputs": [
    {
     "data": {
      "text/plain": [
       "1.4142135623730951"
      ]
     },
     "execution_count": 4,
     "metadata": {},
     "output_type": "execute_result"
    }
   ],
   "source": [
    "math.sqrt(2)"
   ]
  },
  {
   "cell_type": "code",
   "execution_count": 5,
   "metadata": {
    "collapsed": false
   },
   "outputs": [
    {
     "data": {
      "text/plain": [
       "1.7320508075688772"
      ]
     },
     "execution_count": 5,
     "metadata": {},
     "output_type": "execute_result"
    }
   ],
   "source": [
    "from math import sqrt\n",
    "sqrt(3)"
   ]
  },
  {
   "cell_type": "markdown",
   "metadata": {},
   "source": [
    "## Explorons les modules intégrés\n",
    "Deux fonctions très importantes sont très utiles pour explorer les modules en Python: les fonctions dir et help.\n",
    "\n",
    "Nous pouvons rechercher quelles fonctions sont implémentées dans chaque module en utilisant la fonction dir:"
   ]
  },
  {
   "cell_type": "code",
   "execution_count": 4,
   "metadata": {
    "collapsed": false
   },
   "outputs": [
    {
     "name": "stdout",
     "output_type": "stream",
     "text": [
      "['__doc__', '__file__', '__loader__', '__name__', '__package__', '__spec__', 'acos', 'acosh', 'asin', 'asinh', 'atan', 'atan2', 'atanh', 'ceil', 'copysign', 'cos', 'cosh', 'degrees', 'e', 'erf', 'erfc', 'exp', 'expm1', 'fabs', 'factorial', 'floor', 'fmod', 'frexp', 'fsum', 'gamma', 'gcd', 'hypot', 'inf', 'isclose', 'isfinite', 'isinf', 'isnan', 'ldexp', 'lgamma', 'log', 'log10', 'log1p', 'log2', 'modf', 'nan', 'pi', 'pow', 'radians', 'sin', 'sinh', 'sqrt', 'tan', 'tanh', 'trunc']\n"
     ]
    }
   ],
   "source": [
    "print(dir(math))"
   ]
  },
  {
   "cell_type": "markdown",
   "metadata": {},
   "source": [
    "Lorsque nous trouvons une fonction que nous voulons utiliser dans un module, nous pouvons en apprendre plus à son sujet avec la fonction aide de l'interpréteur Python:"
   ]
  },
  {
   "cell_type": "code",
   "execution_count": 5,
   "metadata": {
    "collapsed": false
   },
   "outputs": [
    {
     "name": "stdout",
     "output_type": "stream",
     "text": [
      "Help on built-in function ceil in module math:\n",
      "\n",
      "ceil(...)\n",
      "    ceil(x)\n",
      "    \n",
      "    Return the ceiling of x as an Integral.\n",
      "    This is the smallest integer >= x.\n",
      "\n"
     ]
    }
   ],
   "source": [
    "help(math.ceil)"
   ]
  },
  {
   "cell_type": "markdown",
   "metadata": {},
   "source": [
    "## Développer ses propres modules\n",
    "Ecrire des modules Python est très simple. Pour créer un module, créez simplement un nouveau fichier .py avec le nom du module, puis importez-le à l'aide du nom de fichier Python (sans l'extension .py) à l'aide de la commande import.\n",
    "\n",
    "## Rédaction de paquets (packages)\n",
    "Les packages sont des espaces de noms qui contiennent eux-mêmes plusieurs packages et modules. Ce ne sont en fait que des répertoires, mais avec un petit quelque chose en plus.\n",
    "\n",
    "Chaque paquet en Python est un répertoire qui DOIT contenir un fichier spécial appelé **\\__init\\__.Py**. Ce fichier peut être vide mais il indique que ce répertoire est en fait un paquet Python, il peut donc être importé de la même façon qu'un module peut l'être.\n",
    "\n",
    "Si nous créons un répertoire nommé toto, qui sera donc le nom du paquet, nous pouvons créer un module dans ce paquet appelé bar. Nous ne devons pas oublier d'ajouter le fichier **\\__init\\__.Py** dans le répertoire toto.\n",
    "\n",
    "Pour utiliser le module bar, nous pouvons l'importer de deux façons:"
   ]
  },
  {
   "cell_type": "code",
   "execution_count": null,
   "metadata": {
    "collapsed": true
   },
   "outputs": [],
   "source": [
    "# Juste un exemple, cela ne fonctionne pas\n",
    "import toto.bar"
   ]
  },
  {
   "cell_type": "code",
   "execution_count": null,
   "metadata": {
    "collapsed": false
   },
   "outputs": [],
   "source": [
    "# OU on peut faire ainsi\n",
    "from toto import bar"
   ]
  },
  {
   "cell_type": "markdown",
   "metadata": {},
   "source": [
    "Dans la première méthode, nous devons utiliser le préfixe foo chaque fois que nous accédons au module bar. Dans la deuxième méthode, nous ne le faisons pas, parce que nous importons ce module dans l'espace de nom de notre module.\n",
    "\n",
    "Le fichier **\\__init\\__.py** peut également déterminer quels sont les modules qui seront exportés comme API par le package, tout en conservant les autres modules internes. Il suffit pour cela de placer une variable **\\__all\\__**, comme ceci:"
   ]
  },
  {
   "cell_type": "code",
   "execution_count": 2,
   "metadata": {
    "collapsed": false
   },
   "outputs": [
    {
     "ename": "SyntaxError",
     "evalue": "invalid syntax (<ipython-input-2-3e69e3fa15f3>, line 1)",
     "output_type": "error",
     "traceback": [
      "\u001b[0;36m  File \u001b[0;32m\"<ipython-input-2-3e69e3fa15f3>\"\u001b[0;36m, line \u001b[0;32m1\u001b[0m\n\u001b[0;31m    __init__.py:\u001b[0m\n\u001b[0m                ^\u001b[0m\n\u001b[0;31mSyntaxError\u001b[0m\u001b[0;31m:\u001b[0m invalid syntax\n"
     ]
    }
   ],
   "source": [
    "__init__.py:\n",
    "\n",
    "__all__ = [\"bar\"]"
   ]
  },
  {
   "cell_type": "code",
   "execution_count": null,
   "metadata": {
    "collapsed": true
   },
   "outputs": [],
   "source": []
  }
 ],
 "metadata": {
  "anaconda-cloud": {},
  "kernelspec": {
   "display_name": "Python 3",
   "language": "python",
   "name": "python3"
  },
  "language_info": {
   "codemirror_mode": {
    "name": "ipython",
    "version": 3
   },
   "file_extension": ".py",
   "mimetype": "text/x-python",
   "name": "python",
   "nbconvert_exporter": "python",
   "pygments_lexer": "ipython3",
   "version": "3.6.0"
  }
 },
 "nbformat": 4,
 "nbformat_minor": 0
}
