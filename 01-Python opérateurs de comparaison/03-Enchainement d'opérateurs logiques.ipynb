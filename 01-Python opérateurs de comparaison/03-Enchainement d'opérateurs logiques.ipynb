{
 "cells": [
  {
   "cell_type": "markdown",
   "metadata": {},
   "source": [
    "# Enchainement d'opérateurs logiques\n",
    "\n",
    "Une fonctionnalité intéressante de Python est la faculté de *chainer* des comparateurs logiques pour réaliser un test complexe. Vous pouvez utiliser ces comparateur chainés comme un racourci pour des expressions booléennes plus complexes.\n",
    "\n",
    "Dans ce cours nous allons apprendre comment chainer les tests logiques et nous allons également voir deux opérateurs indispensables \"et\" **and** et \"ou\" **or**.\n",
    "\n",
    "Voyons quelques exemples :"
   ]
  },
  {
   "cell_type": "code",
   "execution_count": 1,
   "metadata": {},
   "outputs": [
    {
     "data": {
      "text/plain": [
       "True"
      ]
     },
     "execution_count": 1,
     "metadata": {},
     "output_type": "execute_result"
    }
   ],
   "source": [
    "1 < 2 < 3"
   ]
  },
  {
   "cell_type": "markdown",
   "metadata": {},
   "source": [
    "La ligne de code précédente vérifie si 1 est inférieur à 2 **ET** si 2 est inférieur à 3. On aurait également pu l'écrire avec une instruction **and** en Python :"
   ]
  },
  {
   "cell_type": "code",
   "execution_count": 2,
   "metadata": {},
   "outputs": [
    {
     "data": {
      "text/plain": [
       "True"
      ]
     },
     "execution_count": 2,
     "metadata": {},
     "output_type": "execute_result"
    }
   ],
   "source": [
    "1<2 and 2<3"
   ]
  },
  {
   "cell_type": "markdown",
   "metadata": {},
   "source": [
    "Le **and** est utilisé pour s'assurer que les deux test logiques sont vrais de sorte que le test complet sera vrai.\n",
    "Voyons un autre exemple :"
   ]
  },
  {
   "cell_type": "code",
   "execution_count": 3,
   "metadata": {},
   "outputs": [
    {
     "data": {
      "text/plain": [
       "True"
      ]
     },
     "execution_count": 3,
     "metadata": {},
     "output_type": "execute_result"
    }
   ],
   "source": [
    "1 < 3 > 2"
   ]
  },
  {
   "cell_type": "markdown",
   "metadata": {},
   "source": [
    "Ces tests vérifient que 3 est plus grand que les deux autres nombres, on peut donc utiliser **and** pour l'écrire aussi de cette manière :"
   ]
  },
  {
   "cell_type": "code",
   "execution_count": 4,
   "metadata": {},
   "outputs": [
    {
     "data": {
      "text/plain": [
       "True"
      ]
     },
     "execution_count": 4,
     "metadata": {},
     "output_type": "execute_result"
    }
   ],
   "source": [
    "1<3 and 3>2"
   ]
  },
  {
   "cell_type": "markdown",
   "metadata": {},
   "source": [
    "Il est important de noter que Python vérifie les deux instances de comparaisons. On peut aussi utiliser **or** pour écrire des tests en Python.\n",
    "Par exemple :"
   ]
  },
  {
   "cell_type": "code",
   "execution_count": 5,
   "metadata": {},
   "outputs": [
    {
     "data": {
      "text/plain": [
       "True"
      ]
     },
     "execution_count": 5,
     "metadata": {},
     "output_type": "execute_result"
    }
   ],
   "source": [
    "1==2 or 2<3"
   ]
  },
  {
   "cell_type": "markdown",
   "metadata": {},
   "source": [
    "Remarquez que le résultat est vrai, parce qu'avec l'opérateur **or**, nous avons besoin que l'un **ou** l'autre des tests soit vrai.\n",
    "Regardons un autre exemple pour bien assimiler :"
   ]
  },
  {
   "cell_type": "code",
   "execution_count": 6,
   "metadata": {},
   "outputs": [
    {
     "data": {
      "text/plain": [
       "True"
      ]
     },
     "execution_count": 6,
     "metadata": {},
     "output_type": "execute_result"
    }
   ],
   "source": [
    "1==1 or 100==1"
   ]
  },
  {
   "cell_type": "markdown",
   "metadata": {},
   "source": [
    "Bravo !\n",
    "Vous devez maintenant avoir bien compris comment utiliser les opérateurs **and** et **or** ainsi qu'être capable de lire du code de tests de comparaison chainés.\n",
    "\n",
    "Il ne vous reste plus qu'à faire le test de cette section pour valider votre apprentissage !"
   ]
  }
 ],
 "metadata": {
  "anaconda-cloud": {},
  "kernelspec": {
   "display_name": "Python 3",
   "language": "python",
   "name": "python3"
  },
  "language_info": {
   "codemirror_mode": {
    "name": "ipython",
    "version": 3
   },
   "file_extension": ".py",
   "mimetype": "text/x-python",
   "name": "python",
   "nbconvert_exporter": "python",
   "pygments_lexer": "ipython3",
   "version": "3.6.8"
  }
 },
 "nbformat": 4,
 "nbformat_minor": 1
}
