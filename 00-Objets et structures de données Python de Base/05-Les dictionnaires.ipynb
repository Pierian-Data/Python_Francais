{
 "cells": [
  {
   "cell_type": "markdown",
   "metadata": {},
   "source": [
    "___\n",
    "\n",
    "<a href='https://www.udemy.com/user/marcaugier/'><img src='../logo_XDM.png'></a>\n",
    "<a href='https://www.udemy.com/user/joseportilla/'><img src='../Pierian_Data_Logo.png'></a>\n",
    "___\n",
    "<center><em>Content Copyright by Pierian Data and xDM Consulting</em></center>"
   ]
  },
  {
   "cell_type": "markdown",
   "metadata": {},
   "source": [
    "# Les dictionnaires\n",
    "\n",
    "Nous avons d'abord vu l'importance du concept de *séquence* dans Python, avec les listes par exemple, mais maintenant nous allons changer notre fusil d'épaule et voir les *tables de correspondance*. Si vous connaissez d'autres langages de programmation, vous pouvez imaginer ces dictionnaires comme des tables de hachage (hash table, pour les anglophones).\n",
    "\n",
    "Cette section est une rapide introduction aux dictionnaires qui consiste à :\n",
    "\n",
    "    1.) Créer un dictionnaire\n",
    "    2.) Accéder aux éléments d'un dictionnaire\n",
    "    3.) Imbriquer des dictionnaires\n",
    "    4.) Les méthodes de base pour utiliser un dictionnaire\n",
    "\n",
    "Donc, que sont ces tables de correspondance ? Ce sont des collections d'objets qui sont enregistrés avec une *clef*, plutôt qu'en séquence suivant leur position relative les uns aux autres. C'est une distinction importante, puisque la table de correspondance ne conserve pas l'ordre d'arrivée, ses objets étant définis par rapport à leurs clefs.\n",
    "\n",
    "Un dictionnaire Python est constitué d'une clef et de sa valeur associée. Cette valeur peut être pratiquement n'importe quel objet Python.\n",
    "\n",
    "## Création d'un dictionnaire\n",
    "Voyons comment se passe la création d'un dictionnaire pour avoir une meilleure compréhension de la manière dont ils fonctionnent !"
   ]
  },
  {
   "cell_type": "code",
   "execution_count": 1,
   "metadata": {
    "collapsed": true
   },
   "outputs": [],
   "source": [
    "# Création d'un dictionnaire avec {} et : pour spécifier la clef et sa valeur\n",
    "mon_dict = {'clef1':'valeur1','clef2':'valeur2'}"
   ]
  },
  {
   "cell_type": "code",
   "execution_count": 2,
   "metadata": {},
   "outputs": [
    {
     "data": {
      "text/plain": [
       "'valeur2'"
      ]
     },
     "execution_count": 2,
     "metadata": {},
     "output_type": "execute_result"
    }
   ],
   "source": [
    "# Retrouver une valeur avec sa clef\n",
    "mon_dict['clef2']"
   ]
  },
  {
   "cell_type": "markdown",
   "metadata": {},
   "source": [
    "Il est important de noter que les dictionnaires sont très flexibles quand au type des données qu'ils peuvent contenir. Par exemple :"
   ]
  },
  {
   "cell_type": "code",
   "execution_count": 3,
   "metadata": {
    "collapsed": true
   },
   "outputs": [],
   "source": [
    "mon_dict = {'clef1':123,'clef2':[12,23,33],'clef3':['item0','item1','item2']}"
   ]
  },
  {
   "cell_type": "code",
   "execution_count": 4,
   "metadata": {},
   "outputs": [
    {
     "data": {
      "text/plain": [
       "['item0', 'item1', 'item2']"
      ]
     },
     "execution_count": 4,
     "metadata": {},
     "output_type": "execute_result"
    }
   ],
   "source": [
    "# Retrouvons des valeurs du dictionnaire\n",
    "mon_dict['clef3']"
   ]
  },
  {
   "cell_type": "code",
   "execution_count": 5,
   "metadata": {},
   "outputs": [
    {
     "data": {
      "text/plain": [
       "'item0'"
      ]
     },
     "execution_count": 5,
     "metadata": {},
     "output_type": "execute_result"
    }
   ],
   "source": [
    "# Il est possible d'utiliser un index pour cette valeur\n",
    "mon_dict['clef3'][0]"
   ]
  },
  {
   "cell_type": "code",
   "execution_count": 6,
   "metadata": {},
   "outputs": [
    {
     "data": {
      "text/plain": [
       "'ITEM0'"
      ]
     },
     "execution_count": 6,
     "metadata": {},
     "output_type": "execute_result"
    }
   ],
   "source": [
    "# Il est également possible d'appeler une méthode sur cette valeur\n",
    "mon_dict['clef3'][0].upper()"
   ]
  },
  {
   "cell_type": "markdown",
   "metadata": {},
   "source": [
    "On peut aussi manipuler ces valeurs, par exemple :"
   ]
  },
  {
   "cell_type": "code",
   "execution_count": 7,
   "metadata": {},
   "outputs": [
    {
     "data": {
      "text/plain": [
       "123"
      ]
     },
     "execution_count": 7,
     "metadata": {},
     "output_type": "execute_result"
    }
   ],
   "source": [
    "mon_dict['clef1']"
   ]
  },
  {
   "cell_type": "code",
   "execution_count": 8,
   "metadata": {},
   "outputs": [],
   "source": [
    "# Soustraire 123 de la valeur\n",
    "mon_dict['clef1'] = mon_dict['clef1'] - 123"
   ]
  },
  {
   "cell_type": "code",
   "execution_count": 9,
   "metadata": {},
   "outputs": [
    {
     "data": {
      "text/plain": [
       "0"
      ]
     },
     "execution_count": 9,
     "metadata": {},
     "output_type": "execute_result"
    }
   ],
   "source": [
    "# Vérification\n",
    "mon_dict['clef1']"
   ]
  },
  {
   "cell_type": "markdown",
   "metadata": {},
   "source": [
    "Une note rapide en passant, Python a des méthodes intégrées pour faire une \"auto\" soustraction ou addition (ou multiplication ou division), c'est-à-dire une opération qui s'applique sur la valeur en jeu.\n",
    "On pourrait utiliser += ou -= pour la déclaration précédente.\n",
    "Par exemple :"
   ]
  },
  {
   "cell_type": "code",
   "execution_count": 10,
   "metadata": {},
   "outputs": [
    {
     "data": {
      "text/plain": [
       "-123"
      ]
     },
     "execution_count": 10,
     "metadata": {},
     "output_type": "execute_result"
    }
   ],
   "source": [
    "# Réassigner une valeur du dictionnaire à elle même moins 123 \n",
    "mon_dict['clef1'] -= 123\n",
    "mon_dict['clef1']"
   ]
  },
  {
   "cell_type": "markdown",
   "metadata": {},
   "source": [
    "Il est également possible de créer une clef au moment de l'assignation. Par exmple, si on démarre avec un dictionnaire vide, on peut ensuite ajouter les valeurs de la manière suivante :"
   ]
  },
  {
   "cell_type": "code",
   "execution_count": 11,
   "metadata": {
    "collapsed": true
   },
   "outputs": [],
   "source": [
    "# Crée un nouveau dictionnaire vide\n",
    "d = {}"
   ]
  },
  {
   "cell_type": "code",
   "execution_count": 12,
   "metadata": {},
   "outputs": [],
   "source": [
    "# Crée une nouvelle clef par assignation\n",
    "d['animal'] = 'Chien'"
   ]
  },
  {
   "cell_type": "code",
   "execution_count": 13,
   "metadata": {
    "collapsed": true
   },
   "outputs": [],
   "source": [
    "# On peut faire cela avec n'importe quel objet\n",
    "d['réponse'] = 42"
   ]
  },
  {
   "cell_type": "code",
   "execution_count": 14,
   "metadata": {},
   "outputs": [
    {
     "data": {
      "text/plain": [
       "{'animal': 'Chien', 'réponse': 42}"
      ]
     },
     "execution_count": 14,
     "metadata": {},
     "output_type": "execute_result"
    }
   ],
   "source": [
    "# Visualiser le dictionnaire\n",
    "d"
   ]
  },
  {
   "cell_type": "markdown",
   "metadata": {},
   "source": [
    "## Dictionnaires imbriqués\n",
    "\n",
    "Vous avez dû commencer à comprendre combien Python est puissant par sa flexibilité et sa capacité à imbriquer des objets et leur appliquer des méthodes. Voyons comment on peut imbirquer un dictionnaire dans un autre dictionnaire :"
   ]
  },
  {
   "cell_type": "code",
   "execution_count": 15,
   "metadata": {
    "collapsed": true
   },
   "outputs": [],
   "source": [
    "# Dictionnaire imbriqué dans un dictinnaire imbriqué dans un dictinnaire \n",
    "d = {'clef1':{'sousclef':{'sousousclef':'valeur'}}}"
   ]
  },
  {
   "cell_type": "markdown",
   "metadata": {},
   "source": [
    "Bravo ! C'est une belle combinaison de dictionnaires, voyons comment accéder à la valeur :"
   ]
  },
  {
   "cell_type": "code",
   "execution_count": 16,
   "metadata": {},
   "outputs": [
    {
     "data": {
      "text/plain": [
       "'valeur'"
      ]
     },
     "execution_count": 16,
     "metadata": {},
     "output_type": "execute_result"
    }
   ],
   "source": [
    "# Il faut mettre les clef dans le bon ordre\n",
    "d['clef1']['sousclef']['sousousclef']"
   ]
  },
  {
   "cell_type": "markdown",
   "metadata": {},
   "source": [
    "## Quelques méthodes d'acces aux dictionnaires\n",
    "\n",
    "Il y a quelques méthodes qui peuvent s'appliquer à un dictionnaire.\n",
    "Voici une introduction rapide à un petit nombre d'entre elles :"
   ]
  },
  {
   "cell_type": "code",
   "execution_count": 17,
   "metadata": {
    "collapsed": true
   },
   "outputs": [],
   "source": [
    "# Créer un dictionnaire\n",
    "d = {'clef1':1,'clef2':2,'clef3':3}"
   ]
  },
  {
   "cell_type": "code",
   "execution_count": 19,
   "metadata": {},
   "outputs": [
    {
     "data": {
      "text/plain": [
       "dict_keys(['clef3', 'clef2', 'clef1'])"
      ]
     },
     "execution_count": 19,
     "metadata": {},
     "output_type": "execute_result"
    }
   ],
   "source": [
    "# Méthode qui renvoie la liste des clefs\n",
    "d.keys()"
   ]
  },
  {
   "cell_type": "code",
   "execution_count": 20,
   "metadata": {},
   "outputs": [
    {
     "data": {
      "text/plain": [
       "dict_values([3, 2, 1])"
      ]
     },
     "execution_count": 20,
     "metadata": {},
     "output_type": "execute_result"
    }
   ],
   "source": [
    "# Méthode qui extrait toutes les valeurs\n",
    "d.values()"
   ]
  },
  {
   "cell_type": "code",
   "execution_count": 21,
   "metadata": {},
   "outputs": [
    {
     "data": {
      "text/plain": [
       "dict_items([('clef3', 3), ('clef2', 2), ('clef1', 1)])"
      ]
     },
     "execution_count": 21,
     "metadata": {},
     "output_type": "execute_result"
    }
   ],
   "source": [
    "# Méthode qui renvoie un Tuple pour chaque item (Nous verrons les Tuples très prochainement)\n",
    "d.items()"
   ]
  },
  {
   "cell_type": "markdown",
   "metadata": {},
   "source": [
    "Vous devriez maintenant avoir une bonne compréhension des bases de la création de dictionnaires. Il y a beaucoup d'autres choses faisables avec les dictionnaires, que nous verrons par la suite. Pour l'instant tout ce que vous avez besoin de savoir est comment créer un dictinnaire et extraire des valeurs de celui-ci."
   ]
  }
 ],
 "metadata": {
  "anaconda-cloud": {},
  "kernelspec": {
   "display_name": "Python 3",
   "language": "python",
   "name": "python3"
  },
  "language_info": {
   "codemirror_mode": {
    "name": "ipython",
    "version": 3
   },
   "file_extension": ".py",
   "mimetype": "text/x-python",
   "name": "python",
   "nbconvert_exporter": "python",
   "pygments_lexer": "ipython3",
   "version": "3.7.7"
  }
 },
 "nbformat": 4,
 "nbformat_minor": 1
}
