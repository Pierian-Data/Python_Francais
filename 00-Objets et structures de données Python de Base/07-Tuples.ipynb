{
 "cells": [
  {
   "cell_type": "markdown",
   "metadata": {},
   "source": [
    "___\n",
    "\n",
    "<a href='https://www.udemy.com/user/marcaugier/'><img src='../logo_XDM.png'></a>\n",
    "<a href='https://www.udemy.com/user/joseportilla/'><img src='../Pierian_Data_Logo.png'></a>\n",
    "___\n",
    "<center><em>Content Copyright by Pierian Data and xDM Consulting</em></center>"
   ]
  },
  {
   "cell_type": "markdown",
   "metadata": {},
   "source": [
    "# Les tuples\n",
    "\n",
    "Les tuples (que l'on peut trouver traduits en français par le terme n-uples) dans Python sont très similaires à des listes. Toutefois, contrairement aux listes ces objets sont *immuables*  ce qui veut dire tout simplement qu'ils ne sont pas modifiables. Ils sont utilisés pour présenter des valeurs qui ne doivent pas évoluer, comme les jours de la semaine, des dates dans un calendrier.\n",
    "\n",
    "Dans cette section, vou aurez un aperçu rapide des points suivants :\n",
    "\n",
    "    1.) Créer un Tuple\n",
    "    2.) Les méthodes de base de manipulation des Tuples\n",
    "    3.) Immuabilité\n",
    "    4.) Quand utiliser des Tuples\n",
    "    \n",
    "Vous pouvez déjà imaginer comment utiliser les Tuples en vous basant sur ce que vous avez appris à propos des listes. Vous pouvez les traiter de façon identique, avec la seule différence qui est de ne pas pouvoir les modifier. \n",
    "\n",
    "## Créer des Tuples\n",
    "\n",
    "Pour créer un Tuple il suffit d'utiliser des () en séparant les éléments par des virgules. Par exemple :"
   ]
  },
  {
   "cell_type": "code",
   "execution_count": 2,
   "metadata": {
    "collapsed": true
   },
   "outputs": [],
   "source": [
    "# Il est possible de créer un Tuple avec différents types\n",
    "t = (1,2,3)"
   ]
  },
  {
   "cell_type": "code",
   "execution_count": 3,
   "metadata": {},
   "outputs": [
    {
     "data": {
      "text/plain": [
       "3"
      ]
     },
     "execution_count": 3,
     "metadata": {},
     "output_type": "execute_result"
    }
   ],
   "source": [
    "# On peut en obtenir la taille avec len comme pour les listes\n",
    "len(t)"
   ]
  },
  {
   "cell_type": "code",
   "execution_count": 7,
   "metadata": {},
   "outputs": [
    {
     "data": {
      "text/plain": [
       "('un', 2)"
      ]
     },
     "execution_count": 7,
     "metadata": {},
     "output_type": "execute_result"
    }
   ],
   "source": [
    "# Il est possible d'avoir des éléments de type différents\n",
    "t = ('un',2)\n",
    "\n",
    "# Afficher\n",
    "t"
   ]
  },
  {
   "cell_type": "code",
   "execution_count": 8,
   "metadata": {},
   "outputs": [
    {
     "data": {
      "text/plain": [
       "'un'"
      ]
     },
     "execution_count": 8,
     "metadata": {},
     "output_type": "execute_result"
    }
   ],
   "source": [
    "# On peut utiliser des index comme nous l'avons fait dans les listes\n",
    "t[0]"
   ]
  },
  {
   "cell_type": "code",
   "execution_count": 9,
   "metadata": {},
   "outputs": [
    {
     "data": {
      "text/plain": [
       "2"
      ]
     },
     "execution_count": 9,
     "metadata": {},
     "output_type": "execute_result"
    }
   ],
   "source": [
    "# On peut aussi accéder à rebours comme avec les listes\n",
    "t[-1]"
   ]
  },
  {
   "cell_type": "markdown",
   "metadata": {},
   "source": [
    "## Les Méthodes de base des Tuples\n",
    "\n",
    "Les Tuples ont eux aussi un certain nombre de méthodes par défaut, un peu moins nombreuses que pour les listes.\n",
    "Regardons de plus près deux d'entre elles :"
   ]
  },
  {
   "cell_type": "code",
   "execution_count": 11,
   "metadata": {},
   "outputs": [
    {
     "data": {
      "text/plain": [
       "0"
      ]
     },
     "execution_count": 11,
     "metadata": {},
     "output_type": "execute_result"
    }
   ],
   "source": [
    "# La methode .index permet d'ajouter une valeur de retourner le numéro d'index\n",
    "t.index('un')"
   ]
  },
  {
   "cell_type": "code",
   "execution_count": 12,
   "metadata": {},
   "outputs": [
    {
     "data": {
      "text/plain": [
       "1"
      ]
     },
     "execution_count": 12,
     "metadata": {},
     "output_type": "execute_result"
    }
   ],
   "source": [
    "# La méthode .count permet de compter le nombre de fois qu'une valeur est présente dans le Tuple\n",
    "t.count('un')"
   ]
  },
  {
   "cell_type": "markdown",
   "metadata": {},
   "source": [
    "## Immuabilité\n",
    "\n",
    "On n'insistera jamais assez sur le fait que les Tuples sont immuables. \n",
    "Voici quelques exemple pratiques pour enfoncer le clou :"
   ]
  },
  {
   "cell_type": "code",
   "execution_count": 13,
   "metadata": {},
   "outputs": [
    {
     "ename": "TypeError",
     "evalue": "'tuple' object does not support item assignment",
     "output_type": "error",
     "traceback": [
      "\u001b[0;31m---------------------------------------------------------------------------\u001b[0m",
      "\u001b[0;31mTypeError\u001b[0m                                 Traceback (most recent call last)",
      "\u001b[0;32m<ipython-input-13-4ce4bd54ba8f>\u001b[0m in \u001b[0;36m<module>\u001b[0;34m()\u001b[0m\n\u001b[0;32m----> 1\u001b[0;31m \u001b[0mt\u001b[0m\u001b[0;34m[\u001b[0m\u001b[0;36m0\u001b[0m\u001b[0;34m]\u001b[0m\u001b[0;34m=\u001b[0m \u001b[0;34m'un autre'\u001b[0m\u001b[0;34m\u001b[0m\u001b[0m\n\u001b[0m",
      "\u001b[0;31mTypeError\u001b[0m: 'tuple' object does not support item assignment"
     ]
    }
   ],
   "source": [
    "t[0]= 'un autre'"
   ]
  },
  {
   "cell_type": "markdown",
   "metadata": {},
   "source": [
    "À cause de l'immuabilité, un Tuple ne peu pas être étendu. Une fois qu'il a été créé on ne peut plus rien lui ajouter.\n"
   ]
  },
  {
   "cell_type": "code",
   "execution_count": 14,
   "metadata": {},
   "outputs": [
    {
     "ename": "AttributeError",
     "evalue": "'tuple' object has no attribute 'append'",
     "output_type": "error",
     "traceback": [
      "\u001b[0;31m---------------------------------------------------------------------------\u001b[0m",
      "\u001b[0;31mAttributeError\u001b[0m                            Traceback (most recent call last)",
      "\u001b[0;32m<ipython-input-14-5a16d304ab00>\u001b[0m in \u001b[0;36m<module>\u001b[0;34m()\u001b[0m\n\u001b[0;32m----> 1\u001b[0;31m \u001b[0mt\u001b[0m\u001b[0;34m.\u001b[0m\u001b[0mappend\u001b[0m\u001b[0;34m(\u001b[0m\u001b[0;34m'non plus'\u001b[0m\u001b[0;34m)\u001b[0m\u001b[0;34m\u001b[0m\u001b[0m\n\u001b[0m",
      "\u001b[0;31mAttributeError\u001b[0m: 'tuple' object has no attribute 'append'"
     ]
    }
   ],
   "source": [
    "t.append('non plus')"
   ]
  },
  {
   "cell_type": "markdown",
   "metadata": {},
   "source": [
    "## Quand doit-on utiliser des Tuples\n",
    "\n",
    "Vous devez être en train de vous demander, \"pourquoi donc utiliser des Tuples qui ont moins bien équipées en méthodes à disposition ?\". Pour être tout à fait honnête, les Tuples ne sont pas autant utilisés que les listes en preogrammation, mais ils sont utiles quand on a besoin de cette qualité d'imuabilité. Si dans votre programme un objet qui est utilisé dans plusieurs parties et vous devez vous assurerqu'il n'est pas modifié, alors la solution est d'utiliser un Tuple. C'est une manière simple et efficace de s'assurer de l'intégrité des données.\n",
    "\n",
    "Vous êtes maintenant capables de créer et utiliser des Tuples dans vos programmes, ansi que de tirer parti du fait qu'ils sont non modifiables.\n",
    "\n",
    "La suite avec les fichiers !"
   ]
  }
 ],
 "metadata": {
  "anaconda-cloud": {},
  "kernelspec": {
   "display_name": "Python 3",
   "language": "python",
   "name": "python3"
  },
  "language_info": {
   "codemirror_mode": {
    "name": "ipython",
    "version": 3
   },
   "file_extension": ".py",
   "mimetype": "text/x-python",
   "name": "python",
   "nbconvert_exporter": "python",
   "pygments_lexer": "ipython3",
   "version": "3.7.7"
  }
 },
 "nbformat": 4,
 "nbformat_minor": 1
}
