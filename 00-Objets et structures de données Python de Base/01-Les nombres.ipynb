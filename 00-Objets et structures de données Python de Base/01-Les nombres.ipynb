{
 "cells": [
  {
   "cell_type": "markdown",
   "metadata": {},
   "source": [
    "___\n",
    "<table style=\" background-color: white; padding: 0;\"><tr>\n",
    "    <td><a href='https://www.udemy.com/user/marcaugier/'><img src='../logo_XDM.png'></a></td>\n",
    "    <td><a href='https://www.udemy.com/user/joseportilla/'><img src='../Pierian_Data_Logo.png'></a></td>\n",
    "</tr></table>\n",
    "<hr>\n",
    "    \n",
    "<center><em>Content Copyright by Pierian Data and xDM Consulting</em></center>"
   ]
  },
  {
   "cell_type": "markdown",
   "metadata": {},
   "source": [
    "# Les nombres et plus avec Python!\n",
    "\n",
    "Dans cette section, vous allez tout apprendre à propos des nombres et comment les utiliser avec Python.\n",
    "\n",
    "Voici les sujets que nous allons couvrir :\n",
    "\n",
    "    1.) Les types de nombres avec Python\n",
    "    2.) Arithmetique de base\n",
    "    3.) Différences entre Python 2 et 3 pour la division\n",
    "    4.) Assignation d'objets dans Python"
   ]
  },
  {
   "cell_type": "markdown",
   "metadata": {},
   "source": [
    "## Les types de nombres\n",
    "\n",
    "Python a plusieurs \"types\" de nombres (littéraux numériques). Nous allons nous occuper principalement des entiers (integers) et des nombres à virgule flottante (floating point).\n",
    "\n",
    "Le type integer représente des nombres entiers, positifs or negatifs. Par exemple: 2 et -2 sont des integers.\n",
    "\n",
    "Le type floating point de Python est facile à identifier parce que les nombres sont représentés avec un point décimal (Attention, c'est bien un point et non pas une virgule comme habituellement en calligraphie française), ou alors avec le signe exponentiels (e) pour représenter les puissances de 10. Par exemple, 2.0 et -2.1 sont des nombres de type floating point. 4E2 ( 4 fois 10 à la puissance 2) est aussi un nombre de type floating point en Python.\n",
    "\n",
    "La plupart des nombres que nous utiliserons dans le cours seront de type integer ou floating point.\n",
    "\n",
    "Voici un tableau des deux types avec lesquels nous passerons le plus de temps dans les exemples :\n",
    "\n",
    "<table border = “1“>\n",
    "<caption>Numbers in Python</caption> \n",
    "<tr>\n",
    "    <th>Exemples</th> <th>\"Type\"</th>\n",
    "</tr>\n",
    "<td>1,2,-5,1000</td> <td>Integers</td> \n",
    "<tr>\n",
    "</tr>\n",
    "<td>1.2,-0.5,2e2,3E2</td> <td>Floating-point numbers</td> \n",
    "<tr>\n",
    "</tr>\n",
    " </table>\n",
    " \n",
    "Maintenant, quelques exercices d'arythmétique simples."
   ]
  },
  {
   "cell_type": "markdown",
   "metadata": {},
   "source": [
    "### Arithmétique de base"
   ]
  },
  {
   "cell_type": "code",
   "execution_count": 1,
   "metadata": {},
   "outputs": [
    {
     "data": {
      "text/plain": [
       "3"
      ]
     },
     "execution_count": 1,
     "metadata": {},
     "output_type": "execute_result"
    }
   ],
   "source": [
    "# Addition\n",
    "2+1"
   ]
  },
  {
   "cell_type": "code",
   "execution_count": 2,
   "metadata": {},
   "outputs": [
    {
     "data": {
      "text/plain": [
       "1"
      ]
     },
     "execution_count": 2,
     "metadata": {},
     "output_type": "execute_result"
    }
   ],
   "source": [
    "# Soustraction\n",
    "2-1"
   ]
  },
  {
   "cell_type": "code",
   "execution_count": 3,
   "metadata": {},
   "outputs": [
    {
     "data": {
      "text/plain": [
       "4"
      ]
     },
     "execution_count": 3,
     "metadata": {},
     "output_type": "execute_result"
    }
   ],
   "source": [
    "# Multiplication\n",
    "2*2"
   ]
  },
  {
   "cell_type": "code",
   "execution_count": 1,
   "metadata": {},
   "outputs": [
    {
     "data": {
      "text/plain": [
       "1.5"
      ]
     },
     "execution_count": 1,
     "metadata": {},
     "output_type": "execute_result"
    }
   ],
   "source": [
    "# Division\n",
    "3/2"
   ]
  },
  {
   "cell_type": "markdown",
   "metadata": {},
   "source": [
    "### Arithmétique, suite..."
   ]
  },
  {
   "cell_type": "code",
   "execution_count": 16,
   "metadata": {},
   "outputs": [
    {
     "data": {
      "text/plain": [
       "8"
      ]
     },
     "execution_count": 16,
     "metadata": {},
     "output_type": "execute_result"
    }
   ],
   "source": [
    "# Puissances\n",
    "2**3"
   ]
  },
  {
   "cell_type": "code",
   "execution_count": 17,
   "metadata": {},
   "outputs": [
    {
     "data": {
      "text/plain": [
       "2.0"
      ]
     },
     "execution_count": 17,
     "metadata": {},
     "output_type": "execute_result"
    }
   ],
   "source": [
    "# Nous pouvons calculer les racines de la même manière\n",
    "4**0.5"
   ]
  },
  {
   "cell_type": "code",
   "execution_count": 18,
   "metadata": {},
   "outputs": [
    {
     "data": {
      "text/plain": [
       "105"
      ]
     },
     "execution_count": 18,
     "metadata": {},
     "output_type": "execute_result"
    }
   ],
   "source": [
    "# Voici l'ordre de priorité des opérations en Python\n",
    "2 + 10 * 10 + 3"
   ]
  },
  {
   "cell_type": "code",
   "execution_count": 19,
   "metadata": {},
   "outputs": [
    {
     "data": {
      "text/plain": [
       "156"
      ]
     },
     "execution_count": 19,
     "metadata": {},
     "output_type": "execute_result"
    }
   ],
   "source": [
    "# Avec des parenthèse nous pouvons garder le contrôle de ces priorités\n",
    "(2+10) * (10+3)"
   ]
  },
  {
   "cell_type": "markdown",
   "metadata": {},
   "source": [
    "## Assignation de variables\n",
    "\n",
    "Maintenant que nous savons comment utiliser les nombre en mode calculette avec Python, nous pouvons créer des variables et leur assigner des valeurs.\n",
    "\n",
    "Il suffit d'un simple signe égal = pour assigner un nom à une variable. Voyons quelques exemples pour détailler la façon de faire."
   ]
  },
  {
   "cell_type": "code",
   "execution_count": 37,
   "metadata": {
    "collapsed": true
   },
   "outputs": [],
   "source": [
    "# Créons un objet nommé \"a\" et nous lui assignons la valeur 5\n",
    "a = 5"
   ]
  },
  {
   "cell_type": "markdown",
   "metadata": {},
   "source": [
    "Maintenant, je peux appeler *a* dans un script Python qui le traitera comme le nombre 5"
   ]
  },
  {
   "cell_type": "code",
   "execution_count": 38,
   "metadata": {},
   "outputs": [
    {
     "data": {
      "text/plain": [
       "10"
      ]
     },
     "execution_count": 38,
     "metadata": {},
     "output_type": "execute_result"
    }
   ],
   "source": [
    "# additionner des objets\n",
    "a+a"
   ]
  },
  {
   "cell_type": "markdown",
   "metadata": {},
   "source": [
    "Que se passe-t-il si on assigne à nouveau la même variable ?\n",
    "Est-ce que Python nous laisse écraser la valeur déjà stockée ?"
   ]
  },
  {
   "cell_type": "code",
   "execution_count": 39,
   "metadata": {
    "collapsed": true
   },
   "outputs": [],
   "source": [
    "# Ré-assignation\n",
    "a = 10"
   ]
  },
  {
   "cell_type": "code",
   "execution_count": 40,
   "metadata": {},
   "outputs": [
    {
     "data": {
      "text/plain": [
       "10"
      ]
     },
     "execution_count": 40,
     "metadata": {},
     "output_type": "execute_result"
    }
   ],
   "source": [
    "# Vérification\n",
    "a"
   ]
  },
  {
   "cell_type": "markdown",
   "metadata": {},
   "source": [
    "Oui !\n",
    "Python nous autorise à écraser les valeurs d'une variable dont le nom a déjà été assigné. Nous pouvons même utiliser les variables mêmes pour faire la nouvelle assignation.\n",
    "Par exemple :"
   ]
  },
  {
   "cell_type": "code",
   "execution_count": 41,
   "metadata": {},
   "outputs": [
    {
     "data": {
      "text/plain": [
       "10"
      ]
     },
     "execution_count": 41,
     "metadata": {},
     "output_type": "execute_result"
    }
   ],
   "source": [
    "# Vérification\n",
    "a"
   ]
  },
  {
   "cell_type": "code",
   "execution_count": 42,
   "metadata": {
    "collapsed": true
   },
   "outputs": [],
   "source": [
    "# Nous utilisons a pour assigner a de nouveau\n",
    "a = a + a"
   ]
  },
  {
   "cell_type": "code",
   "execution_count": 43,
   "metadata": {},
   "outputs": [
    {
     "data": {
      "text/plain": [
       "20"
      ]
     },
     "execution_count": 43,
     "metadata": {},
     "output_type": "execute_result"
    }
   ],
   "source": [
    "# Vérification \n",
    "a"
   ]
  },
  {
   "cell_type": "markdown",
   "metadata": {},
   "source": [
    "Il y a quelques règles à respecter pour créer un nom de variable :\n",
    "    1. Les noms ne doivent pas commencer par un nombre.\n",
    "    2. Pas d'espace dans les noms, utilisez _ à la place\n",
    "    3. Interdit d'utiliser les symboles suivants : '\",<>/?|\\()!@#$%^&*~-+\n",
    "    4. C'est une bonne pratique (PEP8) de mettre les noms en minuscules\n",
    "    \n",
    "Les noms de variables permettent de conserver et manipuler plusieurs valeurs de façon simple avec Python.\n",
    "Par exemple : "
   ]
  },
  {
   "cell_type": "code",
   "execution_count": 44,
   "metadata": {
    "collapsed": true
   },
   "outputs": [],
   "source": [
    "# Utilisez des noms explicites pour mieux suivre ce que fait votre code !\n",
    "mon_salaire = 100\n",
    "\n",
    "taux_taxe = 0.1\n",
    "\n",
    "mes_taxes = mon_salaire*taux_taxe"
   ]
  },
  {
   "cell_type": "code",
   "execution_count": 46,
   "metadata": {},
   "outputs": [
    {
     "data": {
      "text/plain": [
       "10.0"
      ]
     },
     "execution_count": 46,
     "metadata": {},
     "output_type": "execute_result"
    }
   ],
   "source": [
    "# Visualiser les taxes !\n",
    "mes_taxes"
   ]
  },
  {
   "cell_type": "markdown",
   "metadata": {},
   "source": [
    "Nous venons de voir quelques uns des types de nombres basiques de Python. Nous avons également appris à réaliser quelques calculs arithmétiques de base en utilisant la calculette Python. Nous avons finalement vu comment créer des variables pour utiliser plus facilement ces objets numériques.\n",
    "\n",
    "Dans la prochaine leçon nous allons découvrir les chaines de caractères !"
   ]
  }
 ],
 "metadata": {
  "anaconda-cloud": {},
  "kernelspec": {
   "display_name": "Python 3",
   "language": "python",
   "name": "python3"
  },
  "language_info": {
   "codemirror_mode": {
    "name": "ipython",
    "version": 3
   },
   "file_extension": ".py",
   "mimetype": "text/x-python",
   "name": "python",
   "nbconvert_exporter": "python",
   "pygments_lexer": "ipython3",
   "version": "3.8.3"
  }
 },
 "nbformat": 4,
 "nbformat_minor": 1
}
