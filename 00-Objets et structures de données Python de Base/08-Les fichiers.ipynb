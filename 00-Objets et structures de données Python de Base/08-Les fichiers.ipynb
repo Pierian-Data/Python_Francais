{
 "cells": [
  {
   "cell_type": "markdown",
   "metadata": {},
   "source": [
    "___\n",
    "\n",
    "<a href='https://www.udemy.com/user/marcaugier/'><img src='../logo_XDM.png'></a>\n",
    "<a href='https://www.udemy.com/user/joseportilla/'><img src='../Pierian_Data_Logo.png'></a>\n",
    "___\n",
    "<center><em>Content Copyright by Pierian Data and xDM Consulting</em></center>"
   ]
  },
  {
   "cell_type": "markdown",
   "metadata": {},
   "source": [
    "# Les fichiers\n",
    "Python utilise des objets \"fichier\" pour interagir avec les fichiers de votre ordinateur. Ces objets fichier peuvent être n'importe quel type de fichier présent dans votre ordinateur, que ce soit un fichier audio, texte, un message électronique, un document Excel, etc. \n",
    "\n",
    "Note:\n",
    "Vous devrez probablement installer des bibliothèques ou des modules particuliers pour pouvoir manipuler ces différents types de fichiers, ceux-ci sont disponibles très facilement et nous verrons un peu plus tard dans le cours comment les télécharger et les ajouter à votre installation.\n",
    "\n",
    "Python possède une fonction intégrée pour ouvrir et manipuler des fichiers de type basique. Pour commencer, nous allons avoir besoin d'un fichier. Nous allons utiliser la fonction magique writefile de iPython pour créer un fichier de texte !\n",
    "\n",
    "## On utilise Jupyter Notebook pour écrire le fichier test.txt"
   ]
  },
  {
   "cell_type": "code",
   "execution_count": 1,
   "metadata": {},
   "outputs": [
    {
     "name": "stdout",
     "output_type": "stream",
     "text": [
      "Overwriting test.txt\n"
     ]
    }
   ],
   "source": [
    "%%writefile test.txt\n",
    "Bonjour, ceci est un petit fichier de test\n",
    "Voici une deuxième ligne\n",
    "Et encore une troisième"
   ]
  },
  {
   "cell_type": "markdown",
   "metadata": {},
   "source": [
    "## Ouvrir le fichier avec Python\n",
    "\n",
    "Nous pouvons ouvrir un fichier avec la fonction open(). Cette fonction accepte des arguments (ou pramètres).\n",
    "Voyons comment elle est utilisée :"
   ]
  },
  {
   "cell_type": "code",
   "execution_count": 5,
   "metadata": {},
   "outputs": [],
   "source": [
    "# Ouvrir le fichier text.txt que nous venons de créer\n",
    "mon_fichier = open('test.txt')"
   ]
  },
  {
   "cell_type": "markdown",
   "metadata": {},
   "source": [
    "Attention à ne pas se tromper de nom, ni de dossier"
   ]
  },
  {
   "cell_type": "code",
   "execution_count": 7,
   "metadata": {},
   "outputs": [
    {
     "ename": "FileNotFoundError",
     "evalue": "[Errno 2] No such file or directory: 'badaboum.txt'",
     "output_type": "error",
     "traceback": [
      "\u001b[0;31m---------------------------------------------------------------------------\u001b[0m",
      "\u001b[0;31mFileNotFoundError\u001b[0m                         Traceback (most recent call last)",
      "\u001b[0;32m<ipython-input-7-1dbdf2ba6297>\u001b[0m in \u001b[0;36m<module>\u001b[0;34m\u001b[0m\n\u001b[0;32m----> 1\u001b[0;31m \u001b[0mpas_fichier\u001b[0m \u001b[0;34m=\u001b[0m \u001b[0mopen\u001b[0m\u001b[0;34m(\u001b[0m\u001b[0;34m'badaboum.txt'\u001b[0m\u001b[0;34m)\u001b[0m\u001b[0;34m\u001b[0m\u001b[0;34m\u001b[0m\u001b[0m\n\u001b[0m",
      "\u001b[0;31mFileNotFoundError\u001b[0m: [Errno 2] No such file or directory: 'badaboum.txt'"
     ]
    }
   ],
   "source": [
    "pas_fichier = open('badaboum.txt')"
   ]
  },
  {
   "cell_type": "code",
   "execution_count": 8,
   "metadata": {},
   "outputs": [
    {
     "data": {
      "text/plain": [
       "'/Users/marc/GitHub/Python_Francais/Section_02_Python_Notions_de_Base'"
      ]
     },
     "execution_count": 8,
     "metadata": {},
     "output_type": "execute_result"
    }
   ],
   "source": [
    "pwd"
   ]
  },
  {
   "cell_type": "markdown",
   "metadata": {},
   "source": [
    "** On peut aussi utiliser un chemin complet pour lire un fichier ailleurs dans votre ordi **\n",
    "\n",
    "Avec Windows il faudra mettre 2 caractères \\ parce que le premier est le caractère d'échappement et le deuxième \\ sera retenu.\n",
    "    mon_fichier = open('c:\\\\Users\\\\Marc\\\\Dossier\\\\test.txt')\n",
    "\n",
    "Sur Mac et Linux, pas de soucis puisqu'on utilise un simple /\n",
    "    mon_fichier = open('/Users/marc/Dossier/test.txt')"
   ]
  },
  {
   "cell_type": "code",
   "execution_count": 9,
   "metadata": {},
   "outputs": [
    {
     "data": {
      "text/plain": [
       "''"
      ]
     },
     "execution_count": 9,
     "metadata": {},
     "output_type": "execute_result"
    }
   ],
   "source": [
    "# Nous pouvons maintenant lire le fichier\n",
    "mon_fichier.read()"
   ]
  },
  {
   "cell_type": "code",
   "execution_count": 10,
   "metadata": {},
   "outputs": [
    {
     "data": {
      "text/plain": [
       "''"
      ]
     },
     "execution_count": 10,
     "metadata": {},
     "output_type": "execute_result"
    }
   ],
   "source": [
    "# Mais que se passe-t-il quand on essaie de le lire à nouveau ?\n",
    "mon_fichier.read()"
   ]
  },
  {
   "cell_type": "markdown",
   "metadata": {},
   "source": [
    "Ce qui se produit est que le \"pointeur\" de lecture se trouve à la fin du fichier après l'avoir lu. Il n'y a donc plus rien à lire. Il est possible de réinitialiser le \"curseur\" de la manière suivante :"
   ]
  },
  {
   "cell_type": "code",
   "execution_count": 14,
   "metadata": {},
   "outputs": [
    {
     "data": {
      "text/plain": [
       "0"
      ]
     },
     "execution_count": 14,
     "metadata": {},
     "output_type": "execute_result"
    }
   ],
   "source": [
    "# Pointer le début du fichier(index 0)\n",
    "mon_fichier.seek(0)"
   ]
  },
  {
   "cell_type": "code",
   "execution_count": 12,
   "metadata": {},
   "outputs": [
    {
     "data": {
      "text/plain": [
       "'Bonjour, ceci est un petit fichier de test\\nVoici une deuxième ligne\\nEt encore une troisième\\n'"
      ]
     },
     "execution_count": 12,
     "metadata": {},
     "output_type": "execute_result"
    }
   ],
   "source": [
    "# Lire de nouveau\n",
    "mon_fichier.read()"
   ]
  },
  {
   "cell_type": "markdown",
   "metadata": {},
   "source": [
    "Pour ne pas avoir à réinitialiser chaque fois qu'une ligne est lue, il est aussi possible d'utiliser la méthode readlines pour lire tout le contenu du fichier à la fois et le stocker dans une liste.\n",
    "Il faut toutefois être très prudent quand on l'utilise avec de gros fichiers, parce que tout est conservé en mémoire. Nous verrons comment répéter la lecture sur un gros fichier plus tard dans le cours."
   ]
  },
  {
   "cell_type": "code",
   "execution_count": 15,
   "metadata": {},
   "outputs": [
    {
     "data": {
      "text/plain": [
       "['Bonjour, ceci est un petit fichier de test\\n',\n",
       " 'Voici une deuxième ligne\\n',\n",
       " 'Et encore une troisième\\n']"
      ]
     },
     "execution_count": 15,
     "metadata": {},
     "output_type": "execute_result"
    }
   ],
   "source": [
    "# Readlines renvoie la liste des lignes du fichier\n",
    "mon_fichier.seek(0)\n",
    "mon_fichier.readlines()"
   ]
  },
  {
   "cell_type": "code",
   "execution_count": 39,
   "metadata": {},
   "outputs": [],
   "source": [
    "mon_fichier.close()"
   ]
  },
  {
   "cell_type": "code",
   "execution_count": 40,
   "metadata": {},
   "outputs": [],
   "source": [
    "with open(\"test.txt\") as ce_fichier:\n",
    "    contenu = ce_fichier.read()"
   ]
  },
  {
   "cell_type": "code",
   "execution_count": 41,
   "metadata": {},
   "outputs": [
    {
     "data": {
      "text/plain": [
       "\"Bonjour, ceci est un petit fichier de test\\nVoici une deuxième ligne\\nEt encore une troisième\\nOn passe la quatrième\\nCette fois c'est une cinquième ligne\\net une sixième qui vont apparaitre\\n\""
      ]
     },
     "execution_count": 41,
     "metadata": {},
     "output_type": "execute_result"
    }
   ],
   "source": [
    "contenu"
   ]
  },
  {
   "cell_type": "code",
   "execution_count": 42,
   "metadata": {},
   "outputs": [
    {
     "name": "stdout",
     "output_type": "stream",
     "text": [
      "Bonjour, ceci est un petit fichier de test\n",
      "Voici une deuxième ligne\n",
      "Et encore une troisième\n",
      "On passe la quatrième\n",
      "Cette fois c'est une cinquième ligne\n",
      "et une sixième qui vont apparaitre\n",
      "\n"
     ]
    }
   ],
   "source": [
    "print(contenu)"
   ]
  },
  {
   "cell_type": "markdown",
   "metadata": {},
   "source": [
    "## Écrire dans un fichier\n",
    "Par défaut, la fonction open() ne nous permettra que la lecture du fichier, il faut utiliser un argument 'w' pour pouvoir écrire. Par exemple :\n"
   ]
  },
  {
   "cell_type": "code",
   "execution_count": 17,
   "metadata": {},
   "outputs": [],
   "source": [
    "# Ajout d'un deuxième argument à la fonction. \n",
    "# 'w' pour écrire ('write' en anglais)\n",
    "# 'w+' pour écrire et lire\n",
    "mon_fichier = open('test.txt','w+')"
   ]
  },
  {
   "cell_type": "markdown",
   "metadata": {},
   "source": [
    "Quand on ouvre un fichier en mode w ou w + tout ce qui était avant dans le fichier est écrasé, disparait !"
   ]
  },
  {
   "cell_type": "code",
   "execution_count": 18,
   "metadata": {},
   "outputs": [
    {
     "data": {
      "text/plain": [
       "33"
      ]
     },
     "execution_count": 18,
     "metadata": {},
     "output_type": "execute_result"
    }
   ],
   "source": [
    "# Écrire dans le fichier\n",
    "mon_fichier.write('Ceci est un petit fichier de test')"
   ]
  },
  {
   "cell_type": "code",
   "execution_count": 20,
   "metadata": {},
   "outputs": [
    {
     "data": {
      "text/plain": [
       "'Ceci est un petit fichier de test'"
      ]
     },
     "execution_count": 20,
     "metadata": {},
     "output_type": "execute_result"
    }
   ],
   "source": [
    "# Lire le fichier\n",
    "mon_fichier.seek(0)\n",
    "mon_fichier.read()"
   ]
  },
  {
   "cell_type": "code",
   "execution_count": null,
   "metadata": {},
   "outputs": [],
   "source": [
    "mon_fichier.close()"
   ]
  },
  {
   "cell_type": "markdown",
   "metadata": {},
   "source": [
    "## Ajouter des données à un fichier\n",
    "\n",
    "Il faut pour cela utiliser le mode a ou a+ pour permettre aussi la lecture, comme pour w et w+"
   ]
  },
  {
   "cell_type": "code",
   "execution_count": 28,
   "metadata": {},
   "outputs": [
    {
     "name": "stdout",
     "output_type": "stream",
     "text": [
      "Overwriting test.txt\n"
     ]
    }
   ],
   "source": [
    "%%writefile test.txt\n",
    "Bonjour, ceci est un petit fichier de test\n",
    "Voici une deuxième ligne\n",
    "Et encore une troisième"
   ]
  },
  {
   "cell_type": "code",
   "execution_count": 29,
   "metadata": {},
   "outputs": [
    {
     "data": {
      "text/plain": [
       "21"
      ]
     },
     "execution_count": 29,
     "metadata": {},
     "output_type": "execute_result"
    }
   ],
   "source": [
    "mon_fichier = open('test.txt','a+')\n",
    "mon_fichier.write(\"On passe la quatrième\")"
   ]
  },
  {
   "cell_type": "code",
   "execution_count": 30,
   "metadata": {},
   "outputs": [
    {
     "name": "stdout",
     "output_type": "stream",
     "text": [
      "Bonjour, ceci est un petit fichier de test\n",
      "Voici une deuxième ligne\n",
      "Et encore une troisième\n",
      "On passe la quatrième\n"
     ]
    }
   ],
   "source": [
    "mon_fichier.seek(0)\n",
    "\n",
    "print(mon_fichier.read())"
   ]
  },
  {
   "cell_type": "code",
   "execution_count": 31,
   "metadata": {},
   "outputs": [],
   "source": [
    "mon_fichier.close()"
   ]
  },
  {
   "cell_type": "markdown",
   "metadata": {},
   "source": [
    "## Ajouter des données avec %%writefile"
   ]
  },
  {
   "cell_type": "code",
   "execution_count": 32,
   "metadata": {},
   "outputs": [
    {
     "name": "stdout",
     "output_type": "stream",
     "text": [
      "Appending to test.txt\n"
     ]
    }
   ],
   "source": [
    "%%writefile -a test.txt\n",
    "\n",
    "Cette fois c'est une cinquième ligne\n",
    "et une sixième qui vont apparaitre"
   ]
  },
  {
   "cell_type": "code",
   "execution_count": 33,
   "metadata": {},
   "outputs": [
    {
     "name": "stdout",
     "output_type": "stream",
     "text": [
      "Bonjour, ceci est un petit fichier de test\n",
      "Voici une deuxième ligne\n",
      "Et encore une troisième\n",
      "On passe la quatrième\n",
      "Cette fois c'est une cinquième ligne\n",
      "et une sixième qui vont apparaitre\n",
      "\n"
     ]
    }
   ],
   "source": [
    "mon_fichier = open('test.txt')\n",
    "print(mon_fichier.read())"
   ]
  },
  {
   "cell_type": "markdown",
   "metadata": {},
   "source": [
    "## Répéter les opérations à travers un fichier\n",
    "\n",
    "Voyons comment réaliser une boucle for pour répéter une opération sur tout le contenu du fichier.\n",
    "Avant cela, nous allons créer un nouveau fichier texte en utilisant une fonction magique de iPython"
   ]
  },
  {
   "cell_type": "code",
   "execution_count": 20,
   "metadata": {},
   "outputs": [
    {
     "name": "stdout",
     "output_type": "stream",
     "text": [
      "Overwriting test.txt\n"
     ]
    }
   ],
   "source": [
    "%%writefile test.txt\n",
    "Première ligne\n",
    "Deuxième ligne"
   ]
  },
  {
   "cell_type": "markdown",
   "metadata": {},
   "source": [
    "Maintenant nous pouvons réaliser notre boucle et demander au programme de faire quelque chose à chaque nouvelle ligne lue : "
   ]
  },
  {
   "cell_type": "code",
   "execution_count": 22,
   "metadata": {},
   "outputs": [
    {
     "name": "stdout",
     "output_type": "stream",
     "text": [
      "Première ligne\n",
      "\n",
      "Deuxième ligne\n"
     ]
    }
   ],
   "source": [
    "for ligne in open('test.txt'):\n",
    "    print(ligne)"
   ]
  },
  {
   "cell_type": "markdown",
   "metadata": {},
   "source": [
    "Ne vous inquiétez pas si vous ne comprenez pas encore tout ceci, nous verrons bientôt les boucles for. \n",
    "Nous allons décomposer ce que nous venons de faire. Nous avons demandé que pour chaque ligne du fichier texte, affiche la ligne et continue. Il est important de noter les choses suivantes :\n",
    "\n",
    "    1.) On peut appeler l'objet 'ligne' comme on veut (voir l'exemple suivant).\n",
    "    2.) Ne pas appeler la méthode .read() pour le fichier évite qu'il ne soit stocké en mémoire.\n",
    "    3.) Remarquez l'indentation du texte pour la ligne du print. Ces espaces sont obligatoires en Python.\n",
    "   \n",
    "Nous verrons bientôt tout cela avec plus de détails, mais pour l'instant nous passons aux sets et aux Booléens !"
   ]
  },
  {
   "cell_type": "code",
   "execution_count": 24,
   "metadata": {},
   "outputs": [
    {
     "name": "stdout",
     "output_type": "stream",
     "text": [
      "Première ligne\n",
      "\n",
      "Deuxième ligne\n"
     ]
    }
   ],
   "source": [
    "# Deuxième exemple pour préciser le premier point\n",
    "for asdf in open('test.txt'):\n",
    "    print(asdf)"
   ]
  }
 ],
 "metadata": {
  "anaconda-cloud": {},
  "kernelspec": {
   "display_name": "Python 3",
   "language": "python",
   "name": "python3"
  },
  "language_info": {
   "codemirror_mode": {
    "name": "ipython",
    "version": 3
   },
   "file_extension": ".py",
   "mimetype": "text/x-python",
   "name": "python",
   "nbconvert_exporter": "python",
   "pygments_lexer": "ipython3",
   "version": "3.7.7"
  }
 },
 "nbformat": 4,
 "nbformat_minor": 1
}
