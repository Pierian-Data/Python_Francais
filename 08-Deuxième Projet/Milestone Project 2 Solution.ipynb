{
 "cells": [
  {
   "cell_type": "markdown",
   "metadata": {
    "collapsed": true
   },
   "source": [
    "# Deuxième projet d'étape - jeu de Blackjack\n",
    "\n",
    "## Solution\n",
    "\n",
    "Voici notre implémentation du jeu de BlackJack.\n",
    "Soyez attentif à l'tulisation des classes et de la Programmation Orientée Objet pour les cartes et les mains."
   ]
  },
  {
   "cell_type": "markdown",
   "metadata": {},
   "source": [
    "Commençons par définir quelques objets globaux pour les cartes, des tuples et un dictionnaire."
   ]
  },
  {
   "cell_type": "code",
   "execution_count": null,
   "metadata": {
    "collapsed": false
   },
   "outputs": [],
   "source": [
    "# Utilisé pour mélanger les cartes\n",
    "import random\n",
    "\n",
    "# Bouléen utilisé pour savoir si la main est en jeu\n",
    "jouer = False\n",
    "\n",
    "jetons = 100 # Cela pourrait aussi être demandé au joueur\n",
    "\n",
    "pari = 1\n",
    "\n",
    "rejouer_phrase = \" Entrez 'd' pour donner les cartes à nouveau, ou 'q' pour quitter\""
   ]
  },
  {
   "cell_type": "code",
   "execution_count": null,
   "metadata": {
    "collapsed": true
   },
   "outputs": [],
   "source": [
    "# Coeur, Carreau, Trèfle et Pique.\n",
    "couleurs = ('Coeur','Carreau','Trèfle','Pique')\n",
    "\n",
    "# Les hauteurs possibles\n",
    "hauteur_cartes = ('As', '2', '3', '4', '5', '6', '7', '8', '9', '10', 'Valet', 'Reine', 'Roi')\n",
    "\n",
    "# Les valeurs de points, (L'AS peut valoir 1 ou 11, regardez self.petit pour comprendre)\n",
    "valeur_carte = {'As':1, '2':2, '3':3, '4':4, '5':5, '6':6, '7':7, '8':8, '9':9, '10':10, 'Valet':10, 'Reine':10, 'Roi':10}"
   ]
  },
  {
   "cell_type": "markdown",
   "metadata": {},
   "source": [
    "Maintenant, créons une classe carte, qui réalisera quelques fonctions de base pour identifier une carte, ainsi que pour obtenir ses caractèristiques."
   ]
  },
  {
   "cell_type": "code",
   "execution_count": null,
   "metadata": {
    "collapsed": true
   },
   "outputs": [],
   "source": [
    "# Création d'une classe carte\n",
    "class Carte:\n",
    "    \n",
    "    def __init__(self,couleur,hauteur):\n",
    "        self.couleur = couleur\n",
    "        self.hauteur = hauteur\n",
    "        \n",
    "    def __str__(self):\n",
    "        return self.hauteur + \" de \" + self.couleur\n",
    "    \n",
    "    def affiche_couleur(self):\n",
    "        return self.couleur\n",
    "    \n",
    "    def affiche_hauteur(self):\n",
    "        return self.hauteur\n",
    "    \n",
    "    def tirer(self):\n",
    "        print (self.hauteur + \" de \" + self.couleur)"
   ]
  },
  {
   "cell_type": "markdown",
   "metadata": {},
   "source": [
    "Maintenant, il nous faut une classe Main, qui va gérer le cas particulier de l'as"
   ]
  },
  {
   "cell_type": "code",
   "execution_count": null,
   "metadata": {
    "collapsed": false
   },
   "outputs": [],
   "source": [
    "# Création d'une classe Main\n",
    "class Main:\n",
    "    \n",
    "    def __init__(self):\n",
    "        self.cartes = []\n",
    "        self.valeur = 0\n",
    "        # l'as peut valoir 1 ou 11, ce qui est pris en compte ici\n",
    "        # AS étant un mot réservé Python, j'ai choisi d'utiliser petit\n",
    "        self.petit = False\n",
    "        \n",
    "    def __str__(self):\n",
    "        ''' Renvoie une chaine avec la composition de la main'''\n",
    "        compo_main = \"\"\n",
    "        \n",
    "        # Meilleure façon de faire ceci ? Comprehension de liste ?\n",
    "        for carte in self.cartes:\n",
    "            nom_carte = carte.__str__()\n",
    "            compo_main += \" \" + nom_carte\n",
    "            \n",
    "        return 'Contenu de la main %s' %compo_main\n",
    "        \n",
    "    def ajoute_carte(self,carte):\n",
    "        ''' Ajoute une carte à la main'''\n",
    "        self.cartes.append(carte)\n",
    "        \n",
    "        # Test pour les AS\n",
    "        if carte.hauteur == 'As':\n",
    "            self.petit = True\n",
    "        self.valeur += valeur_carte[carte.hauteur]\n",
    "        \n",
    "    def calc_val(self):\n",
    "        '''Calcule la valeur de la main, les AS valent 11 s'il ne font pas sauter la main'''\n",
    "        if (self.petit == True and self.valeur < 12):\n",
    "            return self.valeur + 10\n",
    "        else:\n",
    "            return self.valeur\n",
    "        \n",
    "    def tirer(self,caché):\n",
    "        if caché == True and jouer == True:\n",
    "            # On ne montre pas la première carte cachée\n",
    "            première_carte = 1\n",
    "        else:\n",
    "            première_carte = 0\n",
    "        for x in range(première_carte,len(self.cartes)):\n",
    "            self.cartes[x].tirer()\n",
    "            "
   ]
  },
  {
   "cell_type": "markdown",
   "metadata": {},
   "source": [
    "Maintenant une classe paquet"
   ]
  },
  {
   "cell_type": "code",
   "execution_count": null,
   "metadata": {
    "collapsed": true
   },
   "outputs": [],
   "source": [
    "class Paquet:\n",
    "    \n",
    "    def __init__(self):\n",
    "        ''' On crée le paquet dans l'ordre '''\n",
    "        self.paquet = []\n",
    "        for couleur in couleurs:\n",
    "            for hauteur in hauteur_cartes:\n",
    "                self.paquet.append(Carte(couleur,hauteur))\n",
    "                \n",
    "    def mélanger(self):\n",
    "        ''' Mélanger le paquet, python a pour cela une méthode dans la bibliothèque random '''\n",
    "        random.shuffle(self.paquet)\n",
    "        \n",
    "    def donne(self):\n",
    "        ''' Extrait la première carte du paquet '''\n",
    "        une_carte = self.paquet.pop()\n",
    "        return une_carte\n",
    "    \n",
    "    def __str__(self):\n",
    "        compo_paquet = \"\"\n",
    "        for carte in self.paquet:\n",
    "            compo_paquet += \" \" + carte.__str__()\n",
    "\n",
    "        return \"Le paquet contient \" + compo_paquet"
   ]
  },
  {
   "cell_type": "markdown",
   "metadata": {},
   "source": [
    "Maintenant que les classes sont terminées, c'est le moment de création sympa, développer le jeu !\n",
    "\n",
    "Pour commencer, on fait un pari. Il faut pour cela vérifier la valeur du pari."
   ]
  },
  {
   "cell_type": "code",
   "execution_count": null,
   "metadata": {
    "collapsed": false
   },
   "outputs": [],
   "source": [
    "# Premier pari\n",
    "def parier():\n",
    "    ''' Demander le montant du pari au joueur '''\n",
    "    \n",
    "    global pari\n",
    "    pari = 0\n",
    "    \n",
    "    print ('Combien de jetons vous voulez parier ? (Un entier SVP) ')\n",
    "    \n",
    "    # Boucle while pour demander le montant du pari\n",
    "    while pari == 0:\n",
    "        compo_pari = input() # bet_comp est utiliser pour vérifier la réponse\n",
    "        compo_pari = int(compo_pari)\n",
    "        # On vérifie que la valeur demandée n'est pas supérieure au montant de jetons restants\n",
    "        if compo_pari >= 1 and compo_pari <= jetons:\n",
    "            pari = compo_pari\n",
    "        else:\n",
    "            print (\"Montant invalide, il ne vous reste que \" + str(jetons) + \" jetons\")"
   ]
  },
  {
   "cell_type": "markdown",
   "metadata": {},
   "source": [
    "Ensuite, il faut une fonciton pour mettre en place le jeu et donner les cartes."
   ]
  },
  {
   "cell_type": "code",
   "execution_count": null,
   "metadata": {
    "collapsed": false
   },
   "outputs": [],
   "source": [
    "def distribue_cartes():\n",
    "    ''' Cette fonction distribue les cartes et mets en place un tour de jeu '''\n",
    "    \n",
    "    # Préparer toutes les variables globales\n",
    "    global resultat,jouer,paquet,main_joueur,main_banque,jetons,pari\n",
    "    \n",
    "    # Crée le paquet\n",
    "    paquet = Paquet()\n",
    "    \n",
    "    #Le mélanger\n",
    "    paquet.mélanger()\n",
    "    \n",
    "    #Faire un pari\n",
    "    parier()\n",
    "    \n",
    "    #Préparer les mains du joueur et de la banque\n",
    "    main_joueur = Main()\n",
    "    main_banque = Main()\n",
    "    \n",
    "    # Distribuer les premières cartes\n",
    "    main_joueur.ajoute_carte(paquet.donne())\n",
    "    main_joueur.ajoute_carte(paquet.donne())\n",
    "    \n",
    "    main_banque.ajoute_carte(paquet.donne())\n",
    "    main_banque.ajoute_carte(paquet.donne())\n",
    "    \n",
    "    resultat = \"(J)oue ou (P)asse? tapez J ou P : \"\n",
    "    \n",
    "    if jouer == True:\n",
    "        print ('Je me couche, désolé')\n",
    "        jetons -= pari\n",
    "    \n",
    "    # Mise en place pour avoir la main en cours de jeu\n",
    "    jouer = True \n",
    "    tour_de_jeu()"
   ]
  },
  {
   "cell_type": "markdown",
   "metadata": {},
   "source": [
    "Maintenant la fonction pour continuer et tirer une autre carte"
   ]
  },
  {
   "cell_type": "code",
   "execution_count": null,
   "metadata": {
    "collapsed": false
   },
   "outputs": [],
   "source": [
    "def continuer():\n",
    "    \n",
    "    ''' Continuer à tirer une carte '''\n",
    "    global jouer,jetons,paquet,main_joueur,main_banque,resultat,pari\n",
    "    \n",
    "    # If hand is in play add card\n",
    "    if jouer:\n",
    "        if main_joueur.calc_val() <= 21:\n",
    "            main_joueur.ajoute_carte(paquet.donne())\n",
    "        \n",
    "        print (\"La main du joueur est %s\" %main_joueur)\n",
    "        \n",
    "        if main_joueur.calc_val() > 21:\n",
    "            resultat = 'Vous avez sauté ! '+ rejouer_phrase\n",
    "            \n",
    "            jetons -= pari\n",
    "            jouer = False\n",
    "    \n",
    "    else:\n",
    "        resultat = \"Désolé, vous ne pouvez plus enchérir \" + rejouer_phrase\n",
    "    \n",
    "    tour_de_jeu()"
   ]
  },
  {
   "cell_type": "markdown",
   "metadata": {},
   "source": [
    "La fonction pour passer son tour"
   ]
  },
  {
   "cell_type": "code",
   "execution_count": null,
   "metadata": {
    "collapsed": true
   },
   "outputs": [],
   "source": [
    "def passer():\n",
    "    global jouer,jetons,paquet,main_joueur,main_banque,resultat,pari\n",
    "    ''' Cette fonction oue pour la banque puisque le joueur a décidé de passer '''\n",
    "    \n",
    "    if jouer == False:\n",
    "        if main_joueur.calc_val() > 0:\n",
    "            resultat = \"Désolé, vous ne pouvez pas passer !\"\n",
    "            \n",
    "    # Toutes les options de jeu\n",
    "    else:\n",
    "        \n",
    "        # Règle du 17\n",
    "        while main_banque.calc_val() < 17:\n",
    "            main_banque.ajoute_carte(paquet.donne())\n",
    "            \n",
    "        # La banque saute    \n",
    "        if main_banque.calc_val() > 21:\n",
    "            resultat = 'La banque a sauté ! Vous avez gagné !' + rejouer_phrase\n",
    "            jetons += pari\n",
    "            jouer = False\n",
    "            \n",
    "        # Le joueur a une main meilleure que la banque\n",
    "        elif main_banque.calc_val() < main_joueur.calc_val():\n",
    "            resultat = 'Vous avez battu la banque, vous avez gagné !' + rejouer_phrase\n",
    "            jetons += pari\n",
    "            jouer = False\n",
    "        \n",
    "        # Push\n",
    "        elif main_banque.calc_val() == main_joueur.calc_val():\n",
    "            resultat = 'Tied up, push!' + rejouer_phrase\n",
    "            jouer = False\n",
    "        \n",
    "        # La banque a gagné\n",
    "        else:\n",
    "            resultat = 'La banque a gagné !' + rejouer_phrase\n",
    "            jetons -= pari\n",
    "            jouer = False\n",
    "    tour_de_jeu()"
   ]
  },
  {
   "cell_type": "markdown",
   "metadata": {},
   "source": [
    "La fonction pour afficher la situation du jeu et demander au joueur ce qu'il souhaite faire"
   ]
  },
  {
   "cell_type": "code",
   "execution_count": null,
   "metadata": {
    "collapsed": false
   },
   "outputs": [],
   "source": [
    "def tour_de_jeu():\n",
    "    '''Fonction pour afficher la situation de jeu'''\n",
    "    \n",
    "    # Afficher la main du joueur\n",
    "    print(\"\")\n",
    "    print('La main du joueur : '),\n",
    "    main_joueur.tirer(caché =False)\n",
    "    \n",
    "    print ('Les points de la main du joueur : '+str(main_joueur.calc_val()))\n",
    "    \n",
    "    # Afficher la main de la banque\n",
    "    print('La main de la banque : '),\n",
    "    main_banque.tirer(caché=True)\n",
    "    \n",
    "    # Si le tour de jeu est terminé\n",
    "    if jouer == False:\n",
    "        print (\" --- pour un total de \" + str(main_banque.calc_val() ))\n",
    "        print (\"Total de jetons : \" + str(jetons))\n",
    "    # Sinon, on ne connait pas encore la deuxième carte\n",
    "    else: \n",
    "        print (\" avec une autre carte cachée posée face dessous.\")\n",
    "    \n",
    "    # Afficher le résultat enchérir ou passer\n",
    "    print (resultat)\n",
    "    \n",
    "    action_joueur()"
   ]
  },
  {
   "cell_type": "markdown",
   "metadata": {},
   "source": [
    "Fonction pour sortir du jeu"
   ]
  },
  {
   "cell_type": "code",
   "execution_count": null,
   "metadata": {
    "collapsed": true
   },
   "outputs": [],
   "source": [
    "def sortie_jeu():\n",
    "    print ('Merci de votre participation !')\n",
    "    exit()"
   ]
  },
  {
   "cell_type": "markdown",
   "metadata": {},
   "source": [
    "Fonction pour lire l'action demandée par le joueur"
   ]
  },
  {
   "cell_type": "code",
   "execution_count": null,
   "metadata": {
    "collapsed": true
   },
   "outputs": [],
   "source": [
    "def action_joueur():\n",
    "    ''' Demande son action au joueur, tout en minuscules pour être tranquille'''\n",
    "    plin = input().lower()\n",
    "    \n",
    "    if plin == 'j':\n",
    "        continuer()\n",
    "    elif plin == 'p':\n",
    "        passer()\n",
    "    elif plin == 'd':\n",
    "        distribue_cartes()\n",
    "    elif plin == 'q':\n",
    "        sortie_jeu()\n",
    "    else:\n",
    "        print (\"Je n'ai pas compris...Tapez j, p, d, ou q: \")\n",
    "        action_joueur()"
   ]
  },
  {
   "cell_type": "markdown",
   "metadata": {},
   "source": [
    "Une présentation rapide du jeu"
   ]
  },
  {
   "cell_type": "code",
   "execution_count": null,
   "metadata": {
    "collapsed": true
   },
   "outputs": [],
   "source": [
    "def intro():\n",
    "    statement = '''Bienvenue au BlackJack! Essayez de vous approcher aussi près que possible de 21 sans aller plus loin !\n",
    "     La banque enchéri jusqu'à ce qu'elle atteigne 17. Les as comptent 1 ou 11.\n",
    "     Les cartes sont représentées par leur figure ou un numéro et leur couleur'''\n",
    "    print (statement)"
   ]
  },
  {
   "cell_type": "markdown",
   "metadata": {},
   "source": [
    "Jouons !"
   ]
  },
  {
   "cell_type": "code",
   "execution_count": null,
   "metadata": {
    "collapsed": false
   },
   "outputs": [],
   "source": [
    "''' Ce code va lancer le jeu! (Note: Il faut avoir auparavent exécuté toutes les cellules)'''\n",
    "\n",
    "# Crée un paquet\n",
    "paquet = Paquet()\n",
    "# Le mélanger\n",
    "paquet.mélanger()\n",
    "# Créer la main du joueur et de la banque\n",
    "main_joueur = Main()\n",
    "main_banque = Main()\n",
    "# Afficher l'introduction\n",
    "intro()\n",
    "# Distribuer les cartes et commencer à jouer !\n",
    "distribue_cartes()"
   ]
  },
  {
   "cell_type": "code",
   "execution_count": null,
   "metadata": {
    "collapsed": true
   },
   "outputs": [],
   "source": []
  }
 ],
 "metadata": {
  "anaconda-cloud": {},
  "kernelspec": {
   "display_name": "Python 3",
   "language": "python",
   "name": "python3"
  },
  "language_info": {
   "codemirror_mode": {
    "name": "ipython",
    "version": 3
   },
   "file_extension": ".py",
   "mimetype": "text/x-python",
   "name": "python",
   "nbconvert_exporter": "python",
   "pygments_lexer": "ipython3",
   "version": "3.6.0"
  }
 },
 "nbformat": 4,
 "nbformat_minor": 0
}
