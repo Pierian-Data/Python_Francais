{
 "cells": [
  {
   "cell_type": "markdown",
   "metadata": {},
   "source": [
    "# Deuxième projet d'étape - jeu de Blackjack\n",
    "Dans ce projet, vous allez créer un jeu de cartes BlackJack complet en Python.\n",
    "\n",
    "Voici le détail de votre mission :\n",
    "\n",
    "* Vous allez créer un jeu de [BlackJack](https://fr.wikipedia.org/wiki/Blackjack_%28jeu%29) en mode texte.\n",
    "* Le jeu devra avoir un joueur contre une banque automatique.\n",
    "* Le joueur peut passer ou prendre une carte.\n",
    "* Le joueur doit pouvoir choisir le montant du pari.\n",
    "* Vous devez garder en mémoire le montant de l'argent du joueur.\n",
    "* Vous devez informer le joueur des gains, des pertes, etc.\n",
    "\n",
    "Et très important :\n",
    "\n",
    "* **Vous devez utiliser la programmation objet et les classes dans une partie de votre jeu. Vous ne devez pas vous limiter à utiliser des fonctions. Utilisez des classes pour vous aider à définir le sabot et la main du joueur. Il existe de nombreuses façons de le faire, alors bonne exploration !**\n",
    "\n",
    "N'hésitez pas à développer ce jeu: essayez d'autoriser plusieurs joueurs. Essayez d'ajouter la possibilité de Doubler et les splits ! N'oubliez pas que vous êtes libre d'utiliser les ressources que vous voulez et comme toujours :\n",
    "\n",
    "# Amusez vous bien !"
   ]
  },
  {
   "cell_type": "code",
   "execution_count": null,
   "metadata": {
    "collapsed": true
   },
   "outputs": [],
   "source": []
  }
 ],
 "metadata": {
  "anaconda-cloud": {},
  "kernelspec": {
   "display_name": "Python [default]",
   "language": "python",
   "name": "python3"
  },
  "language_info": {
   "codemirror_mode": {
    "name": "ipython",
    "version": 3
   },
   "file_extension": ".py",
   "mimetype": "text/x-python",
   "name": "python",
   "nbconvert_exporter": "python",
   "pygments_lexer": "ipython3",
   "version": "3.5.2"
  }
 },
 "nbformat": 4,
 "nbformat_minor": 0
}
