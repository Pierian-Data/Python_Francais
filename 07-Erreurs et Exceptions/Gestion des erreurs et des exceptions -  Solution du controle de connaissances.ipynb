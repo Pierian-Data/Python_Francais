{
 "cells": [
  {
   "cell_type": "markdown",
   "metadata": {},
   "source": [
    "# Gestion des erreurs et des exceptions\n",
    "## Solution du controle de connaissances"
   ]
  },
  {
   "cell_type": "markdown",
   "metadata": {},
   "source": [
    "### 1er problème\n",
    "\n",
    "Traitez l'exception produite par le code ci-dessous en utilisant des blocs try et except."
   ]
  },
  {
   "cell_type": "code",
   "execution_count": 1,
   "metadata": {
    "collapsed": false
   },
   "outputs": [
    {
     "name": "stdout",
     "output_type": "stream",
     "text": [
      "Une erreur s'est produite !\n"
     ]
    }
   ],
   "source": [
    "try:\n",
    "    for i in ['a','b','c']:\n",
    "        print (i**2)\n",
    "except:\n",
    "    print (\"Une erreur s'est produite !\")"
   ]
  },
  {
   "cell_type": "markdown",
   "metadata": {},
   "source": [
    "### 2ème problème\n",
    "Gérer l'exception produite par le code ci-dessous en utilisant des blocs **try** et **except**. Ensuite, utilisez un bloc **finally** pour afficher 'Tout est terminé.'."
   ]
  },
  {
   "cell_type": "code",
   "execution_count": 3,
   "metadata": {
    "collapsed": false
   },
   "outputs": [
    {
     "name": "stdout",
     "output_type": "stream",
     "text": [
      "On ne peut pas diviser par 0 !\n",
      "Tout est terminé !\n"
     ]
    }
   ],
   "source": [
    "x = 5\n",
    "y = 0\n",
    "try:\n",
    "    z = x/y\n",
    "except ZeroDivisionError:\n",
    "    print (\"On ne peut pas diviser par 0 !\")\n",
    "finally:\n",
    "    print ('Tout est terminé !')"
   ]
  },
  {
   "cell_type": "markdown",
   "metadata": {},
   "source": [
    "### 3ème problème\n",
    "\n",
    "Ecrire une fonction qui demande un entier et affiche le carré de celui-ci. Utilisez une boucle while avec des blocs try, except et else pour gérer les entrées incorrectes."
   ]
  },
  {
   "cell_type": "code",
   "execution_count": 8,
   "metadata": {
    "collapsed": false
   },
   "outputs": [],
   "source": [
    "def demande():\n",
    "    \n",
    "    while True:\n",
    "        try:\n",
    "            n = int(input('Tapez un entier : '))\n",
    "        except:\n",
    "            print (\"Une erreur s'est produite ! Merci d'essayer à nouveau !\")\n",
    "            continue\n",
    "        else:\n",
    "            break\n",
    "    print ('Merci, votre nombre au carré est : ',n**2)"
   ]
  },
  {
   "cell_type": "code",
   "execution_count": 9,
   "metadata": {
    "collapsed": false
   },
   "outputs": [
    {
     "name": "stdout",
     "output_type": "stream",
     "text": [
      "Tapez un entier : e\n",
      "Une erreur s'est produite ! Merci d'essayer à nouveau !\n",
      "Tapez un entier : A\n",
      "Une erreur s'est produite ! Merci d'essayer à nouveau !\n",
      "Tapez un entier : 12121\n",
      "Merci, votre nombre au carré est :  146918641\n"
     ]
    }
   ],
   "source": [
    "demande()"
   ]
  },
  {
   "cell_type": "markdown",
   "metadata": {},
   "source": [
    "# Bravo !"
   ]
  }
 ],
 "metadata": {
  "anaconda-cloud": {},
  "kernelspec": {
   "display_name": "Python [default]",
   "language": "python",
   "name": "python3"
  },
  "language_info": {
   "codemirror_mode": {
    "name": "ipython",
    "version": 3
   },
   "file_extension": ".py",
   "mimetype": "text/x-python",
   "name": "python",
   "nbconvert_exporter": "python",
   "pygments_lexer": "ipython3",
   "version": "3.5.2"
  }
 },
 "nbformat": 4,
 "nbformat_minor": 0
}
