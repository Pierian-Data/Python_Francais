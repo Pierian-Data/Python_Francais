{
 "cells": [
  {
   "cell_type": "markdown",
   "metadata": {},
   "source": [
    "# Gestion des erreurs et des exceptions\n",
    "\n",
    "Dans cette leçon, nous allons apprendre à gérer les erreurs et les exceptions en Python. Vous avez certainement déjà rencontré des erreurs en codant les exercices du cours.\n",
    "Par exemple:"
   ]
  },
  {
   "cell_type": "code",
   "execution_count": 1,
   "metadata": {},
   "outputs": [
    {
     "ename": "SyntaxError",
     "evalue": "EOL while scanning string literal (<ipython-input-1-cce31fab3614>, line 1)",
     "output_type": "error",
     "traceback": [
      "\u001b[0;36m  File \u001b[0;32m\"<ipython-input-1-cce31fab3614>\"\u001b[0;36m, line \u001b[0;32m1\u001b[0m\n\u001b[0;31m    print ('Bonjour)\u001b[0m\n\u001b[0m                    ^\u001b[0m\n\u001b[0;31mSyntaxError\u001b[0m\u001b[0;31m:\u001b[0m EOL while scanning string literal\n"
     ]
    }
   ],
   "source": [
    "print ('Bonjour)"
   ]
  },
  {
   "cell_type": "markdown",
   "metadata": {},
   "source": [
    "Remarquez pourquoi nous obtenons une Erreur de Syntaxe (SyntaxError), avec l'expliquation supplémentaire qu'il s'agit en fait d'un EOL (End of Line Error) lors de la lecture de la chaîne de caractères. Ceci est assez précis pour comprendre que nous avons oublié une apostrophe à la fin de la chaine. Comprendre les différents types d'erreur vous aidera à déboguer votre code beaucoup plus rapidement.\n",
    "\n",
    "Ce type d'erreur et de description est connu sous le nom d'Exception. Même si une instruction ou une expression est syntaxiquement correcte, elle peut provoquer une erreur à l'exécution. Les erreurs détectées pendant l'exécution sont appelées exceptions et ne sont pas inconditionnellement fatales.\n",
    "\n",
    "Vous pouvez consulter la liste complète des exceptions intégrées [ici](https://docs.python.org/3.7/library/exceptions.html). Maintenant voyons comment gérer les erreurs et les exceptions dans notre code."
   ]
  },
  {
   "cell_type": "markdown",
   "metadata": {},
   "source": [
    "## try et except\n",
    "\n",
    "La terminologie et la syntaxe de base utilisées pour gérer les erreurs en Python sont les instructions **try** et **except**. Le code qui peut provoquer une exception est placé dans le bloc *try* et le traitement de l'exception est implémenté dans le bloc de code *except*. La syntaxe est la suivante :\n",
    "\n",
    "    try:\n",
    "       Vos opérations sont ici...\n",
    "       ...\n",
    "    except ExceptionI:\n",
    "       Si une ExceptionI ce produit, ce bloc sera exécuté.\n",
    "    except ExceptionII:\n",
    "       Si une ExceptionII ce produit, ce bloc sera exécuté.\n",
    "       ...\n",
    "    else:\n",
    "       S'il ne se produit pas d'exception, ce bloc sera exécuté.\n",
    "\n",
    "Nous pouvons également tester n'importe quelle exception en utilisant except: sans autre paramètre. Pour mieux comprendre tout cela, voici un autre exemple: Nous allons voir ce code qui ouvre et écrit dans un fichier:"
   ]
  },
  {
   "cell_type": "code",
   "execution_count": 4,
   "metadata": {},
   "outputs": [
    {
     "name": "stdout",
     "output_type": "stream",
     "text": [
      "Contenu écrit avec succès\n"
     ]
    }
   ],
   "source": [
    "try:\n",
    "    f = open('fichiertest','w')\n",
    "    f.write('On écrit une ligne')\n",
    "except IOError:\n",
    "    # Ceci va tester si une exception IOError se produit et afficher un message d'erreur\n",
    "   print (\"Erreur: Fichier non trouvé ou données non lisibles\")\n",
    "else:\n",
    "   print (\"Contenu écrit avec succès\")\n",
    "   f.close()"
   ]
  },
  {
   "cell_type": "markdown",
   "metadata": {},
   "source": [
    "Voyons maintenant ce qui se passerait si nous n'avions pas d'autorisation d'écriture (ouverture uniquement avec 'r'):"
   ]
  },
  {
   "cell_type": "code",
   "execution_count": 8,
   "metadata": {},
   "outputs": [
    {
     "name": "stdout",
     "output_type": "stream",
     "text": [
      "Erreur: Fichier non trouvé ou données non lisibles\n"
     ]
    }
   ],
   "source": [
    "try:\n",
    "    f = open('fichiertest','r')\n",
    "    f.write('On écrit une ligne')\n",
    "except IOError:\n",
    "    # Ceci va tester si une exception IOError se produit et afficher un message d'erreur\n",
    "   print (\"Erreur: Fichier non trouvé ou données non lisibles\")\n",
    "else:\n",
    "   print (\"Contenu écrit avec succès\")\n",
    "   f.close()"
   ]
  },
  {
   "cell_type": "markdown",
   "metadata": {},
   "source": [
    "Bravo ! Remarquez que nous avons seulement affiché un message ! Le code a fonctionné et nous avons pu continuer à faire des actions et à exécuter des blocs de code. Cela est extrêmement utile lorsque vous craignez de recevoir des erreurs d'entrées dans votre code par exemple. Vous pouvez traiter l'erreur et continuer à exécuter le code, au lieu qu'il s'arrête brutalement, comme nous l'avons vu ci-dessus.\n",
    "\n",
    "Nous aurions pu utiliser except: sans paramètre si nous ne savions pas quelle exception se produirait.\n",
    "Par exemple:"
   ]
  },
  {
   "cell_type": "code",
   "execution_count": 9,
   "metadata": {},
   "outputs": [
    {
     "name": "stdout",
     "output_type": "stream",
     "text": [
      "Erreur: Fichier non trouvé ou données non lisibles\n"
     ]
    }
   ],
   "source": [
    "try:\n",
    "    f = open('fichiertest','r')\n",
    "    f.write('On écrit une ligne')\n",
    "except IOError:\n",
    "    # Ceci va tester si une exception IOError se produit et afficher un message d'erreur\n",
    "   print (\"Erreur: Fichier non trouvé ou données non lisibles\")\n",
    "else:\n",
    "   print (\"Contenu écrit avec succès\")\n",
    "   f.close()"
   ]
  },
  {
   "cell_type": "markdown",
   "metadata": {},
   "source": [
    "Génial ! Nous n'avons donc pas besoin de mémoriser la liste des exceptions ! Maintenant, que se passe-t-il si nous voulions continuer à exécuter le code après avoir reçu et traité une exception ?\n",
    "C'est là que l'instruction **finaly** entre en scène.\n",
    "\n",
    "## finally\n",
    "Le bloc de code finally: sera toujours exécuté, qu'il se produise ou non une exception dans le code du bloc try.\n",
    "Voici la syntaxe :\n",
    "\n",
    "    try:\n",
    "       Le code du bloc ici...\n",
    "       ...\n",
    "       À cause d'une exception, ce code pourrait ne jamais être exécuté.\n",
    "    finally:\n",
    "      Ce code sera toujours exécuté.\n",
    "\n",
    "Par exemple:"
   ]
  },
  {
   "cell_type": "code",
   "execution_count": 10,
   "metadata": {},
   "outputs": [
    {
     "name": "stdout",
     "output_type": "stream",
     "text": [
      "Exécute toujours cette portion de code au final\n"
     ]
    }
   ],
   "source": [
    "try:\n",
    "    f = open('fichiertest','w')\n",
    "    f.write('On écrit une ligne')\n",
    "finally:\n",
    "   print (\"Exécute toujours cette portion de code au final\")"
   ]
  },
  {
   "cell_type": "markdown",
   "metadata": {},
   "source": [
    "Nous pouvons utiliser ceci en conjonction avec except. Voyons un nouvel exemple qui va gérer les mauvaises frappes en entrée par un utilisateur."
   ]
  },
  {
   "cell_type": "code",
   "execution_count": 14,
   "metadata": {},
   "outputs": [],
   "source": [
    "def demandeInt():\n",
    "        try:\n",
    "            val = int(input(\"Merci de taper un entier : \"))\n",
    "        except:\n",
    "            print (\"Il semble que vous n'avez pas tapé un entier !\")\n",
    "            \n",
    "        finally:\n",
    "            print (\"Je suis exécuté au final !\")\n",
    "        print (val)       "
   ]
  },
  {
   "cell_type": "code",
   "execution_count": 15,
   "metadata": {},
   "outputs": [
    {
     "name": "stdout",
     "output_type": "stream",
     "text": [
      "Merci de taper un entier : 5\n",
      "Je suis exécuté au final !\n",
      "5\n"
     ]
    }
   ],
   "source": [
    "demandeInt()"
   ]
  },
  {
   "cell_type": "code",
   "execution_count": 16,
   "metadata": {},
   "outputs": [
    {
     "name": "stdout",
     "output_type": "stream",
     "text": [
      "Merci de taper un entier : A\n",
      "Il semble que vous n'avez pas tapé un entier !\n",
      "Je suis exécuté au final !\n"
     ]
    },
    {
     "ename": "UnboundLocalError",
     "evalue": "local variable 'val' referenced before assignment",
     "output_type": "error",
     "traceback": [
      "\u001b[0;31m---------------------------------------------------------------------------\u001b[0m",
      "\u001b[0;31mUnboundLocalError\u001b[0m                         Traceback (most recent call last)",
      "\u001b[0;32m<ipython-input-16-eacdbab80829>\u001b[0m in \u001b[0;36m<module>\u001b[0;34m()\u001b[0m\n\u001b[0;32m----> 1\u001b[0;31m \u001b[0mdemandeInt\u001b[0m\u001b[0;34m(\u001b[0m\u001b[0;34m)\u001b[0m\u001b[0;34m\u001b[0m\u001b[0m\n\u001b[0m",
      "\u001b[0;32m<ipython-input-14-5e33c90aa81e>\u001b[0m in \u001b[0;36mdemandeInt\u001b[0;34m()\u001b[0m\n\u001b[1;32m      7\u001b[0m         \u001b[0;32mfinally\u001b[0m\u001b[0;34m:\u001b[0m\u001b[0;34m\u001b[0m\u001b[0m\n\u001b[1;32m      8\u001b[0m             \u001b[0mprint\u001b[0m \u001b[0;34m(\u001b[0m\u001b[0;34m\"Je suis exécuté au final !\"\u001b[0m\u001b[0;34m)\u001b[0m\u001b[0;34m\u001b[0m\u001b[0m\n\u001b[0;32m----> 9\u001b[0;31m         \u001b[0mprint\u001b[0m \u001b[0;34m(\u001b[0m\u001b[0mval\u001b[0m\u001b[0;34m)\u001b[0m\u001b[0;34m\u001b[0m\u001b[0m\n\u001b[0m",
      "\u001b[0;31mUnboundLocalError\u001b[0m: local variable 'val' referenced before assignment"
     ]
    }
   ],
   "source": [
    "demandeInt()"
   ]
  },
  {
   "cell_type": "markdown",
   "metadata": {},
   "source": [
    "Notez comment nous avons obtenu une erreur en essayant d'afficher la variable val (parce qu'elle n'a jamais été correctement assignée). Nous allons remédier à cela en demandant à l'utilisateur et nous assurer que le type d'entrée est bien un entier:"
   ]
  },
  {
   "cell_type": "code",
   "execution_count": 24,
   "metadata": {},
   "outputs": [],
   "source": [
    "def demandeInt():\n",
    "        try:\n",
    "            val = int(input(\"Merci de taper un entier : \"))\n",
    "        except:\n",
    "            print (\"Il semble que vous n'avez pas tapé un entier !\")\n",
    "            val = int(input(\"Essayez de nouveau - Merci de taper un entier : \"))            \n",
    "        finally:\n",
    "            print (\"Je suis exécuté au final !\")\n",
    "        print (val)"
   ]
  },
  {
   "cell_type": "code",
   "execution_count": 25,
   "metadata": {},
   "outputs": [
    {
     "name": "stdout",
     "output_type": "stream",
     "text": [
      "Merci de taper un entier : A\n",
      "Il semble que vous n'avez pas tapé un entier !\n",
      "Essayez de nouveau - Merci de taper un entier : A\n",
      "Je suis exécuté au final !\n"
     ]
    },
    {
     "ename": "ValueError",
     "evalue": "invalid literal for int() with base 10: 'A'",
     "output_type": "error",
     "traceback": [
      "\u001b[0;31m---------------------------------------------------------------------------\u001b[0m",
      "\u001b[0;31mValueError\u001b[0m                                Traceback (most recent call last)",
      "\u001b[0;32m<ipython-input-24-16d466b160d0>\u001b[0m in \u001b[0;36mdemandeInt\u001b[0;34m()\u001b[0m\n\u001b[1;32m      2\u001b[0m         \u001b[0;32mtry\u001b[0m\u001b[0;34m:\u001b[0m\u001b[0;34m\u001b[0m\u001b[0m\n\u001b[0;32m----> 3\u001b[0;31m             \u001b[0mval\u001b[0m \u001b[0;34m=\u001b[0m \u001b[0mint\u001b[0m\u001b[0;34m(\u001b[0m\u001b[0minput\u001b[0m\u001b[0;34m(\u001b[0m\u001b[0;34m\"Merci de taper un entier : \"\u001b[0m\u001b[0;34m)\u001b[0m\u001b[0;34m)\u001b[0m\u001b[0;34m\u001b[0m\u001b[0m\n\u001b[0m\u001b[1;32m      4\u001b[0m         \u001b[0;32mexcept\u001b[0m\u001b[0;34m:\u001b[0m\u001b[0;34m\u001b[0m\u001b[0m\n",
      "\u001b[0;31mValueError\u001b[0m: invalid literal for int() with base 10: 'A'",
      "\nDuring handling of the above exception, another exception occurred:\n",
      "\u001b[0;31mValueError\u001b[0m                                Traceback (most recent call last)",
      "\u001b[0;32m<ipython-input-25-eacdbab80829>\u001b[0m in \u001b[0;36m<module>\u001b[0;34m()\u001b[0m\n\u001b[0;32m----> 1\u001b[0;31m \u001b[0mdemandeInt\u001b[0m\u001b[0;34m(\u001b[0m\u001b[0;34m)\u001b[0m\u001b[0;34m\u001b[0m\u001b[0m\n\u001b[0m",
      "\u001b[0;32m<ipython-input-24-16d466b160d0>\u001b[0m in \u001b[0;36mdemandeInt\u001b[0;34m()\u001b[0m\n\u001b[1;32m      4\u001b[0m         \u001b[0;32mexcept\u001b[0m\u001b[0;34m:\u001b[0m\u001b[0;34m\u001b[0m\u001b[0m\n\u001b[1;32m      5\u001b[0m             \u001b[0mprint\u001b[0m \u001b[0;34m(\u001b[0m\u001b[0;34m\"Il semble que vous n'avez pas tapé un entier !\"\u001b[0m\u001b[0;34m)\u001b[0m\u001b[0;34m\u001b[0m\u001b[0m\n\u001b[0;32m----> 6\u001b[0;31m             \u001b[0mval\u001b[0m \u001b[0;34m=\u001b[0m \u001b[0mint\u001b[0m\u001b[0;34m(\u001b[0m\u001b[0minput\u001b[0m\u001b[0;34m(\u001b[0m\u001b[0;34m\"Essayez de nouveau - Merci de taper un entier : \"\u001b[0m\u001b[0;34m)\u001b[0m\u001b[0;34m)\u001b[0m\u001b[0;34m\u001b[0m\u001b[0m\n\u001b[0m\u001b[1;32m      7\u001b[0m         \u001b[0;32mfinally\u001b[0m\u001b[0;34m:\u001b[0m\u001b[0;34m\u001b[0m\u001b[0m\n\u001b[1;32m      8\u001b[0m             \u001b[0mprint\u001b[0m \u001b[0;34m(\u001b[0m\u001b[0;34m\"Je suis exécuté au final !\"\u001b[0m\u001b[0;34m)\u001b[0m\u001b[0;34m\u001b[0m\u001b[0m\n",
      "\u001b[0;31mValueError\u001b[0m: invalid literal for int() with base 10: 'A'"
     ]
    }
   ],
   "source": [
    "demandeInt()"
   ]
  },
  {
   "cell_type": "markdown",
   "metadata": {},
   "source": [
    "Hmmm ... cela ne fait qu'un seul contrôle. Comment pouvons-nous vérifier continuellement ? Nous pouvons utiliser une boucle while !"
   ]
  },
  {
   "cell_type": "code",
   "execution_count": 28,
   "metadata": {
    "collapsed": true
   },
   "outputs": [],
   "source": [
    "def demandeInt():\n",
    "    while True:\n",
    "        try:\n",
    "            val = int(input(\"Merci de taper un entier : \"))\n",
    "        except:\n",
    "            print (\"Il semble que vous n'avez pas tapé un entier !\")\n",
    "            continue\n",
    "        else:\n",
    "            print(\"Merci, c'est bien un entier !\")\n",
    "            break\n",
    "        finally:\n",
    "            print (\"Je suis exécuté au final !\")\n",
    "        print (val)"
   ]
  },
  {
   "cell_type": "code",
   "execution_count": 29,
   "metadata": {},
   "outputs": [
    {
     "name": "stdout",
     "output_type": "stream",
     "text": [
      "Merci de taper un entier : A\n",
      "Il semble que vous n'avez pas tapé un entier !\n",
      "Je suis exécuté au final !\n",
      "Merci de taper un entier : Z\n",
      "Il semble que vous n'avez pas tapé un entier !\n",
      "Je suis exécuté au final !\n",
      "Merci de taper un entier : E\n",
      "Il semble que vous n'avez pas tapé un entier !\n",
      "Je suis exécuté au final !\n",
      "Merci de taper un entier : 1\n",
      "Merci, c'est bien un entier !\n",
      "Je suis exécuté au final !\n"
     ]
    }
   ],
   "source": [
    "demandeInt()"
   ]
  },
  {
   "cell_type": "markdown",
   "metadata": {},
   "source": [
    "**Bravo ! Maintenant, vous savez comment gérer les erreurs et les exceptions dans Python avec les instructions try, except, else, et finally !"
   ]
  },
  {
   "cell_type": "code",
   "execution_count": null,
   "metadata": {
    "collapsed": true
   },
   "outputs": [],
   "source": []
  }
 ],
 "metadata": {
  "anaconda-cloud": {},
  "kernelspec": {
   "display_name": "Python 3",
   "language": "python",
   "name": "python3"
  },
  "language_info": {
   "codemirror_mode": {
    "name": "ipython",
    "version": 3
   },
   "file_extension": ".py",
   "mimetype": "text/x-python",
   "name": "python",
   "nbconvert_exporter": "python",
   "pygments_lexer": "ipython3",
   "version": "3.6.3"
  }
 },
 "nbformat": 4,
 "nbformat_minor": 1
}
